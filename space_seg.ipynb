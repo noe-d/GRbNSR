{
 "cells": [
  {
   "cell_type": "markdown",
   "id": "0fc6d45f-d016-4b0d-b849-6a8844e3e7fe",
   "metadata": {},
   "source": [
    "<div class=\"alert alert-block alert-info\">\n",
    "<b>Notice:</b> This companion notebook showcases the main features implemented in this repository and unravels code from other python files.\n",
    "   \n",
    "It illustrates the <a href=#generation>generation</a> of controlled datasets of synthetic networks relying on generator functions, as well as its analysis through a Graph Representer method.\n",
    "\n",
    "Based on a module capable of embedding graphs within a vector space, the experimental pipeline is:\n",
    "<li> <a href=#net_emb>Embedding</a> the networks\n",
    "<li> Performing <a href=#classification>classification</a> on the synthetic dataset based on the produced vector representations\n",
    "<li> <a href=#visualise>Visualise</a> the distribution of the representations of the different families of networks generated in 2 dimensions\n",
    "<li> Analysing the ability of the model to produce <a href=#space_seg>semantically coherent representations</a> in the induced space\n",
    "\n",
    "    \n",
    "</div>"
   ]
  },
  {
   "cell_type": "markdown",
   "id": "6775717a-5d7f-43f0-b431-6b89c5e7b16f",
   "metadata": {
    "tags": []
   },
   "source": [
    "# Space Segregation Analysis"
   ]
  },
  {
   "cell_type": "code",
   "execution_count": null,
   "id": "b041b372-3396-4c89-9c0c-2f132746136e",
   "metadata": {},
   "outputs": [],
   "source": [
    "from space_seg.space_seg_classes import *\n",
    "\n",
    "%load_ext autoreload\n",
    "%autoreload 2"
   ]
  },
  {
   "cell_type": "code",
   "execution_count": null,
   "id": "c2b186d8-cf75-42b9-b844-4fd293ffb520",
   "metadata": {},
   "outputs": [],
   "source": [
    "# plotting parameters\n",
    "\n",
    "plt.rcParams.update({'font.size': 14})\n",
    "sns.set(font_scale=1.2, style='white')"
   ]
  },
  {
   "cell_type": "markdown",
   "id": "c2f93c5e-7b8a-45ec-972c-c812bd3d1d43",
   "metadata": {},
   "source": [
    "# Custom Synthetic Dataset Generation <a class=\"anchor\" id=\"generation\"></a>\n",
    "\n",
    "The generation of a controlled dataset relies on pre-determined generators. These tools are used to generate networks stemming from semantically different generative processes.\n",
    "\n",
    "The *generators* and generative process are handled by the `synthetic` pipeline."
   ]
  },
  {
   "cell_type": "markdown",
   "id": "6554254a-f0d3-4ed8-bf7e-9920d832091b",
   "metadata": {},
   "source": [
    "## ✍️ Initialisation <a class=\"anchor\" id=\"init\"></a>"
   ]
  },
  {
   "cell_type": "code",
   "execution_count": null,
   "id": "97ea30a1-48b1-48b3-9ff3-a06c696c613b",
   "metadata": {},
   "outputs": [],
   "source": [
    "# generated families, network names, path to the generator file and number of graphs wished\n",
    "\n",
    "gen_fams_dict = {\n",
    "    # Canonical\n",
    "    \"PA\": {\n",
    "        \"k\": {\n",
    "            \"generator_path\": GEN_PATH+\"k.gen\",\n",
    "            \"number_generated\":N_GRAPHS\n",
    "        }\n",
    "    },\n",
    "    \"ER\": {\n",
    "        \"c1\": {\n",
    "            \"generator_path\": GEN_PATH+\"c1.gen\",\n",
    "            \"number_generated\":N_GRAPHS\n",
    "        },\n",
    "    },\n",
    "    \"ID\": {\n",
    "        \"id\": {\n",
    "            \"generator_path\": GEN_PATH+\"id.gen\",\n",
    "            \"number_generated\":N_GRAPHS\n",
    "        }\n",
    "    },\n",
    "    \"d\": {\n",
    "        \"d\": {\n",
    "            \"generator_path\": GEN_PATH+\"d.gen\",\n",
    "            \"number_generated\": N_GRAPHS\n",
    "        }\n",
    "    },\n",
    "\n",
    "}"
   ]
  },
  {
   "cell_type": "code",
   "execution_count": null,
   "id": "bd83110b-465b-40f1-b1a9-5651d88f730a",
   "metadata": {},
   "outputs": [],
   "source": [
    "# generating the grid : number of nodes and edges of the synthetic graphs\n",
    "\n",
    "generated_nodes = np.arange(100, 1100, 100)[:6]\n",
    "generated_densities = np.linspace(0.001, 0.2, 10)\n",
    "\n",
    "MIN_AV_DEG = 5\n",
    "MAX_AV_DEG = 200\n",
    "\n",
    "ve_values = [\n",
    "    (v, e)  \n",
    "    for v in generated_nodes\n",
    "    for e in numbers_of_edges(v\n",
    "                              , densities = generated_densities\n",
    "                             )\n",
    "    if (\n",
    "        coherent_max_edges(nodes=v, edges=e)\n",
    "        and av_deg(v, e) >= MIN_AV_DEG\n",
    "        and av_deg(v, e) <= MAX_AV_DEG\n",
    "    )\n",
    "]"
   ]
  },
  {
   "cell_type": "code",
   "execution_count": null,
   "id": "71d3d7db-a354-4200-924e-ba0115326ddc",
   "metadata": {},
   "outputs": [],
   "source": [
    "for n in generated_nodes:\n",
    "    edges_for_n = [ne[1] for ne in ve_values if ne[0]==n]\n",
    "    print(\"Nodes: {} ( {} distinct number of edges )\".format(n, len(edges_for_n)))\n",
    "    for e in edges_for_n:\n",
    "        print(\"       Edges : {} (<k> = {:.3g})\".format(e, av_deg(n,e)))"
   ]
  },
  {
   "cell_type": "code",
   "execution_count": null,
   "id": "768b02e9-65d2-40e1-a868-cc4af767ccb6",
   "metadata": {},
   "outputs": [],
   "source": [
    "nb_gens = 0\n",
    "for fam_dict_name, fam_dict in gen_fams_dict.items():\n",
    "    print(fam_dict_name)\n",
    "    for gen_name, gen_inf in fam_dict.items():\n",
    "        count = gen_inf[\"number_generated\"]\n",
    "        print(\"\\t> generated with '{n}' ({c} networks)\".format(n=gen_name, c=count))\n",
    "        nb_gens += count\n",
    "        \n",
    "print(\"\\nNumber of graphs to be generated : {}.\".format(nb_gens*len(ve_values)))"
   ]
  },
  {
   "cell_type": "code",
   "execution_count": null,
   "id": "b6662ca0-85e5-4bb3-a080-c88a634b3e6b",
   "metadata": {},
   "outputs": [],
   "source": []
  },
  {
   "cell_type": "markdown",
   "id": "7cf58052-2e86-49e8-a67c-09910179830b",
   "metadata": {
    "tags": []
   },
   "source": [
    "## 🗂 Dataset generation"
   ]
  },
  {
   "cell_type": "markdown",
   "id": "b1399dd5-c5b3-4d20-bbbc-a06f71b56797",
   "metadata": {},
   "source": [
    "<div class=\"alert alert-block alert-warning\">\n",
    "<b>Warning:</b> The generation of the dataset can be very long (and take up to several days to re-generate the original dataset).\n",
    "</div>"
   ]
  },
  {
   "cell_type": "code",
   "execution_count": null,
   "id": "58a91646-077c-4f08-8c54-38b4877e29f6",
   "metadata": {
    "tags": []
   },
   "outputs": [],
   "source": [
    "%%capture\n",
    "netgen = SynNetsGenerator(\n",
    "    generator_dict=gen_fams_dict,\n",
    "    ve_pairs_list=ve_values,\n",
    "    compute_files=True, # SET To ` True ` to generate the network files\n",
    "    do_overwrite = False, # SET To ` True ` to RE-generate the network files\n",
    "    check_load=True, # Set to `True` to still RE-generate empty files\n",
    ")"
   ]
  },
  {
   "cell_type": "markdown",
   "id": "f4393b06-6d48-4faf-bb34-74a5e465b071",
   "metadata": {
    "tags": []
   },
   "source": [
    "# Experiments <a class=\"anchor\" id=\"experiments\"></a>\n",
    "\n",
    "The experimental pipeline can be run with any model allowing to draw vector representations form graphs.\n",
    "\n",
    "Below, the procedure is shown for a simple histogram of degrees."
   ]
  },
  {
   "cell_type": "code",
   "execution_count": null,
   "id": "920ed353-b616-44d3-90ea-6c67dfdc215f",
   "metadata": {},
   "outputs": [],
   "source": [
    "embedder_path = \"DL_module/saved/best_models/trad_degs/\""
   ]
  },
  {
   "cell_type": "markdown",
   "id": "2f0fbe2c-bd11-452e-a79a-38e78f08420f",
   "metadata": {},
   "source": [
    "## 📍 Computing embeddings <a class=\"anchor\" id=\"net_emb\"></a>\n",
    "\n",
    "First, we get the networks' representations which will be the base material for subsequent analysis."
   ]
  },
  {
   "cell_type": "code",
   "execution_count": null,
   "id": "d7c252fb-0d74-4e48-ac1f-a62064df8e44",
   "metadata": {},
   "outputs": [],
   "source": [
    "embdegs = load_embedder(embedder_path)"
   ]
  },
  {
   "cell_type": "code",
   "execution_count": null,
   "id": "dd3721c7-c55a-40d0-af51-cd609a842d17",
   "metadata": {},
   "outputs": [],
   "source": [
    "%%time\n",
    "\n",
    "netemb = netgen.make_embedder(\n",
    "    **{\n",
    "        \"embedding_method\": lambda net: embed_deep(net, embedder_method=embdegs),\n",
    "        #\"reducer\": TSNE()#PCA(n_components=2)\n",
    "    }\n",
    ")"
   ]
  },
  {
   "cell_type": "code",
   "execution_count": null,
   "id": "363ac1cd-e7b6-41ca-9a56-ae11ea2fa6c3",
   "metadata": {},
   "outputs": [],
   "source": [
    "netana = netemb.make_analyzer(\n",
    "    #**{\"common_p\":True}\n",
    ")"
   ]
  },
  {
   "cell_type": "markdown",
   "id": "80d3e820-4435-4752-a819-a42a5ab5bfb6",
   "metadata": {},
   "source": [
    "## 🎱 Classification <a class=\"anchor\" id=\"classification\"></a>\n",
    "\n",
    "This section presents the ability of the model to retrieve the semantic families of the networks based on their vector representations. The classification is performed with a SVC classifier from `scikit-learn`."
   ]
  },
  {
   "cell_type": "code",
   "execution_count": null,
   "id": "abaea9f7-ddaa-4dc1-88a0-512580f1c613",
   "metadata": {},
   "outputs": [],
   "source": [
    "netana.classify()"
   ]
  },
  {
   "cell_type": "code",
   "execution_count": null,
   "id": "7512a175-30fd-4f84-b437-a1455fd283f9",
   "metadata": {},
   "outputs": [],
   "source": [
    "sns.heatmap(\n",
    "    netana.get_overall_scores(\n",
    "        get_score=\"Micro-F1\", # --> computed with netana.classify()\n",
    "        common_p=True\n",
    "    ),\n",
    "    vmin = 0.25, vmax=1,\n",
    "    annot=True\n",
    ")\n",
    "\n",
    "plt.xticks(rotation=90) \n",
    "plt.tight_layout()\n",
    "plt.show()"
   ]
  },
  {
   "cell_type": "markdown",
   "id": "be49729f-5eb9-41ca-9b80-26112859d9fa",
   "metadata": {},
   "source": [
    "## 🎨 Visualisation <a class=\"anchor\" id=\"visualise\"></a>\n",
    "\n",
    "To get a better intuition on how the representation spaces are orgnised, the distribution of the different families are represented in 2 dimensions. The representations are mapped to 2 dimensions using t-SNE and the distribution are estimated through Kernel Density Estimation (KDE).\n",
    "\n",
    "The code below produces one plot per $(n,m)$ pair in the synthetic dataset. The number of nodes are the rows of the figure and the number of edges its columns."
   ]
  },
  {
   "cell_type": "code",
   "execution_count": null,
   "id": "2ff739d3-9d0d-49a7-93ef-3214a4edd863",
   "metadata": {},
   "outputs": [],
   "source": [
    "%%capture --no-display\n",
    "\n",
    "netana.visualise(\n",
    "    visualise_ve=visualise_kde\n",
    "    , reducer=TSNE()\n",
    ")\n",
    "\n",
    "plt.savefig(\"./illustrations/tsne_kde_graphmae.png\", format=\"png\", dpi=300, transparent=True)"
   ]
  },
  {
   "cell_type": "markdown",
   "id": "f76d9bf7-0e12-4283-b2d0-ecd354bc5984",
   "metadata": {},
   "source": [
    "## 🔎 Space Segregation Analysis <a class=\"anchor\" id=\"space_seg\"></a>\n",
    "\n",
    "Finally, the main objective of this pipeline is to study the geometric organisation of the induced space. To do so, we employ the silhouette score to measure the ability of the model to segregate semantically different networks within distinct regions of the space. The $SC$ score is computed as an aggregate measure for each $(n,m)$ pair, but it is also computed pairwise by taking into consideration each family pair of the synthetic dataset."
   ]
  },
  {
   "cell_type": "code",
   "execution_count": null,
   "id": "6622750a-ede4-4fdd-92fb-5dd281bab7fa",
   "metadata": {},
   "outputs": [],
   "source": [
    "netana.compute_scores()"
   ]
  },
  {
   "cell_type": "code",
   "execution_count": null,
   "id": "0a26ccf6-5da3-4e4c-bbbe-d3fa86594197",
   "metadata": {},
   "outputs": [],
   "source": [
    "netana.plot_overall_scores()\n",
    "\n",
    "plt.tight_layout()\n",
    "#plt.savefig(\"illustrations/space_seg/ov_silhouette_degs.png\")"
   ]
  },
  {
   "cell_type": "code",
   "execution_count": null,
   "id": "eef7a17d-c235-4ece-97f3-64442df7996b",
   "metadata": {},
   "outputs": [],
   "source": [
    "fam2color_dict = {\n",
    "    \"PA\": 'blue',\n",
    "    \"ER\": 'orange',\n",
    "    \"ID\": 'green',\n",
    "    \"d\": 'purple',\n",
    "}"
   ]
  },
  {
   "cell_type": "code",
   "execution_count": null,
   "id": "28fc6da3-ade3-4a05-966a-028dc544d282",
   "metadata": {},
   "outputs": [],
   "source": [
    "netana.plot_families_scores(\n",
    "    fam_to_color_dict=fam2color_dict\n",
    ")\n",
    "\n",
    "plt.tight_layout()\n",
    "plt.show()"
   ]
  },
  {
   "cell_type": "code",
   "execution_count": null,
   "id": "0ed4be35-b1f1-474c-83e2-2d235b3158f2",
   "metadata": {},
   "outputs": [],
   "source": []
  },
  {
   "cell_type": "code",
   "execution_count": null,
   "id": "2cb1eca4-67ae-4063-a82a-72647aa9972d",
   "metadata": {},
   "outputs": [],
   "source": []
  },
  {
   "cell_type": "code",
   "execution_count": null,
   "id": "4e94f1d2-373e-4848-b1de-36ecaef759da",
   "metadata": {},
   "outputs": [],
   "source": []
  }
 ],
 "metadata": {
  "kernelspec": {
   "display_name": "Python 3 (ipykernel)",
   "language": "python",
   "name": "python3"
  },
  "language_info": {
   "codemirror_mode": {
    "name": "ipython",
    "version": 3
   },
   "file_extension": ".py",
   "mimetype": "text/x-python",
   "name": "python",
   "nbconvert_exporter": "python",
   "pygments_lexer": "ipython3",
   "version": "3.10.6"
  }
 },
 "nbformat": 4,
 "nbformat_minor": 5
}
