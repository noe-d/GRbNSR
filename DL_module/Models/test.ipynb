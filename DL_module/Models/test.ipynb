{
 "cells": [
  {
   "cell_type": "code",
   "execution_count": 1,
   "id": "fefcb2bc-1fb5-4454-8626-01d81c013e9c",
   "metadata": {},
   "outputs": [
    {
     "name": "stderr",
     "output_type": "stream",
     "text": [
      "/Users/nmm/miniforge3/envs/env_gdl/lib/python3.10/site-packages/tqdm/auto.py:22: TqdmWarning: IProgress not found. Please update jupyter and ipywidgets. See https://ipywidgets.readthedocs.io/en/stable/user_install.html\n",
      "  from .autonotebook import tqdm as notebook_tqdm\n"
     ]
    }
   ],
   "source": [
    "from encoders import *\n",
    "from model_grssl import *\n",
    "\n",
    "%load_ext autoreload\n",
    "%autoreload 2"
   ]
  },
  {
   "cell_type": "code",
   "execution_count": 2,
   "id": "6d5c0f0c-d74d-4ee9-b6cf-650c47843cc3",
   "metadata": {},
   "outputs": [],
   "source": [
    "t = GRSSLModel(#encoder_name=\"gin\"\n",
    "               #, output_dimension=32\n",
    "              )"
   ]
  },
  {
   "cell_type": "code",
   "execution_count": 3,
   "id": "60138900-46a7-4389-a2ea-8b6206836f77",
   "metadata": {},
   "outputs": [],
   "source": [
    "encoder_test = Encoder(GATConv,\n",
    "                       num_layers = 2,\n",
    "                       input_dimension = 16,\n",
    "                       output_dimension=4,\n",
    "                       hidden_dimension=8,\n",
    "                       **{\n",
    "                           \"num_heads\":4,\n",
    "                           \"feat_drop\":0.3\n",
    "                       }\n",
    "                      )"
   ]
  },
  {
   "cell_type": "code",
   "execution_count": 4,
   "id": "8a4194eb-bd93-41fb-8c8c-419b748b78f6",
   "metadata": {},
   "outputs": [
    {
     "data": {
      "text/plain": [
       "Encoder(\n",
       "  (layers): ModuleList(\n",
       "    (0): GATConv(\n",
       "      (fc): Linear(in_features=16, out_features=32, bias=False)\n",
       "      (feat_drop): Dropout(p=0.3, inplace=False)\n",
       "      (attn_drop): Dropout(p=0.0, inplace=False)\n",
       "      (leaky_relu): LeakyReLU(negative_slope=0.2)\n",
       "      (activation): Identity()\n",
       "    )\n",
       "    (1): GATConv(\n",
       "      (fc): Linear(in_features=8, out_features=16, bias=False)\n",
       "      (feat_drop): Dropout(p=0.3, inplace=False)\n",
       "      (attn_drop): Dropout(p=0.0, inplace=False)\n",
       "      (leaky_relu): LeakyReLU(negative_slope=0.2)\n",
       "      (activation): Identity()\n",
       "    )\n",
       "  )\n",
       ")"
      ]
     },
     "execution_count": 4,
     "metadata": {},
     "output_type": "execute_result"
    }
   ],
   "source": [
    "encoder_test"
   ]
  },
  {
   "cell_type": "code",
   "execution_count": 5,
   "id": "23d0f6ff-fbb2-4bb6-83a8-96bf42393ead",
   "metadata": {},
   "outputs": [
    {
     "data": {
      "text/plain": [
       "GAT(\n",
       "  (layers): ModuleList(\n",
       "    (0): GATv2Conv(\n",
       "      (fc_src): Linear(in_features=4, out_features=256, bias=True)\n",
       "      (fc_dst): Linear(in_features=4, out_features=256, bias=True)\n",
       "      (feat_drop): Dropout(p=0.3, inplace=False)\n",
       "      (attn_drop): Dropout(p=0.0, inplace=False)\n",
       "      (leaky_relu): LeakyReLU(negative_slope=0.2)\n",
       "      (activation): LeakyReLU(negative_slope=0.01)\n",
       "    )\n",
       "    (1): GATv2Conv(\n",
       "      (fc_src): Linear(in_features=32, out_features=32, bias=True)\n",
       "      (fc_dst): Linear(in_features=32, out_features=32, bias=True)\n",
       "      (feat_drop): Dropout(p=0.3, inplace=False)\n",
       "      (attn_drop): Dropout(p=0.0, inplace=False)\n",
       "      (leaky_relu): LeakyReLU(negative_slope=0.2)\n",
       "      (activation): Identity()\n",
       "    )\n",
       "  )\n",
       ")"
      ]
     },
     "execution_count": 5,
     "metadata": {},
     "output_type": "execute_result"
    }
   ],
   "source": [
    "encoder_test2 = GAT(\n",
    "                       num_layers = 2,\n",
    "                       input_dimension = 4,\n",
    "                       output_dimension=4,\n",
    "                       num_heads=8,\n",
    "                       v2=True,\n",
    "                       **{\n",
    "                           \"feat_drop\":0.3,\n",
    "                       }\n",
    "                      )\n",
    "encoder_test2"
   ]
  },
  {
   "cell_type": "code",
   "execution_count": 6,
   "id": "c3c19c87-027c-4a82-8079-743f57735336",
   "metadata": {},
   "outputs": [
    {
     "data": {
      "text/plain": [
       "Encoder(\n",
       "  (layers): ModuleList(\n",
       "    (0): GATConv(\n",
       "      (fc): Linear(in_features=16, out_features=32, bias=False)\n",
       "      (feat_drop): Dropout(p=0.3, inplace=False)\n",
       "      (attn_drop): Dropout(p=0.0, inplace=False)\n",
       "      (leaky_relu): LeakyReLU(negative_slope=0.2)\n",
       "      (activation): Identity()\n",
       "    )\n",
       "    (1): GATConv(\n",
       "      (fc): Linear(in_features=8, out_features=16, bias=False)\n",
       "      (feat_drop): Dropout(p=0.3, inplace=False)\n",
       "      (attn_drop): Dropout(p=0.0, inplace=False)\n",
       "      (leaky_relu): LeakyReLU(negative_slope=0.2)\n",
       "      (activation): Identity()\n",
       "    )\n",
       "    (2): GATv2Conv(\n",
       "      (fc_src): Linear(in_features=4, out_features=256, bias=True)\n",
       "      (fc_dst): Linear(in_features=4, out_features=256, bias=True)\n",
       "      (feat_drop): Dropout(p=0.3, inplace=False)\n",
       "      (attn_drop): Dropout(p=0.0, inplace=False)\n",
       "      (leaky_relu): LeakyReLU(negative_slope=0.2)\n",
       "      (activation): LeakyReLU(negative_slope=0.01)\n",
       "    )\n",
       "    (3): GATv2Conv(\n",
       "      (fc_src): Linear(in_features=32, out_features=32, bias=True)\n",
       "      (fc_dst): Linear(in_features=32, out_features=32, bias=True)\n",
       "      (feat_drop): Dropout(p=0.3, inplace=False)\n",
       "      (attn_drop): Dropout(p=0.0, inplace=False)\n",
       "      (leaky_relu): LeakyReLU(negative_slope=0.2)\n",
       "      (activation): Identity()\n",
       "    )\n",
       "  )\n",
       ")"
      ]
     },
     "execution_count": 6,
     "metadata": {},
     "output_type": "execute_result"
    }
   ],
   "source": [
    "appended_encoders = encoder_test + encoder_test2\n",
    "appended_encoders"
   ]
  },
  {
   "cell_type": "code",
   "execution_count": 7,
   "id": "c69c4a20-2f2f-4213-ad5a-febe84404899",
   "metadata": {},
   "outputs": [
    {
     "data": {
      "text/plain": [
       "4"
      ]
     },
     "execution_count": 7,
     "metadata": {},
     "output_type": "execute_result"
    }
   ],
   "source": [
    "appended_encoders.num_layers"
   ]
  },
  {
   "cell_type": "code",
   "execution_count": 8,
   "id": "0bce90de-7bb1-44ea-a141-2cd8433433b7",
   "metadata": {},
   "outputs": [
    {
     "data": {
      "text/plain": [
       "GCN(\n",
       "  (layers): ModuleList(\n",
       "    (0): GraphConv(\n",
       "      in=16, out=32, normalization=both\n",
       "      (_activation): ReLU()\n",
       "    )\n",
       "    (1): GraphConv(\n",
       "      in=32, out=32, normalization=both\n",
       "      (_activation): ReLU()\n",
       "    )\n",
       "    (2): GraphConv(\n",
       "      in=32, out=32, normalization=both\n",
       "      (_activation): ReLU()\n",
       "    )\n",
       "    (3): GraphConv(\n",
       "      in=32, out=2, normalization=both\n",
       "      (_activation): Identity()\n",
       "    )\n",
       "  )\n",
       "  (linear): Linear(in_features=64, out_features=32, bias=True)\n",
       "  (readout): Set2Set(\n",
       "    n_iters=6\n",
       "    (lstm): LSTM(64, 32, num_layers=3)\n",
       "  )\n",
       ")"
      ]
     },
     "execution_count": 8,
     "metadata": {},
     "output_type": "execute_result"
    }
   ],
   "source": [
    "encoder_test2 = GCN(\n",
    "                       num_layers = 4,\n",
    "                       input_dimension = 16,\n",
    "                       output_dimension=2,\n",
    "                       hidden_dimension=32,\n",
    "    readout_args={\"n_iters\":6, \"n_layers\":3},\n",
    "    readout=\"set2set\",\n",
    "                       **{\n",
    "                           \"allow_zero_in_degree\":False,\n",
    "                           \"norm\":'both',\n",
    "                           \"weight\":False,\n",
    "                       }\n",
    "                      )\n",
    "encoder_test2"
   ]
  },
  {
   "cell_type": "code",
   "execution_count": 9,
   "id": "ebd8cb98-9bba-41d0-bacc-cdc5491bc05a",
   "metadata": {},
   "outputs": [
    {
     "data": {
      "text/plain": [
       "Set2Set(\n",
       "  n_iters=6\n",
       "  (lstm): LSTM(64, 32, num_layers=3)\n",
       ")"
      ]
     },
     "execution_count": 9,
     "metadata": {},
     "output_type": "execute_result"
    }
   ],
   "source": [
    "encoder_test2.readout"
   ]
  },
  {
   "cell_type": "code",
   "execution_count": null,
   "id": "69b54e73-e5ed-4736-b9e2-c8ad5b76b8dd",
   "metadata": {},
   "outputs": [],
   "source": []
  },
  {
   "cell_type": "code",
   "execution_count": 10,
   "id": "80ba0d28-51cf-4d83-b010-aed556378c8f",
   "metadata": {},
   "outputs": [],
   "source": [
    "from torch import Tensor"
   ]
  },
  {
   "cell_type": "code",
   "execution_count": 11,
   "id": "e2a08f25-f0ce-4d71-a276-ad9b7a7c87dd",
   "metadata": {},
   "outputs": [
    {
     "data": {
      "text/plain": [
       "tensor([1., 2.])"
      ]
     },
     "execution_count": 11,
     "metadata": {},
     "output_type": "execute_result"
    }
   ],
   "source": [
    "t = Tensor(2)\n",
    "t[0] = 1\n",
    "t[1] = 2\n",
    "t"
   ]
  },
  {
   "cell_type": "code",
   "execution_count": 12,
   "id": "b60ae6a2-402e-4ee6-b929-20b74c3c3421",
   "metadata": {},
   "outputs": [
    {
     "data": {
      "text/plain": [
       "MLP(\n",
       "  (layers): ModuleList(\n",
       "    (0): PLayer(\n",
       "      in_features=2, out_features=2, bias=True\n",
       "      (act): ReLU()\n",
       "      (norm): Identity()\n",
       "    )\n",
       "    (1): PLayer(\n",
       "      in_features=2, out_features=2, bias=True\n",
       "      (act): ReLU()\n",
       "      (norm): Identity()\n",
       "    )\n",
       "    (2): PLayer(\n",
       "      in_features=2, out_features=2, bias=True\n",
       "      (act): ReLU()\n",
       "      (norm): Identity()\n",
       "    )\n",
       "    (3): PLayer(\n",
       "      in_features=2, out_features=2, bias=True\n",
       "      (act): Identity()\n",
       "      (norm): Identity()\n",
       "    )\n",
       "  )\n",
       ")"
      ]
     },
     "execution_count": 12,
     "metadata": {},
     "output_type": "execute_result"
    }
   ],
   "source": [
    "encoder_mlp = MLP(\n",
    "    num_layers=4,\n",
    "    input_dimension=2,\n",
    "    output_dimension=2,\n",
    "    hidden_dimension=2,\n",
    "    activation='relu'\n",
    ")\n",
    "\n",
    "encoder_mlp"
   ]
  },
  {
   "cell_type": "code",
   "execution_count": null,
   "id": "0bb585be-f5b2-4ffb-8ff5-e442d41fccec",
   "metadata": {},
   "outputs": [],
   "source": []
  },
  {
   "cell_type": "code",
   "execution_count": 13,
   "id": "1aee4237-8e17-4b27-8e2d-7f998b6c43b6",
   "metadata": {},
   "outputs": [
    {
     "data": {
      "text/plain": [
       "tensor([0.8570, 0.0660], grad_fn=<AddBackward0>)"
      ]
     },
     "execution_count": 13,
     "metadata": {},
     "output_type": "execute_result"
    }
   ],
   "source": [
    "encoder_mlp.layers[0].forward(t)"
   ]
  },
  {
   "cell_type": "code",
   "execution_count": 14,
   "id": "9fa1d979-8568-49f4-b88a-3be5a2c1d880",
   "metadata": {},
   "outputs": [
    {
     "data": {
      "text/plain": [
       "tensor([-0.2498,  0.1992], grad_fn=<AddBackward0>)"
      ]
     },
     "execution_count": 14,
     "metadata": {},
     "output_type": "execute_result"
    }
   ],
   "source": [
    "encoder_mlp.forward(t)"
   ]
  },
  {
   "cell_type": "code",
   "execution_count": null,
   "id": "13c15846-06a8-4e83-972e-4f3f80e33380",
   "metadata": {},
   "outputs": [],
   "source": []
  },
  {
   "cell_type": "code",
   "execution_count": null,
   "id": "8467fa13-b182-4724-876e-60db9f112c2c",
   "metadata": {},
   "outputs": [],
   "source": []
  },
  {
   "cell_type": "code",
   "execution_count": null,
   "id": "d88b9709-4f40-493b-b361-e317ce94823b",
   "metadata": {},
   "outputs": [],
   "source": []
  },
  {
   "cell_type": "markdown",
   "id": "39cf693c-66b5-4f31-aa25-714dfdb9d09d",
   "metadata": {},
   "source": [
    "# 🐭 Test experiments"
   ]
  },
  {
   "cell_type": "code",
   "execution_count": 15,
   "id": "da92339c-ec5c-4b61-abd2-956188b33cde",
   "metadata": {},
   "outputs": [
    {
     "name": "stdout",
     "output_type": "stream",
     "text": [
      "The autoreload extension is already loaded. To reload it, use:\n",
      "  %reload_ext autoreload\n"
     ]
    }
   ],
   "source": [
    "import dgl\n",
    "import networkx as nx\n",
    "\n",
    "from encoders import *\n",
    "from model_grssl import *\n",
    "\n",
    "%load_ext autoreload\n",
    "%autoreload 2"
   ]
  },
  {
   "cell_type": "code",
   "execution_count": 16,
   "id": "cbd177d1-812a-4cb7-8e5e-ac9afc8252fa",
   "metadata": {},
   "outputs": [
    {
     "name": "stderr",
     "output_type": "stream",
     "text": [
      "/Users/nmm/miniforge3/envs/env_gdl/lib/python3.10/site-packages/dgl/heterograph.py:72: DGLWarning: Recommend creating graphs by `dgl.graph(data)` instead of `dgl.DGLGraph(data)`.\n",
      "  dgl_warning('Recommend creating graphs by `dgl.graph(data)`'\n"
     ]
    },
    {
     "data": {
      "image/png": "[encoded data removed]",
      "text/plain": [
       "<Figure size 640x480 with 1 Axes>"
      ]
     },
     "metadata": {},
     "output_type": "display_data"
    }
   ],
   "source": [
    "g = dgl.DGLGraph()\n",
    "g.add_nodes(3)\n",
    "g.add_edges([0, 0, 1], [1, 2, 2])\n",
    "feat = torch.rand(3, 128)\n",
    "\n",
    "nx.draw(dgl.to_networkx(g))"
   ]
  },
  {
   "cell_type": "code",
   "execution_count": null,
   "id": "0e4cad89-750c-4216-b570-d89088ed0855",
   "metadata": {},
   "outputs": [],
   "source": []
  },
  {
   "cell_type": "markdown",
   "id": "84ebec44-112d-441d-a79e-b260334b5f37",
   "metadata": {},
   "source": [
    "## GAT"
   ]
  },
  {
   "cell_type": "code",
   "execution_count": 17,
   "id": "28310748-20eb-4f3a-afb5-00194926ef5f",
   "metadata": {},
   "outputs": [
    {
     "data": {
      "text/plain": [
       "0"
      ]
     },
     "execution_count": 17,
     "metadata": {},
     "output_type": "execute_result"
    }
   ],
   "source": [
    "hidden_dimension = int(16*4)\n",
    "hidden_dimension % 4"
   ]
  },
  {
   "cell_type": "code",
   "execution_count": 18,
   "id": "b1775bf0-93c2-4371-aa75-63f21bc7df95",
   "metadata": {},
   "outputs": [
    {
     "name": "stdout",
     "output_type": "stream",
     "text": [
      "GAT(\n",
      "  (layers): ModuleList(\n",
      "    (0): GATConv(\n",
      "      (fc): Linear(in_features=128, out_features=1024, bias=False)\n",
      "      (feat_drop): Dropout(p=0.0, inplace=False)\n",
      "      (attn_drop): Dropout(p=0.0, inplace=False)\n",
      "      (leaky_relu): LeakyReLU(negative_slope=0.2)\n",
      "      (activation): LeakyReLU(negative_slope=0.01)\n",
      "    )\n",
      "    (1): GATConv(\n",
      "      (fc): Linear(in_features=128, out_features=1024, bias=False)\n",
      "      (feat_drop): Dropout(p=0.0, inplace=False)\n",
      "      (attn_drop): Dropout(p=0.0, inplace=False)\n",
      "      (leaky_relu): LeakyReLU(negative_slope=0.2)\n",
      "      (activation): LeakyReLU(negative_slope=0.01)\n",
      "    )\n",
      "    (2): GATConv(\n",
      "      (fc): Linear(in_features=128, out_features=1024, bias=False)\n",
      "      (feat_drop): Dropout(p=0.0, inplace=False)\n",
      "      (attn_drop): Dropout(p=0.0, inplace=False)\n",
      "      (leaky_relu): LeakyReLU(negative_slope=0.2)\n",
      "      (activation): LeakyReLU(negative_slope=0.01)\n",
      "    )\n",
      "    (3): GATConv(\n",
      "      (fc): Linear(in_features=128, out_features=128, bias=False)\n",
      "      (feat_drop): Dropout(p=0.0, inplace=False)\n",
      "      (attn_drop): Dropout(p=0.0, inplace=False)\n",
      "      (leaky_relu): LeakyReLU(negative_slope=0.2)\n",
      "      (activation): Identity()\n",
      "    )\n",
      "  )\n",
      ")\n",
      "..... forwarding\n",
      " => output of size: torch.Size([3, 8, 8, 8, 8, 16])\n"
     ]
    }
   ],
   "source": [
    "# /!\\ v2 does not work\n",
    "model = GAT(\n",
    "    input_dimension=128,\n",
    "    output_dimension=16,\n",
    "    num_layers =4,\n",
    "    #hidden_dimension=64,\n",
    "    \n",
    "    num_heads=8,\n",
    "    activation='relu',\n",
    "    #v2=True,\n",
    "    \n",
    "    allow_zero_in_degree = True\n",
    ")\n",
    "\n",
    "print(model)\n",
    "\n",
    "\n",
    "print(\"..... forwarding\\n => output of size:\", model(g, feat).shape)"
   ]
  },
  {
   "cell_type": "code",
   "execution_count": null,
   "id": "5ea5af8e-c5a9-4a70-96b4-0bdafdce0453",
   "metadata": {},
   "outputs": [],
   "source": []
  },
  {
   "cell_type": "markdown",
   "id": "3ca9c1d1-1553-4723-a7a2-f13c4937916f",
   "metadata": {},
   "source": [
    "## GCN"
   ]
  },
  {
   "cell_type": "code",
   "execution_count": 21,
   "id": "8ac81d76-df35-4b47-bd7f-597d9bb37842",
   "metadata": {},
   "outputs": [
    {
     "name": "stdout",
     "output_type": "stream",
     "text": [
      "GCN(\n",
      "  (layers): ModuleList(\n",
      "    (0): GraphConv(\n",
      "      in=128, out=64, normalization=both\n",
      "      (_activation): ReLU()\n",
      "    )\n",
      "    (1): GraphConv(\n",
      "      in=64, out=64, normalization=both\n",
      "      (_activation): ReLU()\n",
      "    )\n",
      "    (2): GraphConv(\n",
      "      in=64, out=64, normalization=both\n",
      "      (_activation): ReLU()\n",
      "    )\n",
      "    (3): GraphConv(\n",
      "      in=64, out=16, normalization=both\n",
      "      (_activation): Identity()\n",
      "    )\n",
      "  )\n",
      "  (readout): AvgPooling()\n",
      ")\n",
      "..... forwarding\n",
      " => output of size: torch.Size([1, 16])\n"
     ]
    }
   ],
   "source": [
    "model = GCN(\n",
    "    input_dimension=128,\n",
    "    output_dimension=16,\n",
    "    num_layers =4,\n",
    "    hidden_dimension=64,\n",
    "    readout=\"avg\",\n",
    "    layernorm = False,\n",
    "    #set2set_lstm_layer = 3,\n",
    "    #set2set_iter = 6,\n",
    "    activation = 'relu',\n",
    "    allow_zero_in_degree = True\n",
    ")\n",
    "\n",
    "print(model)\n",
    "g = dgl.DGLGraph()\n",
    "g.add_nodes(3)\n",
    "g.add_edges([0, 0, 1], [1, 2, 2])\n",
    "feat = torch.rand(3, 128)\n",
    "\n",
    "print(\"..... forwarding\\n => output of size:\", model(g, feat).shape)"
   ]
  },
  {
   "cell_type": "code",
   "execution_count": null,
   "id": "358b1ba1-3241-477f-95cb-0a04ad6b8442",
   "metadata": {},
   "outputs": [],
   "source": []
  },
  {
   "cell_type": "markdown",
   "id": "69adf462-9bcf-42eb-8047-83c0be88a7dd",
   "metadata": {},
   "source": [
    "## GIN"
   ]
  },
  {
   "cell_type": "code",
   "execution_count": 27,
   "id": "c8c2f396-b277-4fd8-8b1e-aa69156ec0e2",
   "metadata": {},
   "outputs": [
    {
     "name": "stdout",
     "output_type": "stream",
     "text": [
      "GIN(\n",
      "  (layers): ModuleList(\n",
      "    (0): GINLayer(\n",
      "      (activation): ReLU()\n",
      "      (mlp): MLP(\n",
      "        (layers): ModuleList(\n",
      "          (0): PLayer(\n",
      "            in_features=128, out_features=64, bias=True\n",
      "            (act): ReLU()\n",
      "            (norm): Identity()\n",
      "          )\n",
      "          (1): PLayer(\n",
      "            in_features=64, out_features=64, bias=True\n",
      "            (act): Identity()\n",
      "            (norm): Identity()\n",
      "          )\n",
      "        )\n",
      "      )\n",
      "      (apply_func): ApplyNodeFunc(\n",
      "        (mlp): MLP(\n",
      "          (layers): ModuleList(\n",
      "            (0): PLayer(\n",
      "              in_features=128, out_features=64, bias=True\n",
      "              (act): ReLU()\n",
      "              (norm): Identity()\n",
      "            )\n",
      "            (1): PLayer(\n",
      "              in_features=64, out_features=64, bias=True\n",
      "              (act): Identity()\n",
      "              (norm): Identity()\n",
      "            )\n",
      "          )\n",
      "        )\n",
      "        (norm): SELayer(\n",
      "          (encoder_decoder): Sequential(\n",
      "            (0): Linear(in_features=64, out_features=8, bias=True)\n",
      "            (1): ELU(alpha=1.0)\n",
      "            (2): Linear(in_features=8, out_features=64, bias=True)\n",
      "            (3): Sigmoid()\n",
      "          )\n",
      "        )\n",
      "        (act): ReLU()\n",
      "      )\n",
      "    )\n",
      "    (1): GINLayer(\n",
      "      (activation): ReLU()\n",
      "      (mlp): MLP(\n",
      "        (layers): ModuleList(\n",
      "          (0): PLayer(\n",
      "            in_features=64, out_features=64, bias=True\n",
      "            (act): ReLU()\n",
      "            (norm): Identity()\n",
      "          )\n",
      "          (1): PLayer(\n",
      "            in_features=64, out_features=64, bias=True\n",
      "            (act): Identity()\n",
      "            (norm): Identity()\n",
      "          )\n",
      "        )\n",
      "      )\n",
      "      (apply_func): ApplyNodeFunc(\n",
      "        (mlp): MLP(\n",
      "          (layers): ModuleList(\n",
      "            (0): PLayer(\n",
      "              in_features=64, out_features=64, bias=True\n",
      "              (act): ReLU()\n",
      "              (norm): Identity()\n",
      "            )\n",
      "            (1): PLayer(\n",
      "              in_features=64, out_features=64, bias=True\n",
      "              (act): Identity()\n",
      "              (norm): Identity()\n",
      "            )\n",
      "          )\n",
      "        )\n",
      "        (norm): SELayer(\n",
      "          (encoder_decoder): Sequential(\n",
      "            (0): Linear(in_features=64, out_features=8, bias=True)\n",
      "            (1): ELU(alpha=1.0)\n",
      "            (2): Linear(in_features=8, out_features=64, bias=True)\n",
      "            (3): Sigmoid()\n",
      "          )\n",
      "        )\n",
      "        (act): ReLU()\n",
      "      )\n",
      "    )\n",
      "    (2): GINLayer(\n",
      "      (activation): ReLU()\n",
      "      (mlp): MLP(\n",
      "        (layers): ModuleList(\n",
      "          (0): PLayer(\n",
      "            in_features=64, out_features=64, bias=True\n",
      "            (act): ReLU()\n",
      "            (norm): Identity()\n",
      "          )\n",
      "          (1): PLayer(\n",
      "            in_features=64, out_features=64, bias=True\n",
      "            (act): Identity()\n",
      "            (norm): Identity()\n",
      "          )\n",
      "        )\n",
      "      )\n",
      "      (apply_func): ApplyNodeFunc(\n",
      "        (mlp): MLP(\n",
      "          (layers): ModuleList(\n",
      "            (0): PLayer(\n",
      "              in_features=64, out_features=64, bias=True\n",
      "              (act): ReLU()\n",
      "              (norm): Identity()\n",
      "            )\n",
      "            (1): PLayer(\n",
      "              in_features=64, out_features=64, bias=True\n",
      "              (act): Identity()\n",
      "              (norm): Identity()\n",
      "            )\n",
      "          )\n",
      "        )\n",
      "        (norm): SELayer(\n",
      "          (encoder_decoder): Sequential(\n",
      "            (0): Linear(in_features=64, out_features=8, bias=True)\n",
      "            (1): ELU(alpha=1.0)\n",
      "            (2): Linear(in_features=8, out_features=64, bias=True)\n",
      "            (3): Sigmoid()\n",
      "          )\n",
      "        )\n",
      "        (act): ReLU()\n",
      "      )\n",
      "    )\n",
      "    (3): GINLayer(\n",
      "      (activation): Identity()\n",
      "      (mlp): MLP(\n",
      "        (layers): ModuleList(\n",
      "          (0): PLayer(\n",
      "            in_features=64, out_features=16, bias=True\n",
      "            (act): Identity()\n",
      "            (norm): Identity()\n",
      "          )\n",
      "          (1): PLayer(\n",
      "            in_features=16, out_features=16, bias=True\n",
      "            (act): Identity()\n",
      "            (norm): Identity()\n",
      "          )\n",
      "        )\n",
      "      )\n",
      "      (apply_func): ApplyNodeFunc(\n",
      "        (mlp): MLP(\n",
      "          (layers): ModuleList(\n",
      "            (0): PLayer(\n",
      "              in_features=64, out_features=16, bias=True\n",
      "              (act): Identity()\n",
      "              (norm): Identity()\n",
      "            )\n",
      "            (1): PLayer(\n",
      "              in_features=16, out_features=16, bias=True\n",
      "              (act): Identity()\n",
      "              (norm): Identity()\n",
      "            )\n",
      "          )\n",
      "        )\n",
      "        (norm): SELayer(\n",
      "          (encoder_decoder): Sequential(\n",
      "            (0): Linear(in_features=16, out_features=4, bias=True)\n",
      "            (1): ELU(alpha=1.0)\n",
      "            (2): Linear(in_features=4, out_features=16, bias=True)\n",
      "            (3): Sigmoid()\n",
      "          )\n",
      "        )\n",
      "        (act): Identity()\n",
      "      )\n",
      "    )\n",
      "  )\n",
      "  (linears_prediction): ModuleList(\n",
      "    (0): Linear(in_features=128, out_features=16, bias=True)\n",
      "    (1): Linear(in_features=64, out_features=16, bias=True)\n",
      "    (2): Linear(in_features=64, out_features=16, bias=True)\n",
      "    (3): Linear(in_features=64, out_features=16, bias=True)\n",
      "  )\n",
      "  (final_drop): Dropout(p=0.0, inplace=False)\n",
      ")\n",
      "..... forwarding.... \n",
      " => output of size:\n",
      "torch.Size([3, 16])\n"
     ]
    }
   ],
   "source": [
    "model = GIN(\n",
    "    input_dimension=128,\n",
    "    output_dimension=16,\n",
    "    num_layers =4,\n",
    "    hidden_dimension=64,\n",
    "        \n",
    "    activation='relu',\n",
    "    norm=\"use_selayer\",\n",
    "    num_mlp_layers= 2,\n",
    "    #allow_zero_in_degree = True\n",
    ")\n",
    "\n",
    "print(model)\n",
    "\n",
    "\n",
    "print(\"..... forwarding.... \\n => output of size:\")\n",
    "print(model(g, feat).shape)"
   ]
  },
  {
   "cell_type": "markdown",
   "id": "b07a5f37-6992-4ddc-8687-395fa9042ee7",
   "metadata": {},
   "source": [
    "## Graph Self Supervised Representation Learning"
   ]
  },
  {
   "cell_type": "code",
   "execution_count": 37,
   "id": "92a3f85f-cb1c-4c70-9ef4-1b925f9bb005",
   "metadata": {},
   "outputs": [],
   "source": [
    "gin_args = {\n",
    "    'num_layers':4,\n",
    "    'input_dimension':128,\n",
    "    'output_dimension':16,\n",
    "    'hidden_dimension':64\n",
    "}"
   ]
  },
  {
   "cell_type": "code",
   "execution_count": 46,
   "id": "a8f80acf-5b30-4a5a-bada-8abb9fcb8612",
   "metadata": {},
   "outputs": [
    {
     "name": "stdout",
     "output_type": "stream",
     "text": [
      "{'num_layers': 4, 'input_dimension': 128, 'output_dimension': 16, 'hidden_dimension': 64}\n"
     ]
    }
   ],
   "source": [
    "gcc_model = GCCModel()"
   ]
  },
  {
   "cell_type": "code",
   "execution_count": 47,
   "id": "b7d01608-3a49-4797-85b9-dd8a46d37151",
   "metadata": {},
   "outputs": [
    {
     "ename": "KeyError",
     "evalue": "'seed'",
     "output_type": "error",
     "traceback": [
      "\u001b[0;31m---------------------------------------------------------------------------\u001b[0m",
      "\u001b[0;31mKeyError\u001b[0m                                  Traceback (most recent call last)",
      "Cell \u001b[0;32mIn [47], line 1\u001b[0m\n\u001b[0;32m----> 1\u001b[0m \u001b[43mgcc_model\u001b[49m\u001b[43m(\u001b[49m\u001b[43mg\u001b[49m\u001b[43m)\u001b[49m\n",
      "File \u001b[0;32m~/miniforge3/envs/env_gdl/lib/python3.10/site-packages/torch/nn/modules/module.py:1130\u001b[0m, in \u001b[0;36mModule._call_impl\u001b[0;34m(self, *input, **kwargs)\u001b[0m\n\u001b[1;32m   1126\u001b[0m \u001b[38;5;66;03m# If we don't have any hooks, we want to skip the rest of the logic in\u001b[39;00m\n\u001b[1;32m   1127\u001b[0m \u001b[38;5;66;03m# this function, and just call forward.\u001b[39;00m\n\u001b[1;32m   1128\u001b[0m \u001b[38;5;28;01mif\u001b[39;00m \u001b[38;5;129;01mnot\u001b[39;00m (\u001b[38;5;28mself\u001b[39m\u001b[38;5;241m.\u001b[39m_backward_hooks \u001b[38;5;129;01mor\u001b[39;00m \u001b[38;5;28mself\u001b[39m\u001b[38;5;241m.\u001b[39m_forward_hooks \u001b[38;5;129;01mor\u001b[39;00m \u001b[38;5;28mself\u001b[39m\u001b[38;5;241m.\u001b[39m_forward_pre_hooks \u001b[38;5;129;01mor\u001b[39;00m _global_backward_hooks\n\u001b[1;32m   1129\u001b[0m         \u001b[38;5;129;01mor\u001b[39;00m _global_forward_hooks \u001b[38;5;129;01mor\u001b[39;00m _global_forward_pre_hooks):\n\u001b[0;32m-> 1130\u001b[0m     \u001b[38;5;28;01mreturn\u001b[39;00m \u001b[43mforward_call\u001b[49m\u001b[43m(\u001b[49m\u001b[38;5;241;43m*\u001b[39;49m\u001b[38;5;28;43minput\u001b[39;49m\u001b[43m,\u001b[49m\u001b[43m \u001b[49m\u001b[38;5;241;43m*\u001b[39;49m\u001b[38;5;241;43m*\u001b[39;49m\u001b[43mkwargs\u001b[49m\u001b[43m)\u001b[49m\n\u001b[1;32m   1131\u001b[0m \u001b[38;5;66;03m# Do not call functions when jit is used\u001b[39;00m\n\u001b[1;32m   1132\u001b[0m full_backward_hooks, non_full_backward_hooks \u001b[38;5;241m=\u001b[39m [], []\n",
      "File \u001b[0;32m~/Desktop/CMB_CSS_PDM/experiments/DRAFT_DL_module/Models/model_grssl.py:98\u001b[0m, in \u001b[0;36mGCCModel.forward\u001b[0;34m(self, g, return_all_outputs)\u001b[0m\n\u001b[1;32m     96\u001b[0m \u001b[38;5;66;03m# nfreq = g.ndata[\"nfreq\"]\u001b[39;00m\n\u001b[1;32m     97\u001b[0m \u001b[38;5;28;01mif\u001b[39;00m \u001b[38;5;28mself\u001b[39m\u001b[38;5;241m.\u001b[39mdegree_input:\n\u001b[0;32m---> 98\u001b[0m     device \u001b[38;5;241m=\u001b[39m \u001b[43mg\u001b[49m\u001b[38;5;241;43m.\u001b[39;49m\u001b[43mndata\u001b[49m\u001b[43m[\u001b[49m\u001b[38;5;124;43m\"\u001b[39;49m\u001b[38;5;124;43mseed\u001b[39;49m\u001b[38;5;124;43m\"\u001b[39;49m\u001b[43m]\u001b[49m\u001b[38;5;241m.\u001b[39mdevice\n\u001b[1;32m     99\u001b[0m     degrees \u001b[38;5;241m=\u001b[39m g\u001b[38;5;241m.\u001b[39min_degrees()\n\u001b[1;32m    100\u001b[0m     \u001b[38;5;28;01mif\u001b[39;00m device \u001b[38;5;241m!=\u001b[39m torch\u001b[38;5;241m.\u001b[39mdevice(\u001b[38;5;124m\"\u001b[39m\u001b[38;5;124mcpu\u001b[39m\u001b[38;5;124m\"\u001b[39m):\n",
      "File \u001b[0;32m~/miniforge3/envs/env_gdl/lib/python3.10/site-packages/dgl/view.py:73\u001b[0m, in \u001b[0;36mHeteroNodeDataView.__getitem__\u001b[0;34m(self, key)\u001b[0m\n\u001b[1;32m     71\u001b[0m     \u001b[38;5;28;01mreturn\u001b[39;00m ret\n\u001b[1;32m     72\u001b[0m \u001b[38;5;28;01melse\u001b[39;00m:\n\u001b[0;32m---> 73\u001b[0m     \u001b[38;5;28;01mreturn\u001b[39;00m \u001b[38;5;28;43mself\u001b[39;49m\u001b[38;5;241;43m.\u001b[39;49m\u001b[43m_graph\u001b[49m\u001b[38;5;241;43m.\u001b[39;49m\u001b[43m_get_n_repr\u001b[49m\u001b[43m(\u001b[49m\u001b[38;5;28;43mself\u001b[39;49m\u001b[38;5;241;43m.\u001b[39;49m\u001b[43m_ntid\u001b[49m\u001b[43m,\u001b[49m\u001b[43m \u001b[49m\u001b[38;5;28;43mself\u001b[39;49m\u001b[38;5;241;43m.\u001b[39;49m\u001b[43m_nodes\u001b[49m\u001b[43m)\u001b[49m\u001b[43m[\u001b[49m\u001b[43mkey\u001b[49m\u001b[43m]\u001b[49m\n",
      "File \u001b[0;32m~/miniforge3/envs/env_gdl/lib/python3.10/site-packages/dgl/frame.py:622\u001b[0m, in \u001b[0;36mFrame.__getitem__\u001b[0;34m(self, name)\u001b[0m\n\u001b[1;32m    609\u001b[0m \u001b[38;5;28;01mdef\u001b[39;00m \u001b[38;5;21m__getitem__\u001b[39m(\u001b[38;5;28mself\u001b[39m, name):\n\u001b[1;32m    610\u001b[0m     \u001b[38;5;124;03m\"\"\"Return the column of the given name.\u001b[39;00m\n\u001b[1;32m    611\u001b[0m \n\u001b[1;32m    612\u001b[0m \u001b[38;5;124;03m    Parameters\u001b[39;00m\n\u001b[0;32m   (...)\u001b[0m\n\u001b[1;32m    620\u001b[0m \u001b[38;5;124;03m        Column data.\u001b[39;00m\n\u001b[1;32m    621\u001b[0m \u001b[38;5;124;03m    \"\"\"\u001b[39;00m\n\u001b[0;32m--> 622\u001b[0m     \u001b[38;5;28;01mreturn\u001b[39;00m \u001b[38;5;28;43mself\u001b[39;49m\u001b[38;5;241;43m.\u001b[39;49m\u001b[43m_columns\u001b[49m\u001b[43m[\u001b[49m\u001b[43mname\u001b[49m\u001b[43m]\u001b[49m\u001b[38;5;241m.\u001b[39mdata\n",
      "\u001b[0;31mKeyError\u001b[0m: 'seed'"
     ]
    }
   ],
   "source": [
    "gcc_model(g)"
   ]
  },
  {
   "cell_type": "code",
   "execution_count": null,
   "id": "b3c42fe8-e796-4ed0-89c9-2d9598678556",
   "metadata": {},
   "outputs": [],
   "source": []
  },
  {
   "cell_type": "code",
   "execution_count": null,
   "id": "6717434a-d8a0-4caa-b766-508347144415",
   "metadata": {},
   "outputs": [],
   "source": []
  },
  {
   "cell_type": "code",
   "execution_count": null,
   "id": "0e7d7f9d-4541-42dd-b8fc-8eebd818bb5e",
   "metadata": {},
   "outputs": [],
   "source": []
  }
 ],
 "metadata": {
  "kernelspec": {
   "display_name": "Python 3 (ipykernel)",
   "language": "python",
   "name": "python3"
  },
  "language_info": {
   "codemirror_mode": {
    "name": "ipython",
    "version": 3
   },
   "file_extension": ".py",
   "mimetype": "text/x-python",
   "name": "python",
   "nbconvert_exporter": "python",
   "pygments_lexer": "ipython3",
   "version": "3.10.6"
  }
 },
 "nbformat": 4,
 "nbformat_minor": 5
}
