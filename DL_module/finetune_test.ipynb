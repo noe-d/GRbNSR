{
 "cells": [
  {
   "cell_type": "code",
   "execution_count": 1,
   "id": "40f8a8a5-35d7-474a-ad08-de08e330baf2",
   "metadata": {},
   "outputs": [
    {
     "name": "stderr",
     "output_type": "stream",
     "text": [
      "/Users/nmm/miniforge3/envs/env_gdl/lib/python3.10/site-packages/tqdm/auto.py:22: TqdmWarning: IProgress not found. Please update jupyter and ipywidgets. See https://ipywidgets.readthedocs.io/en/stable/user_install.html\n",
      "  from .autonotebook import tqdm as notebook_tqdm\n"
     ]
    }
   ],
   "source": [
    "from train import *\n",
    "\n",
    "%load_ext autoreload\n",
    "%autoreload 2"
   ]
  },
  {
   "cell_type": "code",
   "execution_count": 2,
   "id": "b957fdaa-df4d-468b-bfa9-ac54d657e04b",
   "metadata": {},
   "outputs": [],
   "source": [
    "import sys\n",
    "import os\n",
    "sys.path.append(\"../\")\n",
    "\n",
    "from synthetic.net import load_net"
   ]
  },
  {
   "cell_type": "markdown",
   "id": "35de9290-b2e4-4d0e-8946-ed6f2fdae43a",
   "metadata": {},
   "source": [
    "# 1. Make dataset out of the folder containing generated nets"
   ]
  },
  {
   "cell_type": "code",
   "execution_count": 3,
   "id": "a1e19647-ef41-49e6-83e3-22193a2598e8",
   "metadata": {},
   "outputs": [],
   "source": [
    "PATH_TO_FOLDER = \"../space_seg/data/data_v2/v100_e552/\""
   ]
  },
  {
   "cell_type": "markdown",
   "id": "615c628c-3554-425f-8283-a0c61cdf9cda",
   "metadata": {},
   "source": [
    "## 1.a) Get files path from folder"
   ]
  },
  {
   "cell_type": "code",
   "execution_count": 4,
   "id": "9d7d7ff7-79c2-4cae-a465-79d5360a29b6",
   "metadata": {},
   "outputs": [],
   "source": [
    "files_paths = []\n",
    "for path, subdirs, files in os.walk(PATH_TO_FOLDER):\n",
    "    for name in files:\n",
    "        files_paths += [os.path.join(path, name)]\n",
    "        \n",
    "files_paths = [f for f in files_paths\n",
    "               if f.endswith(\".pickle\")\n",
    "              ]"
   ]
  },
  {
   "cell_type": "markdown",
   "id": "582112b2-c840-4e8e-bba2-4a948a4cc9b0",
   "metadata": {},
   "source": [
    "## 1.b) Load nets from paths"
   ]
  },
  {
   "cell_type": "code",
   "execution_count": 5,
   "id": "e0f59e8f-f619-479f-a3bb-e3ebf4dfe768",
   "metadata": {},
   "outputs": [],
   "source": [
    "nets = [load_net(f, directed=False) for f in files_paths]"
   ]
  },
  {
   "cell_type": "markdown",
   "id": "e0fc0a8d-b1f9-4c17-bdef-59461659b7ef",
   "metadata": {
    "tags": []
   },
   "source": [
    "## 1.c) Convert nets to `dgl`"
   ]
  },
  {
   "cell_type": "code",
   "execution_count": 6,
   "id": "0ec79af4-1139-427d-b747-356ea0adca25",
   "metadata": {},
   "outputs": [],
   "source": [
    "import dgl\n",
    "from pyintergraph import igraph2nx"
   ]
  },
  {
   "cell_type": "code",
   "execution_count": 7,
   "id": "09278895-4fa2-46f6-acd4-9ce6c5382128",
   "metadata": {},
   "outputs": [],
   "source": [
    "def igraph2dgl(ig):\n",
    "    return dgl.from_networkx(igraph2nx(ig))"
   ]
  },
  {
   "cell_type": "code",
   "execution_count": 8,
   "id": "50f67962-24d5-49a1-9266-854df1eefd7c",
   "metadata": {},
   "outputs": [],
   "source": [
    "dgl_graphs = [igraph2dgl(net.graph) for net in nets]"
   ]
  },
  {
   "cell_type": "code",
   "execution_count": null,
   "id": "4e3c836f-8b52-4236-9d37-91717336e382",
   "metadata": {},
   "outputs": [],
   "source": []
  },
  {
   "cell_type": "markdown",
   "id": "d6074994-2068-401b-a89c-2c1e5e337b8e",
   "metadata": {},
   "source": [
    "# 2. Loading & adapting config and models to be fine-tuned"
   ]
  },
  {
   "cell_type": "code",
   "execution_count": 9,
   "id": "a7a033c3-6219-4d58-8edd-db52f0308522",
   "metadata": {},
   "outputs": [],
   "source": [
    "PATH_TO_MODEL = \"./saved/models/PGCL_default/\"\n",
    "RUN_ID = \"0227_102126\""
   ]
  },
  {
   "cell_type": "code",
   "execution_count": 10,
   "id": "02f3670c-a27f-4b06-9140-4e7cae72ff2e",
   "metadata": {},
   "outputs": [],
   "source": [
    "config = ConfigParser.from_json(\n",
    "    json_path = PATH_TO_MODEL+RUN_ID+\"/config.json\"\n",
    "    , resume = PATH_TO_MODEL+RUN_ID+\"/model_best.pth\"\n",
    ")"
   ]
  },
  {
   "cell_type": "code",
   "execution_count": 11,
   "id": "5994c753-3bce-414d-bba4-8e3662b70a41",
   "metadata": {},
   "outputs": [],
   "source": [
    "config._config[\"do_train\"] = True\n",
    "\n",
    "\n",
    "fine_tuning_epochs = 4\n",
    "\n",
    "config._config[\"trainer\"][\"epochs\"] = config._config[\"trainer\"][\"epochs\"] + fine_tuning_epochs"
   ]
  },
  {
   "cell_type": "markdown",
   "id": "fba09efa-e923-4988-b2c8-1a0cb9d190d4",
   "metadata": {},
   "source": [
    "## 2.a) Change dataset"
   ]
  },
  {
   "cell_type": "code",
   "execution_count": 12,
   "id": "622f5679-9d68-443c-986d-5ea8d5f826b3",
   "metadata": {},
   "outputs": [],
   "source": [
    "config._config[\"dataset\"][\"args\"][\"dgl_graphs\"] = dgl_graphs"
   ]
  },
  {
   "cell_type": "code",
   "execution_count": 13,
   "id": "1dffd987-bffd-4921-b794-33117571dbea",
   "metadata": {},
   "outputs": [],
   "source": [
    "dataset = config.init_obj('dataset', module_dataset)"
   ]
  },
  {
   "cell_type": "code",
   "execution_count": 14,
   "id": "5e7361fb-9f75-4909-afef-3de601bd8f2e",
   "metadata": {},
   "outputs": [
    {
     "name": "stdout",
     "output_type": "stream",
     "text": [
      "┌-----------------------------------------------------------┐\n",
      "|                        PGCLDataset                        |\n",
      "├-----------------------------------------------------------┤\n",
      "|number of graphs                       |                704|\n",
      "|nodes — tot                            |              70400|\n",
      "|nodes — mean                           |              100.0|\n",
      "|nodes — median                         |              100.0|\n",
      "|nodes — min                            |                100|\n",
      "|nodes — max                            |                100|\n",
      "|edges — tot                            |             777216|\n",
      "|edges — mean                           |             1104.0|\n",
      "|edges — median                         |             1104.0|\n",
      "|edges — min                            |               1104|\n",
      "|edges — max                            |               1104|\n",
      "└-----------------------------------------------------------┘\n",
      "\n"
     ]
    }
   ],
   "source": [
    "print(dataset)"
   ]
  },
  {
   "cell_type": "markdown",
   "id": "eb42d1ea-0eb6-4073-a34f-7368ed6aa31e",
   "metadata": {},
   "source": [
    "## 2.b) Load model"
   ]
  },
  {
   "cell_type": "code",
   "execution_count": 15,
   "id": "22f394d4-15e2-486c-a2d0-836d36e45b2f",
   "metadata": {},
   "outputs": [
    {
     "name": "stdout",
     "output_type": "stream",
     "text": [
      "🌐 Loading Dataset...\n",
      "Dataset loaded:\n",
      "┌-----------------------------------------------------------┐\n",
      "|                        PGCLDataset                        |\n",
      "├-----------------------------------------------------------┤\n",
      "|number of graphs                       |                704|\n",
      "|nodes — tot                            |              70400|\n",
      "|nodes — mean                           |              100.0|\n",
      "|nodes — median                         |              100.0|\n",
      "|nodes — min                            |                100|\n",
      "|nodes — max                            |                100|\n",
      "|edges — tot                            |             777216|\n",
      "|edges — mean                           |             1104.0|\n",
      "|edges — median                         |             1104.0|\n",
      "|edges — min                            |               1104|\n",
      "|edges — max                            |               1104|\n",
      "└-----------------------------------------------------------┘\n",
      "\n",
      "🤖 Model instantiated:PGCL (pgcl)\n",
      "PGCLModel(\n",
      "  (encoder): PGCLEncoder(\n",
      "    (convs): ModuleList(\n",
      "      (0): GINConv(nn=Sequential(\n",
      "        (0): Linear(in_features=1, out_features=32, bias=True)\n",
      "        (1): ReLU()\n",
      "        (2): Linear(in_features=32, out_features=32, bias=True)\n",
      "      ))\n",
      "      (1): GINConv(nn=Sequential(\n",
      "        (0): Linear(in_features=32, out_features=32, bias=True)\n",
      "        (1): ReLU()\n",
      "        (2): Linear(in_features=32, out_features=32, bias=True)\n",
      "      ))\n",
      "      (2): GINConv(nn=Sequential(\n",
      "        (0): Linear(in_features=32, out_features=32, bias=True)\n",
      "        (1): ReLU()\n",
      "        (2): Linear(in_features=32, out_features=32, bias=True)\n",
      "      ))\n",
      "    )\n",
      "    (bns): ModuleList(\n",
      "      (0): BatchNorm1d(32, eps=1e-05, momentum=0.1, affine=True, track_running_stats=True)\n",
      "      (1): BatchNorm1d(32, eps=1e-05, momentum=0.1, affine=True, track_running_stats=True)\n",
      "      (2): BatchNorm1d(32, eps=1e-05, momentum=0.1, affine=True, track_running_stats=True)\n",
      "    )\n",
      "    (proj_head): Sequential(\n",
      "      (0): Linear(in_features=96, out_features=96, bias=True)\n",
      "      (1): ReLU(inplace=True)\n",
      "      (2): Linear(in_features=96, out_features=96, bias=True)\n",
      "    )\n",
      "  )\n",
      "  (prototypes): Linear(in_features=96, out_features=8, bias=False)\n",
      "  (local_d): FF(\n",
      "    (block): Sequential(\n",
      "      (0): Linear(in_features=96, out_features=96, bias=True)\n",
      "      (1): ReLU()\n",
      "      (2): Linear(in_features=96, out_features=96, bias=True)\n",
      "      (3): ReLU()\n",
      "      (4): Linear(in_features=96, out_features=96, bias=True)\n",
      "      (5): ReLU()\n",
      "    )\n",
      "    (linear_shortcut): Linear(in_features=96, out_features=96, bias=True)\n",
      "  )\n",
      "  (global_d): FF(\n",
      "    (block): Sequential(\n",
      "      (0): Linear(in_features=96, out_features=96, bias=True)\n",
      "      (1): ReLU()\n",
      "      (2): Linear(in_features=96, out_features=96, bias=True)\n",
      "      (3): ReLU()\n",
      "      (4): Linear(in_features=96, out_features=96, bias=True)\n",
      "      (5): ReLU()\n",
      "    )\n",
      "    (linear_shortcut): Linear(in_features=96, out_features=96, bias=True)\n",
      "  )\n",
      "  (prior_d): PriorDiscriminator(\n",
      "    (l0): Linear(in_features=96, out_features=96, bias=True)\n",
      "    (l1): Linear(in_features=96, out_features=96, bias=True)\n",
      "    (l2): Linear(in_features=96, out_features=1, bias=True)\n",
      "  )\n",
      ")\n",
      "Warning: There's no GPU available on this machine,training will be performed on CPU.\n",
      "Loading checkpoint: saved/models/PGCL_default/0227_102126/model_best.pth ...\n",
      "Checkpoint loaded. Model previously trained for 17 epochs.\n",
      "⏳ Training Model .....\n",
      "Saving checkpoint: saved/models/PGCL_default/0303_172711/model_untrained.pth ...\n"
     ]
    },
    {
     "name": "stderr",
     "output_type": "stream",
     "text": [
      "/Users/nmm/Desktop/CMB_CSS_PDM/main_project/DL_module/Models/model_util.py:151: UserWarning: To copy construct from a tensor, it is recommended to use sourceTensor.clone().detach() or sourceTensor.clone().detach().requires_grad_(True), rather than torch.tensor(sourceTensor).\n",
      "  batch = torch.tensor(batch, dtype=int)\n"
     ]
    },
    {
     "name": "stdout",
     "output_type": "stream",
     "text": [
      "Train Epoch: 18 [0/6 (0%)] Loss: 23.735561\n",
      "    epoch          : 18\n",
      "    loss           : 23.318254470825195\n",
      "    time           : 00:00:08\n",
      "    no improvement : 1\n",
      "Train Epoch: 19 [0/6 (0%)] Loss: 23.479342\n",
      "    epoch          : 19\n",
      "    loss           : 23.274819056193035\n",
      "    time           : 00:00:06\n",
      "    no improvement : 2\n",
      "Train Epoch: 20 [0/6 (0%)] Loss: 23.485237\n",
      "    epoch          : 20\n",
      "    loss           : 23.22943051656087\n",
      "    time           : 00:00:06\n",
      "    no improvement : 3\n",
      "Train Epoch: 21 [0/6 (0%)] Loss: 23.411306\n",
      "    epoch          : 21\n",
      "    loss           : 23.229420979817707\n",
      "    time           : 00:00:08\n",
      "    no improvement : 4\n",
      "Train Epoch: 22 [0/6 (0%)] Loss: 23.484447\n",
      "    epoch          : 22\n",
      "    loss           : 23.19984022776286\n",
      "    time           : 00:00:06\n",
      "    no improvement : 0\n",
      "Saving current best: model_best.pth ...\n",
      "Train Epoch: 23 [0/6 (0%)] Loss: 23.333153\n",
      "    epoch          : 23\n",
      "    loss           : 23.11913013458252\n",
      "    time           : 00:00:06\n",
      "    no improvement : 0\n",
      "Saving current best: model_best.pth ...\n",
      "Train Epoch: 24 [0/6 (0%)] Loss: 23.396824\n",
      "    epoch          : 24\n",
      "    loss           : 23.094976743062336\n",
      "    time           : 00:00:06\n",
      "    no improvement : 0\n",
      "Saving current best: model_best.pth ...\n",
      "Train Epoch: 25 [0/6 (0%)] Loss: 23.428398\n",
      "    epoch          : 25\n",
      "    loss           : 23.07255522410075\n",
      "    time           : 00:00:06\n",
      "    no improvement : 0\n",
      "Saving current best: model_best.pth ...\n",
      "Train Epoch: 26 [0/6 (0%)] Loss: 23.413984\n",
      "    epoch          : 26\n",
      "    loss           : 23.057418823242188\n",
      "    time           : 00:00:06\n",
      "    no improvement : 0\n",
      "Saving current best: model_best.pth ...\n",
      "Train Epoch: 27 [0/6 (0%)] Loss: 23.328173\n",
      "    epoch          : 27\n",
      "    loss           : 23.04097270965576\n",
      "    time           : 00:00:06\n",
      "    no improvement : 0\n",
      "Saving current best: model_best.pth ...\n",
      "Train Epoch: 28 [0/6 (0%)] Loss: 23.327368\n",
      "    epoch          : 28\n",
      "    loss           : 23.077157020568848\n",
      "    time           : 00:00:06\n",
      "    no improvement : 1\n",
      "Train Epoch: 29 [0/6 (0%)] Loss: 23.360325\n",
      "    epoch          : 29\n",
      "    loss           : 23.005915641784668\n",
      "    time           : 00:00:06\n",
      "    no improvement : 0\n",
      "Saving current best: model_best.pth ...\n",
      "Train Epoch: 30 [0/6 (0%)] Loss: 23.242855\n",
      "    epoch          : 30\n",
      "    loss           : 23.01196829477946\n",
      "    time           : 00:00:06\n",
      "    no improvement : 1\n",
      "Train Epoch: 31 [0/6 (0%)] Loss: 23.285522\n",
      "    epoch          : 31\n",
      "    loss           : 23.031888008117676\n",
      "    time           : 00:00:06\n",
      "    no improvement : 2\n",
      "Train Epoch: 32 [0/6 (0%)] Loss: 23.324856\n",
      "    epoch          : 32\n",
      "    loss           : 23.060359954833984\n",
      "    time           : 00:00:06\n",
      "    no improvement : 3\n",
      "Train Epoch: 33 [0/6 (0%)] Loss: 23.296043\n",
      "    epoch          : 33\n",
      "    loss           : 23.01380793253581\n",
      "    time           : 00:00:07\n",
      "    no improvement : 4\n",
      "Train Epoch: 34 [0/6 (0%)] Loss: 23.258152\n",
      "    epoch          : 34\n",
      "    loss           : 22.982078552246094\n",
      "    time           : 00:00:07\n",
      "    no improvement : 0\n",
      "Saving current best: model_best.pth ...\n",
      "Train Epoch: 35 [0/6 (0%)] Loss: 23.232557\n",
      "    epoch          : 35\n",
      "    loss           : 23.008212725321453\n",
      "    time           : 00:00:06\n",
      "    no improvement : 1\n",
      "Train Epoch: 36 [0/6 (0%)] Loss: 23.272135\n",
      "    epoch          : 36\n",
      "    loss           : 23.015572547912598\n",
      "    time           : 00:00:06\n",
      "    no improvement : 2\n",
      "Train Epoch: 37 [0/6 (0%)] Loss: 23.408119\n",
      "    epoch          : 37\n",
      "    loss           : 23.03696409861247\n",
      "    time           : 00:00:07\n",
      "    no improvement : 3\n",
      "Train Epoch: 38 [0/6 (0%)] Loss: 23.398176\n",
      "    epoch          : 38\n",
      "    loss           : 23.044244130452473\n",
      "    time           : 00:00:07\n",
      "    no improvement : 4\n",
      "Train Epoch: 39 [0/6 (0%)] Loss: 23.435921\n",
      "    epoch          : 39\n",
      "    loss           : 23.053049723307293\n",
      "    time           : 00:00:07\n",
      "    no improvement : 5\n",
      "Train Epoch: 40 [0/6 (0%)] Loss: 23.414242\n",
      "    epoch          : 40\n",
      "    loss           : 23.058571497599285\n",
      "    time           : 00:00:07\n",
      "    no improvement : 6\n",
      "Train Epoch: 41 [0/6 (0%)] Loss: 23.335236\n",
      "    epoch          : 41\n",
      "    loss           : 23.045535405476887\n",
      "    time           : 00:00:07\n",
      "    no improvement : 7\n",
      "Train Epoch: 42 [0/6 (0%)] Loss: 23.481079\n",
      "    epoch          : 42\n",
      "    loss           : 23.012998898824055\n",
      "    time           : 00:00:07\n",
      "    no improvement : 8\n",
      "Train Epoch: 43 [0/6 (0%)] Loss: 23.544516\n",
      "    epoch          : 43\n",
      "    loss           : 23.055028279622395\n",
      "    time           : 00:00:07\n",
      "    no improvement : 9\n",
      "Train Epoch: 44 [0/6 (0%)] Loss: 23.415041\n",
      "    epoch          : 44\n",
      "    loss           : 23.043113072713215\n",
      "    time           : 00:00:07\n",
      "    no improvement : 10\n",
      "Train Epoch: 45 [0/6 (0%)] Loss: 23.464603\n",
      "Validation performance didn't improve for 10 epochs. Training stops.\n",
      "⌛️ Training done in 00:03:18!\n",
      "The trained model is saved at: saved/models/PGCL_default/0303_172711\n"
     ]
    },
    {
     "data": {
      "text/plain": [
       "<Trainers.trainer.PGCLTrainer at 0x2a747a1a0>"
      ]
     },
     "execution_count": 15,
     "metadata": {},
     "output_type": "execute_result"
    }
   ],
   "source": [
    "main(config)"
   ]
  },
  {
   "cell_type": "code",
   "execution_count": null,
   "id": "f61f65e1-96dd-425b-83bd-2c05e3c7a0b3",
   "metadata": {},
   "outputs": [],
   "source": []
  },
  {
   "cell_type": "code",
   "execution_count": null,
   "id": "b60d57cf-30e4-43c0-80ed-78541dc9d01e",
   "metadata": {},
   "outputs": [],
   "source": []
  }
 ],
 "metadata": {
  "kernelspec": {
   "display_name": "Python 3 (ipykernel)",
   "language": "python",
   "name": "python3"
  },
  "language_info": {
   "codemirror_mode": {
    "name": "ipython",
    "version": 3
   },
   "file_extension": ".py",
   "mimetype": "text/x-python",
   "name": "python",
   "nbconvert_exporter": "python",
   "pygments_lexer": "ipython3",
   "version": "3.10.6"
  }
 },
 "nbformat": 4,
 "nbformat_minor": 5
}
