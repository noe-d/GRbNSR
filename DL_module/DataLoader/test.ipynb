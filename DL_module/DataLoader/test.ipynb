{
 "cells": [
  {
   "cell_type": "code",
   "execution_count": 1,
   "id": "c3ec4594-9e4c-46ee-950a-f4daaa12de68",
   "metadata": {},
   "outputs": [
    {
     "name": "stderr",
     "output_type": "stream",
     "text": [
      "/Users/nmm/miniforge3/envs/env_gdl/lib/python3.10/site-packages/tqdm/auto.py:22: TqdmWarning: IProgress not found. Please update jupyter and ipywidgets. See https://ipywidgets.readthedocs.io/en/stable/user_install.html\n",
      "  from .autonotebook import tqdm as notebook_tqdm\n"
     ]
    }
   ],
   "source": [
    "from data_loader import *\n",
    "from data_util import *\n",
    "\n",
    "%load_ext autoreload\n",
    "%autoreload 2"
   ]
  },
  {
   "cell_type": "markdown",
   "id": "ecb2713c-9e57-4d99-ae36-171fbb4b7525",
   "metadata": {},
   "source": [
    "# Example: loading as in `gcc`"
   ]
  },
  {
   "cell_type": "code",
   "execution_count": 2,
   "id": "c1f51bbb-e9d3-46c6-9ddc-70ee8e8385a7",
   "metadata": {},
   "outputs": [],
   "source": [
    "import torch"
   ]
  },
  {
   "cell_type": "raw",
   "id": "d04f7aa3-51bb-423e-b29a-2eafdb0e08f2",
   "metadata": {},
   "source": [
    "train_dataset = GraphClassificationDataset(\n",
    "    dataset=\"REDDIT-BINARY\",\n",
    "    rw_hops=256,\n",
    "    subgraph_size=32,\n",
    "    restart_prob=0.8,\n",
    "    positional_embedding_size=64,\n",
    ")"
   ]
  },
  {
   "cell_type": "code",
   "execution_count": null,
   "id": "385c5d8e-4c31-44d5-8654-e40e3cb9c783",
   "metadata": {},
   "outputs": [],
   "source": []
  },
  {
   "cell_type": "code",
   "execution_count": null,
   "id": "ef2d172b-2bc9-49ab-8c1f-56562e194c1d",
   "metadata": {},
   "outputs": [],
   "source": []
  },
  {
   "cell_type": "markdown",
   "id": "dcefc908-ff98-40a4-bcd7-686696d97088",
   "metadata": {},
   "source": [
    "# Example TUDataset"
   ]
  },
  {
   "cell_type": "code",
   "execution_count": 3,
   "id": "6abcf4c4-41e9-4354-89f2-9eed473e350e",
   "metadata": {},
   "outputs": [],
   "source": [
    "from dgl.data import TUDataset"
   ]
  },
  {
   "cell_type": "code",
   "execution_count": 4,
   "id": "64aa492a-2433-4362-83dd-55d392cf2796",
   "metadata": {},
   "outputs": [],
   "source": [
    "dataset = TUDataset(\"REDDIT-BINARY\")"
   ]
  },
  {
   "cell_type": "code",
   "execution_count": 5,
   "id": "22460036-bdd7-4337-a10c-90c9b0d04076",
   "metadata": {},
   "outputs": [],
   "source": [
    "graph, _ = dataset[0]"
   ]
  },
  {
   "cell_type": "code",
   "execution_count": 6,
   "id": "dba075e9-5fe3-44c7-a038-f55d41cc45e6",
   "metadata": {},
   "outputs": [
    {
     "data": {
      "text/plain": [
       "Dataset(\"REDDIT-BINARY\", num_graphs=2000, save_path=/Users/nmm/.dgl/REDDIT-BINARY)"
      ]
     },
     "execution_count": 6,
     "metadata": {},
     "output_type": "execute_result"
    }
   ],
   "source": [
    "dataset"
   ]
  },
  {
   "cell_type": "markdown",
   "id": "1fea330f-7996-4100-b5f3-f5501abbd20c",
   "metadata": {},
   "source": [
    "## From GraphMAE"
   ]
  },
  {
   "cell_type": "code",
   "execution_count": 7,
   "id": "ba7c0cff-fefe-4935-afe2-bb2b6c081117",
   "metadata": {},
   "outputs": [],
   "source": [
    "from collections import namedtuple, Counter\n",
    "\n",
    "def load_graph_classification_dataset(dataset_name, deg4feat=False):\n",
    "    dataset_name = dataset_name.upper()\n",
    "    dataset = TUDataset(dataset_name)\n",
    "    graph, _ = dataset[0]\n",
    "\n",
    "    if \"attr\" not in graph.ndata:\n",
    "        if \"node_labels\" in graph.ndata and not deg4feat:\n",
    "            print(\"Use node label as node features\")\n",
    "            feature_dim = 0\n",
    "            for g, _ in dataset:\n",
    "                feature_dim = max(feature_dim, g.ndata[\"node_labels\"].max().item())\n",
    "            \n",
    "            feature_dim += 1\n",
    "            for g, l in dataset:\n",
    "                node_label = g.ndata[\"node_labels\"].view(-1)\n",
    "                feat = F.one_hot(node_label, num_classes=feature_dim).float()\n",
    "                g.ndata[\"attr\"] = feat\n",
    "        else:\n",
    "            print(\"Using degree as node features\")\n",
    "            feature_dim = 0\n",
    "            degrees = []\n",
    "            for g, _ in dataset:\n",
    "                feature_dim = max(feature_dim, g.in_degrees().max().item())\n",
    "                degrees.extend(g.in_degrees().tolist())\n",
    "            MAX_DEGREES = 400\n",
    "\n",
    "            oversize = 0\n",
    "            for d, n in Counter(degrees).items():\n",
    "                if d > MAX_DEGREES:\n",
    "                    oversize += n\n",
    "            # print(f\"N > {MAX_DEGREES}, #NUM: {oversize}, ratio: {oversize/sum(degrees):.8f}\")\n",
    "            feature_dim = min(feature_dim, MAX_DEGREES)\n",
    "\n",
    "            feature_dim += 1\n",
    "            for g, l in dataset:\n",
    "                degrees = g.in_degrees()\n",
    "                degrees[degrees > MAX_DEGREES] = MAX_DEGREES\n",
    "                \n",
    "                feat = F.one_hot(degrees, num_classes=feature_dim).float()\n",
    "                g.ndata[\"attr\"] = feat\n",
    "    else:\n",
    "        print(\"******** Use `attr` as node features ********\")\n",
    "        feature_dim = graph.ndata[\"attr\"].shape[1]\n",
    "\n",
    "    labels = torch.tensor([x[1] for x in dataset])\n",
    "    \n",
    "    num_classes = torch.max(labels).item() + 1\n",
    "    dataset = [(g.remove_self_loop().add_self_loop(), y) for g, y in dataset]\n",
    "\n",
    "    print(f\"******** # Num Graphs: {len(dataset)}, # Num Feat: {feature_dim}, # Num Classes: {num_classes} ********\")\n",
    "\n",
    "    return dataset, (feature_dim, num_classes)"
   ]
  },
  {
   "cell_type": "code",
   "execution_count": 8,
   "id": "a1e41232-66e1-48be-b705-e37be0233f1f",
   "metadata": {},
   "outputs": [
    {
     "name": "stdout",
     "output_type": "stream",
     "text": [
      "Using degree as node features\n",
      "******** # Num Graphs: 2000, # Num Feat: 401, # Num Classes: 2 ********\n"
     ]
    }
   ],
   "source": [
    "mae_data, _ = load_graph_classification_dataset(\"REDDIT-BINARY\")"
   ]
  },
  {
   "cell_type": "code",
   "execution_count": 10,
   "id": "6aba6c62-5d0b-4b8d-b308-74a0ee2b7ef0",
   "metadata": {},
   "outputs": [
    {
     "data": {
      "text/plain": [
       "(Graph(num_nodes=717, num_edges=4041,\n",
       "       ndata_schemes={'_ID': Scheme(shape=(), dtype=torch.int64), 'attr': Scheme(shape=(401,), dtype=torch.float32)}\n",
       "       edata_schemes={'_ID': Scheme(shape=(), dtype=torch.int64)}),\n",
       " tensor([1]))"
      ]
     },
     "execution_count": 10,
     "metadata": {},
     "output_type": "execute_result"
    }
   ],
   "source": [
    "mae_data[1]#[1]"
   ]
  },
  {
   "cell_type": "markdown",
   "id": "d8f03787-4006-4f95-8c49-5febdc9382f6",
   "metadata": {},
   "source": [
    "# `GraphDataset` from `graph-tool` library"
   ]
  },
  {
   "cell_type": "code",
   "execution_count": 11,
   "id": "2b8ec404-6238-467e-9172-ba29c0f9189e",
   "metadata": {},
   "outputs": [],
   "source": [
    "pretext_keys = [\"ceo_club\", \"bison\", \"copenhagen/calls\"]\n",
    "fake_labels = [\"label2\", \"label1\", \"label2\"]"
   ]
  },
  {
   "cell_type": "code",
   "execution_count": 12,
   "id": "f5bd3e00-5006-4437-ae18-930c06fb25b7",
   "metadata": {},
   "outputs": [
    {
     "name": "stdout",
     "output_type": "stream",
     "text": [
      "🦦 converting 3 graphs from graph-tool library to DGL format.\n"
     ]
    },
    {
     "name": "stderr",
     "output_type": "stream",
     "text": [
      "100%|█████████████████████████████████████████████| 3/3 [00:00<00:00,  6.75it/s]"
     ]
    },
    {
     "name": "stdout",
     "output_type": "stream",
     "text": [
      "┌------------------------------------------------------------┐\n",
      "|                        GraphDataset                        |\n",
      "├------------------------------------------------------------┤\n",
      "|number of graphs                       |                   3|\n",
      "|nodes — tot                            |                 602|\n",
      "|nodes — mean                           |  200.66666666666666|\n",
      "|nodes — median                         |                40.0|\n",
      "|nodes — min                            |                  26|\n",
      "|nodes — max                            |                 536|\n",
      "|edges — tot                            |                1428|\n",
      "|edges — mean                           |               476.0|\n",
      "|edges — median                         |               314.0|\n",
      "|edges — min                            |                 190|\n",
      "|edges — max                            |                 924|\n",
      "|number of labels                       |                   2|\n",
      "|   - label2                            |          2 (66.7 %)|\n",
      "|   - label1                            |          1 (33.3 %)|\n",
      "└------------------------------------------------------------┘\n",
      "\n"
     ]
    },
    {
     "name": "stderr",
     "output_type": "stream",
     "text": [
      "\n"
     ]
    }
   ],
   "source": [
    "gtdata = GraphDataset(dgl_graphs=graphtoolkeys2dglgraphs(pretext_keys)\n",
    "                      , graphs_labels=fake_labels\n",
    "                      , verbosity=True\n",
    "                     )"
   ]
  },
  {
   "cell_type": "markdown",
   "id": "56e5763f-85c4-4c61-ac0d-da594199fe36",
   "metadata": {},
   "source": [
    "# `GCCDataset`"
   ]
  },
  {
   "cell_type": "code",
   "execution_count": 13,
   "id": "e5144e71-a908-46e1-9b47-fe19e644e1fc",
   "metadata": {},
   "outputs": [],
   "source": [
    "pretext_keys = [\"ceo_club\", \"bison\", \"copenhagen/calls\"]\n",
    "fake_labels = [\"label2\", \"label1\", \"label2\"]"
   ]
  },
  {
   "cell_type": "code",
   "execution_count": 14,
   "id": "f4aac548-70d6-46ed-a92b-04d76cb45a08",
   "metadata": {},
   "outputs": [
    {
     "name": "stdout",
     "output_type": "stream",
     "text": [
      "🦦 converting 3 graphs from graph-tool library to DGL format.\n"
     ]
    },
    {
     "name": "stderr",
     "output_type": "stream",
     "text": [
      "100%|███████████████████████████████████████████| 3/3 [00:00<00:00, 1258.92it/s]"
     ]
    },
    {
     "name": "stdout",
     "output_type": "stream",
     "text": [
      "┌------------------------------------------------------------┐\n",
      "|                         GCCDataset                         |\n",
      "├------------------------------------------------------------┤\n",
      "|number of graphs                       |                   3|\n",
      "|nodes — tot                            |                 602|\n",
      "|nodes — mean                           |  200.66666666666666|\n",
      "|nodes — median                         |                40.0|\n",
      "|nodes — min                            |                  26|\n",
      "|nodes — max                            |                 536|\n",
      "|edges — tot                            |                1428|\n",
      "|edges — mean                           |               476.0|\n",
      "|edges — median                         |               314.0|\n",
      "|edges — min                            |                 190|\n",
      "|edges — max                            |                 924|\n",
      "|number of labels                       |                   2|\n",
      "|   - label2                            |          2 (66.7 %)|\n",
      "|   - label1                            |          1 (33.3 %)|\n",
      "└------------------------------------------------------------┘\n",
      "\n"
     ]
    },
    {
     "name": "stderr",
     "output_type": "stream",
     "text": [
      "\n"
     ]
    }
   ],
   "source": [
    "test_gcc = GCCDataset(dgl_graphs=graphtoolkeys2dglgraphs(pretext_keys)\n",
    "                      , graphs_labels=fake_labels\n",
    "                      , verbosity=True\n",
    "                     )"
   ]
  },
  {
   "cell_type": "code",
   "execution_count": 15,
   "id": "d4133655-da09-4944-abe6-151cf7376d0a",
   "metadata": {
    "tags": []
   },
   "outputs": [
    {
     "name": "stdout",
     "output_type": "stream",
     "text": [
      "┌------------------------------------------------------------┐\n",
      "|                         GCCDataset                         |\n",
      "├------------------------------------------------------------┤\n",
      "|number of graphs                       |                   3|\n",
      "|nodes — tot                            |                 602|\n",
      "|nodes — mean                           |  200.66666666666666|\n",
      "|nodes — median                         |                40.0|\n",
      "|nodes — min                            |                  26|\n",
      "|nodes — max                            |                 536|\n",
      "|edges — tot                            |                1428|\n",
      "|edges — mean                           |               476.0|\n",
      "|edges — median                         |               314.0|\n",
      "|edges — min                            |                 190|\n",
      "|edges — max                            |                 924|\n",
      "|number of labels                       |                   2|\n",
      "|   - label2                            |          2 (66.7 %)|\n",
      "|   - label1                            |          1 (33.3 %)|\n",
      "└------------------------------------------------------------┘\n",
      "\n"
     ]
    }
   ],
   "source": [
    "test_gcc.display_statistics()"
   ]
  },
  {
   "cell_type": "markdown",
   "id": "0bce875d-8486-4c4f-8bd3-3c2ac0ac744a",
   "metadata": {
    "tags": []
   },
   "source": [
    "## GCC dataloader"
   ]
  },
  {
   "cell_type": "code",
   "execution_count": 16,
   "id": "d0eecab4-86cb-4e93-9bdf-374af63e46a7",
   "metadata": {},
   "outputs": [
    {
     "data": {
      "text/plain": [
       "<torch.utils.data.dataloader.DataLoader at 0x17e05b5b0>"
      ]
     },
     "execution_count": 16,
     "metadata": {},
     "output_type": "execute_result"
    }
   ],
   "source": [
    "torch.utils.data.DataLoader(test_gcc)"
   ]
  },
  {
   "cell_type": "code",
   "execution_count": 17,
   "id": "8ab17ed2-ec84-4740-ad45-fc4b052aef11",
   "metadata": {},
   "outputs": [],
   "source": [
    "def batcher():\n",
    "    def batcher_dev(batch):\n",
    "        graph_q, graph_k = zip(*batch)\n",
    "        graph_q, graph_k = dgl.batch(graph_q), dgl.batch(graph_k)\n",
    "        return graph_q, graph_k\n",
    "\n",
    "    return batcher_dev\n",
    "\n",
    "def worker_init_fn(worker_id):\n",
    "    worker_info = torch.utils.data.get_worker_info()\n",
    "    dataset = worker_info.dataset\n",
    "    dataset.graphs, _ = dgl.data.utils.load_graphs(\n",
    "        dataset.dgl_graphs_file, dataset.jobs[worker_id]\n",
    "    )\n",
    "    dataset.length = sum([g.number_of_nodes() for g in dataset.graphs])\n",
    "    np.random.seed(worker_info.seed % (2 ** 32))"
   ]
  },
  {
   "cell_type": "code",
   "execution_count": 166,
   "id": "7a49e013-5124-471d-8f92-743ccf391b29",
   "metadata": {},
   "outputs": [],
   "source": [
    "train_loader = torch.utils.data.DataLoader(\n",
    "    dataset=test_gcc,#gtdata,\n",
    "    batch_size=16,\n",
    "    collate_fn=labeled_batcher() if False else batcher(),\n",
    "    shuffle=True if False else False,\n",
    "    num_workers=0,\n",
    "    worker_init_fn=None if False or False else worker_init_fn,\n",
    ")"
   ]
  },
  {
   "cell_type": "code",
   "execution_count": 167,
   "id": "fa4475f0-5030-4159-ab0e-6581fe3f66e3",
   "metadata": {},
   "outputs": [],
   "source": [
    "gcc_graph_loader = GraphDataLoader(\n",
    "     dataset=test_gcc,#gtdata,\n",
    "    batch_size=16,\n",
    "    collate_fn=labeled_batcher() if False else batcher(),\n",
    "    shuffle=True if False else False,\n",
    "    num_workers=0,\n",
    "    worker_init_fn=None if False or False else worker_init_fn,\n",
    ")"
   ]
  },
  {
   "cell_type": "code",
   "execution_count": 168,
   "id": "0116fbe2-7729-4d38-b4f5-1d8feb7c6094",
   "metadata": {},
   "outputs": [],
   "source": [
    "for idx, batch in enumerate(train_loader):\n",
    "    graph_q, graph_k = batch"
   ]
  },
  {
   "cell_type": "code",
   "execution_count": 171,
   "id": "cb44c2d2-8ce7-4faf-9e9a-2e986eceb80d",
   "metadata": {},
   "outputs": [
    {
     "data": {
      "text/plain": [
       "(0,\n",
       " (Graph(num_nodes=602, num_edges=1428,\n",
       "        ndata_schemes={'_ID': Scheme(shape=(), dtype=torch.int64), 'pos_undirected': Scheme(shape=(32,), dtype=torch.float32), 'seed': Scheme(shape=(), dtype=torch.int64)}\n",
       "        edata_schemes={'_ID': Scheme(shape=(), dtype=torch.int64)}),\n",
       "  Graph(num_nodes=602, num_edges=1428,\n",
       "        ndata_schemes={'_ID': Scheme(shape=(), dtype=torch.int64), 'pos_undirected': Scheme(shape=(32,), dtype=torch.float32), 'seed': Scheme(shape=(), dtype=torch.int64)}\n",
       "        edata_schemes={'_ID': Scheme(shape=(), dtype=torch.int64)})))"
      ]
     },
     "execution_count": 171,
     "metadata": {},
     "output_type": "execute_result"
    }
   ],
   "source": [
    "idx, batch"
   ]
  },
  {
   "cell_type": "code",
   "execution_count": 172,
   "id": "da756c6a-8124-4933-b3d9-caf4bc41bcc9",
   "metadata": {},
   "outputs": [
    {
     "data": {
      "text/plain": [
       "(0,\n",
       " (Graph(num_nodes=602, num_edges=1428,\n",
       "        ndata_schemes={'_ID': Scheme(shape=(), dtype=torch.int64), 'pos_undirected': Scheme(shape=(32,), dtype=torch.float32), 'seed': Scheme(shape=(), dtype=torch.int64)}\n",
       "        edata_schemes={'_ID': Scheme(shape=(), dtype=torch.int64)}),\n",
       "  Graph(num_nodes=602, num_edges=1428,\n",
       "        ndata_schemes={'_ID': Scheme(shape=(), dtype=torch.int64), 'pos_undirected': Scheme(shape=(32,), dtype=torch.float32), 'seed': Scheme(shape=(), dtype=torch.int64)}\n",
       "        edata_schemes={'_ID': Scheme(shape=(), dtype=torch.int64)})))"
      ]
     },
     "execution_count": 172,
     "metadata": {},
     "output_type": "execute_result"
    }
   ],
   "source": [
    "for idx, batch in enumerate(gcc_graph_loader):\n",
    "    graph_q, graph_k = batch\n",
    "    \n",
    "idx, batch"
   ]
  },
  {
   "cell_type": "markdown",
   "id": "b9f9c9b8-5a06-402b-be23-5050cbef6ed0",
   "metadata": {},
   "source": [
    "# `GraphMAE` dataset"
   ]
  },
  {
   "cell_type": "code",
   "execution_count": 173,
   "id": "3b9b7dc3-93cc-4081-9fd4-7874600a2d61",
   "metadata": {},
   "outputs": [],
   "source": [
    "pretext_keys = [\"ceo_club\", \"bison\", \"copenhagen/calls\"]\n",
    "fake_labels = [\"label2\", \"label1\", \"label2\"]"
   ]
  },
  {
   "cell_type": "code",
   "execution_count": 174,
   "id": "40f3ed52-0dff-435d-9564-0e396039b623",
   "metadata": {},
   "outputs": [
    {
     "name": "stdout",
     "output_type": "stream",
     "text": [
      "🦦 converting 3 graphs from graph-tool library to DGL format.\n"
     ]
    },
    {
     "name": "stderr",
     "output_type": "stream",
     "text": [
      "100%|████████████████████████████████████████████| 3/3 [00:00<00:00, 225.95it/s]"
     ]
    },
    {
     "name": "stdout",
     "output_type": "stream",
     "text": [
      "┌-----------------------------------------------------------┐\n",
      "|                      GraphMAEDataset                      |\n",
      "├-----------------------------------------------------------┤\n",
      "|number of graphs                       |                  3|\n",
      "|nodes — tot                            |                602|\n",
      "|nodes — mean                           | 200.66666666666666|\n",
      "|nodes — median                         |               40.0|\n",
      "|nodes — min                            |                 26|\n",
      "|nodes — max                            |                536|\n",
      "|edges — tot                            |               1428|\n",
      "|edges — mean                           |              476.0|\n",
      "|edges — median                         |              314.0|\n",
      "|edges — min                            |                190|\n",
      "|edges — max                            |                924|\n",
      "|number of labels                       |                  2|\n",
      "|   - label2                            |         2 (66.7 %)|\n",
      "|   - label1                            |         1 (33.3 %)|\n",
      "└-----------------------------------------------------------┘\n",
      "\n"
     ]
    },
    {
     "name": "stderr",
     "output_type": "stream",
     "text": [
      "\n"
     ]
    }
   ],
   "source": [
    "test_graphmae = GraphMAEDataset(dgl_graphs=graphtoolkeys2dglgraphs(pretext_keys)\n",
    "                                , graphs_labels=fake_labels\n",
    "                                , verbosity=True\n",
    "                               )"
   ]
  },
  {
   "cell_type": "code",
   "execution_count": 179,
   "id": "be402f70-c535-4b3e-a2b3-5c1bdfeac4ab",
   "metadata": {},
   "outputs": [
    {
     "data": {
      "text/plain": [
       "Graph(num_nodes=40, num_edges=190,\n",
       "      ndata_schemes={'attr': Scheme(shape=(22,), dtype=torch.float32)}\n",
       "      edata_schemes={})"
      ]
     },
     "execution_count": 179,
     "metadata": {},
     "output_type": "execute_result"
    }
   ],
   "source": [
    "test_graphmae.graphs[0]"
   ]
  },
  {
   "cell_type": "code",
   "execution_count": 180,
   "id": "a65d9bb3-653f-48a9-8ea5-6732676e5621",
   "metadata": {},
   "outputs": [
    {
     "data": {
      "text/plain": [
       "dict_keys(['name', 'graphs', 'num_labels', 'graphs_labels', 'degrees', 'feature_dim', 'oversize'])"
      ]
     },
     "execution_count": 180,
     "metadata": {},
     "output_type": "execute_result"
    }
   ],
   "source": [
    "attrs = vars(test_graphmae)\n",
    "attrs.keys()"
   ]
  },
  {
   "cell_type": "markdown",
   "id": "9ce1b7b7-67e4-4b77-a5d6-8dac9de9f3f7",
   "metadata": {},
   "source": [
    "## GraphMAE dataloader"
   ]
  },
  {
   "cell_type": "code",
   "execution_count": 181,
   "id": "4479acf0-8a85-494e-b988-7f069c5d6118",
   "metadata": {},
   "outputs": [],
   "source": [
    "from torch.utils.data.sampler import SubsetRandomSampler"
   ]
  },
  {
   "cell_type": "code",
   "execution_count": 178,
   "id": "10cd9ac5-387a-464b-94c1-a0b17460c959",
   "metadata": {},
   "outputs": [],
   "source": [
    "def collate_fn(batch):\n",
    "    # graphs = [x[0].add_self_loop() for x in batch]\n",
    "    graphs = [x[0] for x in batch]\n",
    "    labels = [x[1] for x in batch]\n",
    "    batch_g = dgl.batch(graphs)\n",
    "    labels = torch.cat(labels, dim=0)\n",
    "    return batch_g, labels"
   ]
  },
  {
   "cell_type": "code",
   "execution_count": 145,
   "id": "eb78c247-45ec-4eb2-bf7b-b29fa88f8894",
   "metadata": {},
   "outputs": [],
   "source": [
    "train_idx = torch.arange(len(test_graphmae))\n",
    "train_sampler = SubsetRandomSampler(train_idx)"
   ]
  },
  {
   "cell_type": "code",
   "execution_count": 146,
   "id": "df27f011-7a2f-483d-a2d1-3c6410855302",
   "metadata": {},
   "outputs": [],
   "source": [
    "batch_size = 32"
   ]
  },
  {
   "cell_type": "code",
   "execution_count": 161,
   "id": "3688c448-5829-4b1b-b795-bc5f90ffc489",
   "metadata": {},
   "outputs": [],
   "source": [
    "from dgl.dataloading.dataloader import GraphCollator"
   ]
  },
  {
   "cell_type": "code",
   "execution_count": 163,
   "id": "f93cd358-4f1f-45d3-a426-fa792e7e8821",
   "metadata": {},
   "outputs": [],
   "source": [
    "test_train_loader = torch.utils.data.DataLoader(\n",
    "    test_graphmae\n",
    "    , sampler=train_sampler\n",
    "    , collate_fn = GraphCollator().collate#, collate_fn=collate_fn\n",
    "    , batch_size=batch_size\n",
    "    , pin_memory=True\n",
    ")\n",
    "\n",
    "mae_train_loader = GraphDataLoader(mae_data#test_graphmae\n",
    "                               , sampler=SubsetRandomSampler(torch.arange(len(mae_data)))\n",
    "                               , collate_fn=collate_fn\n",
    "                               , batch_size=batch_size\n",
    "                               , pin_memory=True\n",
    "                              )"
   ]
  },
  {
   "cell_type": "code",
   "execution_count": 164,
   "id": "87bb6b26-00fe-45c4-aaab-11042e44da94",
   "metadata": {},
   "outputs": [
    {
     "data": {
      "text/plain": [
       "((Graph(num_nodes=8789, num_edges=50353,\n",
       "        ndata_schemes={'_ID': Scheme(shape=(), dtype=torch.int64), 'attr': Scheme(shape=(401,), dtype=torch.float32)}\n",
       "        edata_schemes={'_ID': Scheme(shape=(), dtype=torch.int64)}),\n",
       "  tensor([1, 1, 0, 1, 1, 1, 0, 1, 0, 0, 1, 0, 0, 1, 0, 0])),\n",
       " 2016)"
      ]
     },
     "execution_count": 164,
     "metadata": {},
     "output_type": "execute_result"
    }
   ],
   "source": [
    "for idx, batch in enumerate(mae_train_loader):\n",
    "    #print(batch)\n",
    "    batch = batch\n",
    "    \n",
    "batch, (idx+1)*batch_size"
   ]
  },
  {
   "cell_type": "code",
   "execution_count": 165,
   "id": "258c4068-f6a0-4710-94fb-59201c9f521e",
   "metadata": {},
   "outputs": [
    {
     "data": {
      "text/plain": [
       "([Graph(num_nodes=602, num_edges=1428,\n",
       "        ndata_schemes={'attr': Scheme(shape=(22,), dtype=torch.float32)}\n",
       "        edata_schemes={}),\n",
       "  ('label2', 'label1', 'label2')],\n",
       " 32)"
      ]
     },
     "execution_count": 165,
     "metadata": {},
     "output_type": "execute_result"
    }
   ],
   "source": [
    "for idx, batch in enumerate(test_train_loader):\n",
    "    #print(batch)\n",
    "    batch = batch\n",
    "    \n",
    "batch, (idx+1)*batch_size"
   ]
  },
  {
   "cell_type": "markdown",
   "id": "9409b36a-337e-4310-9869-3e197139644a",
   "metadata": {},
   "source": [
    "# 🧪 Integration experiments"
   ]
  },
  {
   "cell_type": "markdown",
   "id": "5dd1c6e8-0e78-46f3-973d-893b90ca009c",
   "metadata": {},
   "source": [
    "## GCC"
   ]
  },
  {
   "cell_type": "markdown",
   "id": "55da9d9c-ebe8-4f37-b856-919e76c80a76",
   "metadata": {},
   "source": [
    "### Using pretrained models"
   ]
  },
  {
   "cell_type": "code",
   "execution_count": 186,
   "id": "bf09ba63-5ade-4047-8888-52d1283cd3f3",
   "metadata": {},
   "outputs": [],
   "source": [
    "import sys  \n",
    "sys.path.insert(0, '../../dist_sim/')\n",
    "\n",
    "from gcc.generate import *"
   ]
  },
  {
   "cell_type": "code",
   "execution_count": 187,
   "id": "1212c079-e33b-4c25-a923-e8014f7c5825",
   "metadata": {},
   "outputs": [],
   "source": [
    "PATH_MODEL = \"../../dist_sim/gcc/pretrained/Pretrain_moco_True_dgl_gin_layer_5_lr_0.005_decay_1e-05_bsz_32_hid_64_samples_2000_nce_t_0.07_nce_k_16384_rw_hops_256_restart_prob_0.8_aug_1st_ft_False_deg_16_pos_32_momentum_0.999/current.pth\""
   ]
  },
  {
   "cell_type": "code",
   "execution_count": 188,
   "id": "33ccefac-48cb-4861-8743-02b4d325966b",
   "metadata": {},
   "outputs": [],
   "source": [
    "checkpoint = torch.load(PATH_MODEL, map_location=\"cpu\")\n",
    "args = checkpoint[\"opt\"]\n",
    "\n",
    "# create model and optimizer\n",
    "model = GraphEncoder(\n",
    "    positional_embedding_size=args.positional_embedding_size,\n",
    "    max_node_freq=args.max_node_freq,\n",
    "    max_edge_freq=args.max_edge_freq,\n",
    "    max_degree=args.max_degree,\n",
    "    freq_embedding_size=args.freq_embedding_size,\n",
    "    degree_embedding_size=args.degree_embedding_size,\n",
    "    output_dim=args.hidden_size,\n",
    "    node_hidden_dim=args.hidden_size,\n",
    "    edge_hidden_dim=args.hidden_size,\n",
    "    num_layers=args.num_layer,\n",
    "    num_step_set2set=args.set2set_iter,\n",
    "    num_layer_set2set=args.set2set_lstm_layer,\n",
    "    gnn_model=args.model,\n",
    "    norm=args.norm,\n",
    "    degree_input=True,\n",
    ")\n",
    "\n",
    "\n",
    "model.load_state_dict(checkpoint[\"model\"])\n",
    "\n",
    "del checkpoint"
   ]
  },
  {
   "cell_type": "code",
   "execution_count": 191,
   "id": "0ce158c4-1c63-4f63-95f7-757bd5945d72",
   "metadata": {},
   "outputs": [
    {
     "data": {
      "text/plain": [
       "(0, 0, 1)"
      ]
     },
     "execution_count": 191,
     "metadata": {},
     "output_type": "execute_result"
    }
   ],
   "source": [
    "parser = argparse.ArgumentParser(\"argument for training\")\n",
    "# fmt: off\n",
    "parser.add_argument(\"--load-path\", type=str, help=\"path to load model\")\n",
    "parser.add_argument(\"--dataset\", type=str\n",
    "                    , default=\"rdt-b\"\n",
    "                    , choices=[\"dgl\", \"wikipedia\", \"blogcatalog\", \"usa_airport\", \"brazil_airport\", \"europe_airport\", \"cora\", \"citeseer\", \"pubmed\", \"kdd\", \"icdm\", \"sigir\", \"cikm\", \"sigmod\", \"icde\", \"h-index-rand-1\", \"h-index-top-1\", \"h-index\"] + GRAPH_CLASSIFICATION_DSETS)\n",
    "parser.add_argument(\"--gpu\", default=None, type=int, help=\"GPU id to use.\")\n",
    "\n",
    "args_test = parser.parse_args(args=[])\n",
    "\n",
    "args.gpu = 0\n",
    "args.num_workers = 0\n",
    "args.num_copies = 1\n",
    "args.gpu, args.num_workers, args.num_copies"
   ]
  },
  {
   "cell_type": "code",
   "execution_count": 190,
   "id": "b658a56d-f9f7-4655-9514-74fa1b8bf604",
   "metadata": {},
   "outputs": [],
   "source": [
    "gcc_graph_loader = GraphDataLoader(\n",
    "     dataset=test_gcc,#gtdata,\n",
    "    batch_size=16,\n",
    "    collate_fn=labeled_batcher() if False else batcher(),\n",
    "    shuffle=True if False else False,\n",
    "    num_workers=0,\n",
    "    worker_init_fn=None if False or False else worker_init_fn,\n",
    ")"
   ]
  },
  {
   "cell_type": "code",
   "execution_count": 196,
   "id": "d639a191-db69-4b7e-86a2-f92415a6ef80",
   "metadata": {},
   "outputs": [
    {
     "name": "stderr",
     "output_type": "stream",
     "text": [
      "1it [00:00,  4.29it/s]"
     ]
    },
    {
     "name": "stdout",
     "output_type": "stream",
     "text": [
      "CPU times: user 1.04 s, sys: 434 ms, total: 1.47 s\n",
      "Wall time: 235 ms\n"
     ]
    },
    {
     "name": "stderr",
     "output_type": "stream",
     "text": [
      "\n"
     ]
    }
   ],
   "source": [
    "%%time \n",
    "emb = test_moco(gcc_graph_loader, model, args)"
   ]
  },
  {
   "cell_type": "code",
   "execution_count": 197,
   "id": "673cea2f-be62-4724-be2f-50c76b320e33",
   "metadata": {},
   "outputs": [
    {
     "data": {
      "text/plain": [
       "tensor([[-1.4525e-02,  1.0907e-01, -3.2119e-03, -1.2183e-01,  9.7231e-02,\n",
       "         -6.3740e-02,  8.0004e-02, -2.0031e-01,  1.5975e-01, -2.3301e-01,\n",
       "          8.9989e-02, -1.4166e-01, -3.2889e-02, -1.0339e-01, -3.1904e-01,\n",
       "         -9.6499e-02,  1.3998e-01, -4.1098e-02, -3.7734e-02, -2.4100e-01,\n",
       "          2.8044e-01, -1.3764e-02, -8.6480e-02,  3.2001e-03, -1.9461e-01,\n",
       "         -1.0765e-01,  2.9378e-02, -1.4074e-01,  2.7304e-01,  7.3826e-02,\n",
       "          1.7877e-01,  1.3722e-02,  6.5938e-02, -7.9772e-02,  1.5075e-02,\n",
       "         -1.0509e-01, -9.4612e-02,  1.0878e-01,  1.3448e-01,  1.5198e-01,\n",
       "         -3.0072e-02, -1.0517e-01,  1.4195e-01,  2.3302e-01,  3.2797e-02,\n",
       "          9.0370e-02, -7.7570e-02, -5.1710e-02, -4.8910e-02, -1.6310e-02,\n",
       "          9.4236e-03, -3.9813e-02, -3.9938e-02,  1.1781e-03, -3.1850e-02,\n",
       "          2.7156e-01,  3.3454e-02,  1.4332e-01, -8.5373e-02,  1.1330e-01,\n",
       "         -6.1122e-02,  6.7042e-02,  5.3721e-02,  1.0419e-01],\n",
       "        [-1.3897e-01, -1.9041e-01,  1.8808e-02, -1.0494e-01,  1.5659e-01,\n",
       "          7.2058e-02,  5.8404e-02,  7.3089e-02,  2.6381e-01,  1.6536e-01,\n",
       "         -6.6439e-02, -1.2198e-01, -1.7911e-01, -8.0277e-02, -6.1439e-02,\n",
       "         -1.3575e-01, -1.9001e-03, -2.1513e-01, -6.3717e-02, -2.8036e-01,\n",
       "          8.1502e-02, -3.2617e-02, -1.4571e-01, -9.9933e-02,  1.8195e-01,\n",
       "         -3.0226e-02,  1.9521e-01,  9.8482e-02, -1.9194e-01, -1.4888e-01,\n",
       "          6.8893e-02, -2.3367e-02,  1.7177e-01, -2.4630e-01, -9.1343e-02,\n",
       "          7.4002e-02, -2.4392e-02, -1.6829e-01,  3.0711e-02, -5.2805e-02,\n",
       "         -4.6451e-02, -4.6738e-03,  9.1597e-02, -8.2112e-02, -1.4306e-01,\n",
       "         -2.3124e-01,  8.5207e-02, -3.1744e-02, -1.2061e-01, -6.0113e-02,\n",
       "         -1.2455e-01,  1.1446e-04,  5.6267e-02, -2.0182e-01, -1.9879e-01,\n",
       "         -9.0801e-02, -2.1436e-02,  1.3402e-01, -8.9719e-04, -6.0187e-02,\n",
       "          1.2091e-01, -1.5448e-02,  7.0349e-02,  1.7513e-02],\n",
       "        [-2.4549e-02, -4.4932e-02,  1.5733e-01,  7.1192e-02,  2.3266e-01,\n",
       "         -4.5045e-03, -2.4639e-02, -7.6265e-02,  6.9640e-02, -1.1219e-02,\n",
       "          2.6923e-02, -3.0854e-01, -7.1769e-02, -7.2033e-02, -4.0617e-02,\n",
       "          2.4769e-02,  9.2962e-02,  1.4785e-01, -3.2000e-02, -1.5426e-01,\n",
       "         -9.4600e-02, -5.1882e-02, -8.1471e-02, -2.0387e-03, -3.4799e-02,\n",
       "          1.2620e-01,  2.9754e-02, -1.5452e-01,  6.2240e-02, -1.7404e-01,\n",
       "         -6.9714e-02,  9.6854e-02,  1.1548e-01, -2.4982e-01, -1.8069e-02,\n",
       "         -1.4739e-01, -1.1568e-01, -3.2023e-02,  1.6489e-01, -6.4630e-02,\n",
       "          1.4891e-02, -1.2794e-01,  1.3725e-02,  2.1389e-01,  1.6454e-01,\n",
       "          6.9752e-02, -3.3646e-01, -3.0893e-01,  5.3595e-03,  7.0885e-02,\n",
       "          1.7798e-01,  2.9115e-02,  1.3623e-01, -7.1508e-02, -9.8573e-03,\n",
       "          1.2282e-02,  8.4627e-02,  2.4362e-01, -2.1542e-03,  1.4062e-01,\n",
       "         -7.6441e-02, -3.3910e-02,  1.6624e-01, -2.0286e-02]])"
      ]
     },
     "execution_count": 197,
     "metadata": {},
     "output_type": "execute_result"
    }
   ],
   "source": [
    "emb"
   ]
  },
  {
   "cell_type": "markdown",
   "id": "4ac30db0-0ef8-4c0d-be67-ab8496a561f6",
   "metadata": {},
   "source": [
    "## GraphMAE"
   ]
  },
  {
   "cell_type": "code",
   "execution_count": 137,
   "id": "a0996233-978b-4283-87b7-65bf863f24b4",
   "metadata": {},
   "outputs": [],
   "source": [
    "def pretrain(model, pooler, dataloaders, optimizer, max_epoch, device, scheduler, num_classes, lr_f, weight_decay_f, max_epoch_f, linear_prob=True, logger=None):\n",
    "    train_loader, eval_loader = dataloaders\n",
    "\n",
    "    epoch_iter = tqdm(range(max_epoch))\n",
    "    for epoch in epoch_iter:\n",
    "        model.train()\n",
    "        loss_list = []\n",
    "        for batch in train_loader:\n",
    "            batch_g, _ = batch\n",
    "            batch_g = batch_g.to(device)\n",
    "\n",
    "            feat = batch_g.ndata[\"attr\"]\n",
    "            model.train()\n",
    "            loss, loss_dict = model(batch_g, feat)\n",
    "            \n",
    "            optimizer.zero_grad()\n",
    "            loss.backward()\n",
    "            optimizer.step()\n",
    "\n",
    "            loss_list.append(loss.item())\n",
    "            if logger is not None:\n",
    "                loss_dict[\"lr\"] = get_current_lr(optimizer)\n",
    "                logger.note(loss_dict, step=epoch)\n",
    "        if scheduler is not None:\n",
    "            scheduler.step()\n",
    "        epoch_iter.set_description(f\"Epoch {epoch} | train_loss: {np.mean(loss_list):.4f}\")\n",
    "\n",
    "    return model"
   ]
  },
  {
   "cell_type": "code",
   "execution_count": 138,
   "id": "3a1ef148-0ff2-4141-b931-bb8724805cc8",
   "metadata": {},
   "outputs": [],
   "source": [
    "# simulate the instantiation of GraphMAEDataste from a list of graphs.\n",
    "\n",
    "tudata = TUDataset(\"REDDIT-BINARY\")\n",
    "\n",
    "\n",
    "tu_graphs = [tu[0] for tu in tudata]\n",
    "tu_labs = [tu[1][0] for tu in tudata]"
   ]
  },
  {
   "cell_type": "code",
   "execution_count": 139,
   "id": "3fe827d8-68b1-4b74-9bfd-e5369b82e454",
   "metadata": {},
   "outputs": [
    {
     "name": "stdout",
     "output_type": "stream",
     "text": [
      "┌-----------------------------------------------------------┐\n",
      "|                      GraphMAEDataset                      |\n",
      "├-----------------------------------------------------------┤\n",
      "|number of graphs                       |               2000|\n",
      "|nodes — tot                            |             859254|\n",
      "|nodes — mean                           |            429.627|\n",
      "|nodes — median                         |              304.5|\n",
      "|nodes — min                            |                  6|\n",
      "|nodes — max                            |               3782|\n",
      "|edges — tot                            |            3982032|\n",
      "|edges — mean                           |           1991.016|\n",
      "|edges — median                         |             1516.0|\n",
      "|edges — min                            |                 16|\n",
      "|edges — max                            |              16284|\n",
      "|number of labels                       |               2000|\n",
      "|   - 1                                 |        1000 (50 %)|\n",
      "|   - 0                                 |        1000 (50 %)|\n",
      "└-----------------------------------------------------------┘\n",
      "\n"
     ]
    }
   ],
   "source": [
    "graphmae = GraphMAEDataset(dgl_graphs=tu_graphs\n",
    "                           , graphs_labels=tu_labs\n",
    "                           , verbosity=True\n",
    "                          )"
   ]
  },
  {
   "cell_type": "code",
   "execution_count": 140,
   "id": "8847d124-afc0-41c4-be44-a7b5f4df5ef7",
   "metadata": {},
   "outputs": [],
   "source": [
    "batch_size=32\n",
    "\n",
    "train_idx = torch.arange(len(graphmae))\n",
    "train_sampler = SubsetRandomSampler(train_idx)\n",
    "\n",
    "test_train_loader = GraphDataLoader(graphmae\n",
    "                                    #, sampler=train_sampler\n",
    "                                    #, collate_fn=collate_fn\n",
    "                                    , batch_size=batch_size\n",
    "                                    , pin_memory=True\n",
    "                                   )"
   ]
  },
  {
   "cell_type": "code",
   "execution_count": 141,
   "id": "be1d91c7-788a-4b54-b4e2-722540e5c398",
   "metadata": {},
   "outputs": [
    {
     "data": {
      "text/plain": [
       "([Graph(num_nodes=1600, num_edges=7536,\n",
       "        ndata_schemes={'_ID': Scheme(shape=(), dtype=torch.int64), 'attr': Scheme(shape=(401,), dtype=torch.float32)}\n",
       "        edata_schemes={'_ID': Scheme(shape=(), dtype=torch.int64)}),\n",
       "  tensor([1, 1, 1, 1, 1, 1, 1, 1, 1, 1, 1, 1, 1, 1, 1, 1])],\n",
       " 2016)"
      ]
     },
     "execution_count": 141,
     "metadata": {},
     "output_type": "execute_result"
    }
   ],
   "source": [
    "for idx, batch in enumerate(test_train_loader):\n",
    "    #print(batch)\n",
    "    batch = batch\n",
    "    \n",
    "batch, (idx+1)*batch_size"
   ]
  },
  {
   "cell_type": "code",
   "execution_count": null,
   "id": "fd6d17d4-5e0f-4a78-85ca-0ea93c033cb9",
   "metadata": {},
   "outputs": [],
   "source": []
  }
 ],
 "metadata": {
  "kernelspec": {
   "display_name": "Python 3 (ipykernel)",
   "language": "python",
   "name": "python3"
  },
  "language_info": {
   "codemirror_mode": {
    "name": "ipython",
    "version": 3
   },
   "file_extension": ".py",
   "mimetype": "text/x-python",
   "name": "python",
   "nbconvert_exporter": "python",
   "pygments_lexer": "ipython3",
   "version": "3.10.6"
  }
 },
 "nbformat": 4,
 "nbformat_minor": 5
}
