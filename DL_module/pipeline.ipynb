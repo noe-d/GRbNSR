{
 "cells": [
  {
   "cell_type": "markdown",
   "id": "b8a83309-e3ef-411c-a533-f4a8b66d6651",
   "metadata": {
    "tags": []
   },
   "source": [
    "<div class=\"alert alert-block alert-info\">\n",
    "<b>Notice:</b> This companion notebook showcases the main features implemented in this repository and unravels code from other python files.\n",
    "   \n",
    "It illustrates: <li> the <a href=#train_py>training</a> of  GRSSL models,</li><li>how to assess models' <a href=#classification>classification capabilities</a></li><li> and possible <a href=#visualisation>visualisations of the embeddings</a></li>\n",
    "</div>"
   ]
  },
  {
   "cell_type": "code",
   "execution_count": 1,
   "id": "baa78415-0beb-4a3a-8283-0c346b1699b1",
   "metadata": {
    "scrolled": true,
    "tags": []
   },
   "outputs": [],
   "source": [
    "from train import *\n",
    "\n",
    "from Utils.tasks import *\n",
    "\n",
    "%load_ext autoreload\n",
    "%autoreload 2"
   ]
  },
  {
   "cell_type": "code",
   "execution_count": 2,
   "id": "204c5a04",
   "metadata": {
    "scrolled": true,
    "tags": []
   },
   "outputs": [
    {
     "name": "stdout",
     "output_type": "stream",
     "text": [
      "torch.cuda.is_available(): False\n",
      "torch.cuda.device_count(): 0\n"
     ]
    }
   ],
   "source": [
    "#### check torch is using GPU:\n",
    "print(\"torch.cuda.is_available(): {}\".format(torch.cuda.is_available()))\n",
    "print(\"torch.cuda.device_count(): {}\".format(torch.cuda.device_count()))\n",
    "if torch.cuda.is_available():\n",
    "    print(\"torch.cuda.current_device(): {}\".format(torch.cuda.current_device()))\n",
    "    print(\"torch.cuda.device(0): {}\".format(torch.cuda.device(0)))\n",
    "    print(\"torch.cuda.get_device_name(0): {}\".format(torch.cuda.get_device_name(0)))"
   ]
  },
  {
   "cell_type": "code",
   "execution_count": 3,
   "id": "f083fd98",
   "metadata": {
    "scrolled": true,
    "tags": []
   },
   "outputs": [
    {
     "name": "stdout",
     "output_type": "stream",
     "text": [
      "Using device: cpu\n",
      "\n"
     ]
    }
   ],
   "source": [
    "# setting device on GPU if available, else CPU\n",
    "device = torch.device('cuda' if torch.cuda.is_available() else 'cpu')\n",
    "print('Using device:', device)\n",
    "print()\n",
    "\n",
    "#Additional Info when using cuda\n",
    "if device.type == 'cuda':\n",
    "    print(torch.cuda.get_device_name(0))\n",
    "    print('Memory Usage:')\n",
    "    print('Allocated:', round(torch.cuda.memory_allocated(0)/1024**3,1), 'GB')\n",
    "    print('Cached:   ', round(torch.cuda.memory_reserved(0)/1024**3,1), 'GB')"
   ]
  },
  {
   "cell_type": "markdown",
   "id": "7de6d173-f59a-4d9c-9727-2772afb38c3b",
   "metadata": {},
   "source": [
    "**Table of Content:**\n",
    "\n",
    "0. [Parse the configuration file](#parsing)\n",
    "1. [Trainig GRSSL model](#train_py)\n",
    "    1. [🧳 Data](#data)\n",
    "    1. [🌻 Model](#model)\n",
    "    5. [⚙️ Trainer](#trainer)\n",
    "2. [Assess classification capabilities](#classification)\n",
    "    1. [🟢 Netzschleuder dataset (from training)](#classification_netzschleuder)\n",
    "    8. [🟣 TUDataset (conventional)](#classification_tudataset)\n",
    "3. [Visualisation of the embeddings](#visualisation)\n",
    "    \n",
    "TODO:\n",
    "- [x] visualising embeddings\n",
    "- [ ] other assessment tasks"
   ]
  },
  {
   "cell_type": "markdown",
   "id": "24035b6f-f33c-402d-a159-8246cd024750",
   "metadata": {},
   "source": [
    "## 0. Parse Config file <a class=\"anchor\" id=\"parsing\"></a>\n",
    "\n",
    "Fill the path to the `.json` configuration file of the model to be trained below. The configuration will be loaded and parsed. The arguments will serve to initialise the DataLoader, Model and Trainer afterward."
   ]
  },
  {
   "cell_type": "code",
   "execution_count": 4,
   "id": "380e4501-eb9d-470d-8a9f-36aaf7c5f1e5",
   "metadata": {
    "tags": []
   },
   "outputs": [],
   "source": [
    "CONFIG_PATH = \"Configs/config_files/config_pgcl_show.json\"\n",
    "\n",
    "config = ConfigParser.from_json(json_path = CONFIG_PATH)"
   ]
  },
  {
   "cell_type": "markdown",
   "id": "87ae315f-50bf-47fb-83ab-627248104d5c",
   "metadata": {},
   "source": [
    "---\n",
    "\n",
    "# Training GRSSL model <a class=\"anchor\" id=\"train_py\"></a>\n",
    "\n",
    "This section shows the process going on in `main` method from [`train.py`](./train.py)."
   ]
  },
  {
   "cell_type": "markdown",
   "id": "75e82a86-162d-4cd9-97da-276e97c7cd7b",
   "metadata": {},
   "source": [
    "## A. 🧳 Data <a class=\"anchor\" id=\"data\"></a>\n",
    "\n",
    "First, the data are loaded. If a `.csv` with references to Netzschleuder instances is given, the graphs are loaded from the `graph-tool` library and converted in `DGL` format to be further processed using deep learning libraries. Otherwise native datasets from `DGL`, such as the TUDatasets, can directly be given to the model and loaded as the training data.\n",
    "\n",
    "### a) Load Dataset: `GraphDataset`"
   ]
  },
  {
   "cell_type": "code",
   "execution_count": 5,
   "id": "38481fa6-1252-4932-b01e-1db7a1bc1b47",
   "metadata": {
    "tags": []
   },
   "outputs": [
    {
     "name": "stdout",
     "output_type": "stream",
     "text": [
      "🦦 converting 4489 graphs from graph-tool library to DGL format.\n"
     ]
    },
    {
     "name": "stderr",
     "output_type": "stream",
     "text": [
      "100%|█████████████████████████████| 4489/4489 [16:34<00:00,  4.51it/s, graph=yeast_transcription]"
     ]
    },
    {
     "name": "stdout",
     "output_type": "stream",
     "text": [
      "The following graphs:\n",
      "'['budapest_connectome/all_20k', 'budapest_connectome/female_20k', 'budapest_connectome/male_20k', 'budapest_connectome/male_200k', 'budapest_connectome/male_1m', 'dutch_criticism', 'gnutella/4', 'gnutella/6', 'gnutella/8', 'gnutella/9', 'hiv_transmission']'\n",
      "... could not have been loaded from graph-tool library.\n"
     ]
    },
    {
     "name": "stderr",
     "output_type": "stream",
     "text": [
      "\n"
     ]
    }
   ],
   "source": [
    "dataset = config.init_obj('dataset', module_dataset)"
   ]
  },
  {
   "cell_type": "code",
   "execution_count": 6,
   "id": "562875ff-3ab5-4fac-bb07-2d336ed620da",
   "metadata": {
    "scrolled": true,
    "tags": []
   },
   "outputs": [
    {
     "name": "stdout",
     "output_type": "stream",
     "text": [
      "┌------------------------------------------------------------┐\n",
      "|           ../data/data_gnns/graphs_catalogue.csv           |\n",
      "├------------------------------------------------------------┤\n",
      "|number of graphs                       |                4478|\n",
      "|nodes — tot                            |            10841827|\n",
      "|nodes — mean                           |   2421.131531933899|\n",
      "|nodes — median                         |               747.5|\n",
      "|nodes — min                            |                   7|\n",
      "|nodes — max                            |               69082|\n",
      "|edges — tot                            |            52679396|\n",
      "|edges — mean                           |   11764.04555605181|\n",
      "|edges — median                         |              4155.0|\n",
      "|edges — min                            |                  28|\n",
      "|edges — max                            |              198694|\n",
      "|number of labels                       |                   6|\n",
      "|   - 0 (Biological)                    |       1495 (33.4 %)|\n",
      "|   - 1 (Economic)                      |        353 (7.88 %)|\n",
      "|   - 2 (Informational)                 |        313 (6.99 %)|\n",
      "|   - 3 (Social)                        |       1442 (32.2 %)|\n",
      "|   - 4 (Technological)                 |        843 (18.8 %)|\n",
      "|   - 5 (Transportation)                |        32 (0.715 %)|\n",
      "└------------------------------------------------------------┘\n",
      "\n"
     ]
    }
   ],
   "source": [
    "print(dataset)"
   ]
  },
  {
   "cell_type": "markdown",
   "id": "7761a6ec-9e11-49be-a5ce-9eedc3d84af2",
   "metadata": {},
   "source": [
    "### b) Build data loader (`GraphDataLoader`)\n",
    "\n",
    "The data loader is instanciated from the graphs dataset. It will pass batches of data to the model during training."
   ]
  },
  {
   "cell_type": "code",
   "execution_count": 7,
   "id": "3e9fd59a-ccf2-4506-a9cf-1e781ab39ce0",
   "metadata": {
    "tags": []
   },
   "outputs": [],
   "source": [
    "data_loader = dataset.make_GraphDataLoader(config[\"data_loader\"])"
   ]
  },
  {
   "cell_type": "code",
   "execution_count": 8,
   "id": "bca562bb-b090-4c31-98fe-cfa8641ac274",
   "metadata": {
    "tags": []
   },
   "outputs": [],
   "source": [
    "valid_data_loader = None # no validation here"
   ]
  },
  {
   "cell_type": "markdown",
   "id": "df636ec6-5391-43c7-9838-f630b539b1d2",
   "metadata": {},
   "source": [
    "## B. 🌻 Model <a class=\"anchor\" id=\"model\"></a>\n",
    "\n",
    "Then, it is the turn of the model to be instantiated. Based on the arguments parsed from the configuration file, the given model is initialised, ready to be trained."
   ]
  },
  {
   "cell_type": "code",
   "execution_count": 9,
   "id": "61063a08-d6a9-420a-b13d-d3e5163218b3",
   "metadata": {
    "tags": []
   },
   "outputs": [],
   "source": [
    "model = config.init_obj('arch', module_arch)"
   ]
  },
  {
   "cell_type": "code",
   "execution_count": 10,
   "id": "0e38abf4-d7ee-4be8-a7ef-11d744b72f3b",
   "metadata": {
    "tags": []
   },
   "outputs": [
    {
     "name": "stdout",
     "output_type": "stream",
     "text": [
      "Warning: There's no GPU available on this machine,training will be performed on CPU.\n"
     ]
    }
   ],
   "source": [
    "# prepare for (multi-device) GPU training\n",
    "device, device_ids = prepare_device(config['n_gpu'])\n",
    "model = model.to(device)\n",
    "if len(device_ids) > 1:\n",
    "    model = torch.nn.DataParallel(model, device_ids=device_ids)"
   ]
  },
  {
   "cell_type": "code",
   "execution_count": 11,
   "id": "9cdd82f2-a6b3-4c3d-89af-572735dc10a5",
   "metadata": {
    "tags": []
   },
   "outputs": [
    {
     "name": "stdout",
     "output_type": "stream",
     "text": [
      "PGCLModel(\n",
      "  (encoder): PGCLEncoder(\n",
      "    (convs): ModuleList(\n",
      "      (0): GINConv(nn=Sequential(\n",
      "        (0): Linear(in_features=1, out_features=16, bias=True)\n",
      "        (1): ReLU()\n",
      "        (2): Linear(in_features=16, out_features=16, bias=True)\n",
      "      ))\n",
      "      (1): GINConv(nn=Sequential(\n",
      "        (0): Linear(in_features=16, out_features=16, bias=True)\n",
      "        (1): ReLU()\n",
      "        (2): Linear(in_features=16, out_features=16, bias=True)\n",
      "      ))\n",
      "      (2): GINConv(nn=Sequential(\n",
      "        (0): Linear(in_features=16, out_features=16, bias=True)\n",
      "        (1): ReLU()\n",
      "        (2): Linear(in_features=16, out_features=16, bias=True)\n",
      "      ))\n",
      "      (3): GINConv(nn=Sequential(\n",
      "        (0): Linear(in_features=16, out_features=16, bias=True)\n",
      "        (1): ReLU()\n",
      "        (2): Linear(in_features=16, out_features=16, bias=True)\n",
      "      ))\n",
      "    )\n",
      "    (bns): ModuleList(\n",
      "      (0): BatchNorm1d(16, eps=1e-05, momentum=0.1, affine=True, track_running_stats=True)\n",
      "      (1): BatchNorm1d(16, eps=1e-05, momentum=0.1, affine=True, track_running_stats=True)\n",
      "      (2): BatchNorm1d(16, eps=1e-05, momentum=0.1, affine=True, track_running_stats=True)\n",
      "      (3): BatchNorm1d(16, eps=1e-05, momentum=0.1, affine=True, track_running_stats=True)\n",
      "    )\n",
      "    (proj_head): Sequential(\n",
      "      (0): Linear(in_features=64, out_features=64, bias=True)\n",
      "      (1): ReLU(inplace=True)\n",
      "      (2): Linear(in_features=64, out_features=64, bias=True)\n",
      "    )\n",
      "  )\n",
      "  (prototypes): Linear(in_features=64, out_features=8, bias=False)\n",
      "  (local_d): FF(\n",
      "    (block): Sequential(\n",
      "      (0): Linear(in_features=64, out_features=64, bias=True)\n",
      "      (1): ReLU()\n",
      "      (2): Linear(in_features=64, out_features=64, bias=True)\n",
      "      (3): ReLU()\n",
      "      (4): Linear(in_features=64, out_features=64, bias=True)\n",
      "      (5): ReLU()\n",
      "    )\n",
      "    (linear_shortcut): Linear(in_features=64, out_features=64, bias=True)\n",
      "  )\n",
      "  (global_d): FF(\n",
      "    (block): Sequential(\n",
      "      (0): Linear(in_features=64, out_features=64, bias=True)\n",
      "      (1): ReLU()\n",
      "      (2): Linear(in_features=64, out_features=64, bias=True)\n",
      "      (3): ReLU()\n",
      "      (4): Linear(in_features=64, out_features=64, bias=True)\n",
      "      (5): ReLU()\n",
      "    )\n",
      "    (linear_shortcut): Linear(in_features=64, out_features=64, bias=True)\n",
      "  )\n",
      "  (prior_d): PriorDiscriminator(\n",
      "    (l0): Linear(in_features=64, out_features=64, bias=True)\n",
      "    (l1): Linear(in_features=64, out_features=64, bias=True)\n",
      "    (l2): Linear(in_features=64, out_features=1, bias=True)\n",
      "  )\n",
      ")\n"
     ]
    }
   ],
   "source": [
    "print(model)"
   ]
  },
  {
   "cell_type": "markdown",
   "id": "48c0d62c-5fe0-42b8-b54b-710e6d820533",
   "metadata": {},
   "source": [
    "## C. ⚙️ Trainer <a class=\"anchor\" id=\"trainer\"></a>\n",
    "\n",
    "Finally, the trainer itself comes into play. It is characterized by the various hyperparameters that come into play during the training phase, such as the learning rate, the choice of the loss metric, or the number of epochs, but also model specific arguments."
   ]
  },
  {
   "cell_type": "code",
   "execution_count": 12,
   "id": "410d17a9-b8ed-43fe-9eef-a0d408c37386",
   "metadata": {
    "tags": []
   },
   "outputs": [],
   "source": [
    "criterion = config.init_obj('loss_type', module_loss)"
   ]
  },
  {
   "cell_type": "code",
   "execution_count": 13,
   "id": "4d7ad3f1-2a87-4c0d-9301-adbb33fd9650",
   "metadata": {
    "tags": []
   },
   "outputs": [],
   "source": [
    "metrics = None#[getattr(module_metric, met) for met in config['metrics']]"
   ]
  },
  {
   "cell_type": "code",
   "execution_count": 14,
   "id": "29f405d7-12a3-423a-859e-1f07d879a42b",
   "metadata": {
    "tags": []
   },
   "outputs": [],
   "source": [
    "trainable_params = filter(lambda p: p.requires_grad, model.parameters())\n",
    "optimizer = config.init_obj('optimizer', torch.optim, trainable_params)"
   ]
  },
  {
   "cell_type": "code",
   "execution_count": 15,
   "id": "8820382b-0b13-4834-9c11-02fee57ae1da",
   "metadata": {
    "tags": []
   },
   "outputs": [],
   "source": [
    "lr_scheduler = config.init_obj('lr_scheduler', torch.optim.lr_scheduler, optimizer)"
   ]
  },
  {
   "cell_type": "code",
   "execution_count": 16,
   "id": "5b12ece2-1a71-4a52-93d4-818c88564377",
   "metadata": {
    "tags": []
   },
   "outputs": [],
   "source": [
    "# 3.1 build trainer \n",
    "trainer_type = getattr(module_train, config['trainer_type'][\"type\"])\n",
    "trainer = trainer_type(model,\n",
    "                       criterion,\n",
    "                       metrics,\n",
    "                       optimizer,\n",
    "                       config=config,\n",
    "                       device=device,\n",
    "                       data_loader=data_loader,\n",
    "                       valid_data_loader=valid_data_loader,\n",
    "                       lr_scheduler=lr_scheduler,\n",
    "                       **config['trainer_type']['args']\n",
    "                      )"
   ]
  },
  {
   "cell_type": "markdown",
   "id": "b6ea1296-4290-4f8b-90de-a57e45a23a12",
   "metadata": {},
   "source": [
    "Everything is initialised by now, let's train the model for real! \n",
    "\n",
    "> **Warning**\n",
    "> Depending on the model's architecture, the size of the training dataset, the number of epochs and other variables this phase could take some time. \n",
    "(It should last about 20 minutes for the default showcase configuration but lasted more than 7 hours per model in average when training the final PGCL models.)"
   ]
  },
  {
   "cell_type": "code",
   "execution_count": 17,
   "id": "18dd1486-6e22-434a-9537-44a5dd9451e0",
   "metadata": {
    "scrolled": true,
    "tags": []
   },
   "outputs": [
    {
     "name": "stdout",
     "output_type": "stream",
     "text": [
      "Saving checkpoint: saved/show/models/PGCL/0321_002939/model_untrained.pth ...\n",
      "Train Epoch: 1 [0/35 (0%)] Loss: 23.568857\n",
      "Train Epoch: 1 [11/35 (31%)] Loss: 23.041298\n",
      "Train Epoch: 1 [22/35 (63%)] Loss: 23.451483\n",
      "Train Epoch: 1 [33/35 (94%)] Loss: 22.508528\n",
      "    epoch          : 1\n",
      "    loss           : 23.190621839250838\n",
      "    time           : 00:05:00\n",
      "    no improvement : 0\n",
      "Saving current best: model_best.pth ...\n",
      "Train Epoch: 2 [0/35 (0%)] Loss: 22.810719\n",
      "Train Epoch: 2 [11/35 (31%)] Loss: 22.755043\n",
      "Train Epoch: 2 [22/35 (63%)] Loss: 23.185251\n",
      "Train Epoch: 2 [33/35 (94%)] Loss: 22.192009\n",
      "    epoch          : 2\n",
      "    loss           : 22.76174785069057\n",
      "    time           : 00:04:54\n",
      "    no improvement : 0\n",
      "Saving current best: model_best.pth ...\n",
      "Train Epoch: 3 [0/35 (0%)] Loss: 22.846218\n",
      "Train Epoch: 3 [11/35 (31%)] Loss: 22.428501\n",
      "Train Epoch: 3 [22/35 (63%)] Loss: 23.070908\n",
      "Train Epoch: 3 [33/35 (94%)] Loss: 22.126015\n",
      "    epoch          : 3\n",
      "    loss           : 22.57945485796247\n",
      "    time           : 00:05:22\n",
      "    no improvement : 0\n",
      "Saving current best: model_best.pth ...\n",
      "Train Epoch: 4 [0/35 (0%)] Loss: 22.720860\n",
      "Train Epoch: 4 [11/35 (31%)] Loss: 22.335682\n",
      "Train Epoch: 4 [22/35 (63%)] Loss: 23.316185\n",
      "Train Epoch: 4 [33/35 (94%)] Loss: 22.052296\n",
      "    epoch          : 4\n",
      "    loss           : 22.488237980433873\n",
      "    time           : 00:04:59\n",
      "    no improvement : 0\n",
      "Saving current best: model_best.pth ...\n"
     ]
    }
   ],
   "source": [
    "%%capture --no-stdout --no-display \n",
    "# capture warnings for readibility of the output\n",
    "# 3.2 🧞 train the model\n",
    "training_time = time()\n",
    "trainer.train()\n",
    "training_time = time() - training_time"
   ]
  },
  {
   "cell_type": "code",
   "execution_count": 18,
   "id": "afe1dfe8-bb45-438e-9735-f27c331ce4cf",
   "metadata": {
    "tags": []
   },
   "outputs": [
    {
     "name": "stdout",
     "output_type": "stream",
     "text": [
      "It took 00:20:17 to train the model.\n"
     ]
    }
   ],
   "source": [
    "print(\"It took {} to train the model.\".format(seconds2hms(training_time)))"
   ]
  },
  {
   "cell_type": "markdown",
   "id": "3a97495e-4576-4a84-9eee-244b65d9fdd2",
   "metadata": {},
   "source": [
    "If you want to modify the initial configuration, or train a whole new model, you can go back to [parsing ⬆️](#parsing).\n",
    "\n",
    "Otherwise, let's evaluate the performances of our trained model.\n",
    "\n",
    "---"
   ]
  },
  {
   "cell_type": "markdown",
   "id": "b5532958-5abf-492e-88cf-4e44ff0aaabe",
   "metadata": {
    "tags": []
   },
   "source": [
    "# Assess classification capabilities <a class=\"anchor\" id=\"classification\"></a>\n",
    "\n",
    "Now that we have trained a model for graph classification, it is time to evaluate its performances. To do so, we'll rely on the task of graphs classification.\n",
    "\n",
    "First, we'll see if the model manages to classify correctly the [data it was trained on](#classification_netzschleuder). Then, we'll evaluate its performances on a [popular dataset](#classification_tudataset) commonly used in GRL literature to benchmark the models.\n",
    "\n",
    "The evaluation procedure is encapsulated into a function that will load the model, the dataset, perform an N-fold SVC classification and report the average accuracy obtained."
   ]
  },
  {
   "cell_type": "code",
   "execution_count": 19,
   "id": "d7e86db2-8e5d-41d7-8e82-a31213aa14fd",
   "metadata": {
    "tags": []
   },
   "outputs": [],
   "source": [
    "from Utils.tasks import *"
   ]
  },
  {
   "cell_type": "markdown",
   "id": "f4569af7-b712-4a7a-9e4a-97c7f16e3339",
   "metadata": {},
   "source": [
    "## 🟢 Netzschleuder dataset (from training) <a class=\"anchor\" id=\"classification_netzschleuder\"></a>"
   ]
  },
  {
   "cell_type": "code",
   "execution_count": 20,
   "id": "9814ba82-4f33-40ed-9032-fc629ceb488a",
   "metadata": {
    "tags": []
   },
   "outputs": [
    {
     "name": "stdout",
     "output_type": "stream",
     "text": [
      "PGCLModel(\n",
      "  (encoder): PGCLEncoder(\n",
      "    (convs): ModuleList(\n",
      "      (0): GINConv(nn=Sequential(\n",
      "        (0): Linear(in_features=1, out_features=16, bias=True)\n",
      "        (1): ReLU()\n",
      "        (2): Linear(in_features=16, out_features=16, bias=True)\n",
      "      ))\n",
      "      (1): GINConv(nn=Sequential(\n",
      "        (0): Linear(in_features=16, out_features=16, bias=True)\n",
      "        (1): ReLU()\n",
      "        (2): Linear(in_features=16, out_features=16, bias=True)\n",
      "      ))\n",
      "      (2): GINConv(nn=Sequential(\n",
      "        (0): Linear(in_features=16, out_features=16, bias=True)\n",
      "        (1): ReLU()\n",
      "        (2): Linear(in_features=16, out_features=16, bias=True)\n",
      "      ))\n",
      "      (3): GINConv(nn=Sequential(\n",
      "        (0): Linear(in_features=16, out_features=16, bias=True)\n",
      "        (1): ReLU()\n",
      "        (2): Linear(in_features=16, out_features=16, bias=True)\n",
      "      ))\n",
      "    )\n",
      "    (bns): ModuleList(\n",
      "      (0): BatchNorm1d(16, eps=1e-05, momentum=0.1, affine=True, track_running_stats=True)\n",
      "      (1): BatchNorm1d(16, eps=1e-05, momentum=0.1, affine=True, track_running_stats=True)\n",
      "      (2): BatchNorm1d(16, eps=1e-05, momentum=0.1, affine=True, track_running_stats=True)\n",
      "      (3): BatchNorm1d(16, eps=1e-05, momentum=0.1, affine=True, track_running_stats=True)\n",
      "    )\n",
      "    (proj_head): Sequential(\n",
      "      (0): Linear(in_features=64, out_features=64, bias=True)\n",
      "      (1): ReLU(inplace=True)\n",
      "      (2): Linear(in_features=64, out_features=64, bias=True)\n",
      "    )\n",
      "  )\n",
      "  (prototypes): Linear(in_features=64, out_features=8, bias=False)\n",
      "  (local_d): FF(\n",
      "    (block): Sequential(\n",
      "      (0): Linear(in_features=64, out_features=64, bias=True)\n",
      "      (1): ReLU()\n",
      "      (2): Linear(in_features=64, out_features=64, bias=True)\n",
      "      (3): ReLU()\n",
      "      (4): Linear(in_features=64, out_features=64, bias=True)\n",
      "      (5): ReLU()\n",
      "    )\n",
      "    (linear_shortcut): Linear(in_features=64, out_features=64, bias=True)\n",
      "  )\n",
      "  (global_d): FF(\n",
      "    (block): Sequential(\n",
      "      (0): Linear(in_features=64, out_features=64, bias=True)\n",
      "      (1): ReLU()\n",
      "      (2): Linear(in_features=64, out_features=64, bias=True)\n",
      "      (3): ReLU()\n",
      "      (4): Linear(in_features=64, out_features=64, bias=True)\n",
      "      (5): ReLU()\n",
      "    )\n",
      "    (linear_shortcut): Linear(in_features=64, out_features=64, bias=True)\n",
      "  )\n",
      "  (prior_d): PriorDiscriminator(\n",
      "    (l0): Linear(in_features=64, out_features=64, bias=True)\n",
      "    (l1): Linear(in_features=64, out_features=64, bias=True)\n",
      "    (l2): Linear(in_features=64, out_features=1, bias=True)\n",
      "  )\n",
      ")\n",
      "┌------------------------------------------------------------┐\n",
      "|           ../data/data_gnns/graphs_catalogue.csv           |\n",
      "├------------------------------------------------------------┤\n",
      "|number of graphs                       |                4478|\n",
      "|nodes — tot                            |            10841827|\n",
      "|nodes — mean                           |   2421.131531933899|\n",
      "|nodes — median                         |               747.5|\n",
      "|nodes — min                            |                   7|\n",
      "|nodes — max                            |               69082|\n",
      "|edges — tot                            |            52679396|\n",
      "|edges — mean                           |   11764.04555605181|\n",
      "|edges — median                         |              4155.0|\n",
      "|edges — min                            |                  28|\n",
      "|edges — max                            |              198694|\n",
      "|number of labels                       |                   6|\n",
      "|   - 0 (Biological)                    |       1495 (33.4 %)|\n",
      "|   - 1 (Economic)                      |        353 (7.88 %)|\n",
      "|   - 2 (Informational)                 |        313 (6.99 %)|\n",
      "|   - 3 (Social)                        |       1442 (32.2 %)|\n",
      "|   - 4 (Technological)                 |        843 (18.8 %)|\n",
      "|   - 5 (Transportation)                |        32 (0.715 %)|\n",
      "└------------------------------------------------------------┘\n",
      "\n",
      "Computing embeddings .... \n",
      "\t... embeddings computed in: 00:00:11.\n",
      "10-folds SVC-Classification from embeddings ...\n",
      "\t... classification computed in: 00:00:21.\n",
      "Computing dummy predictions: ['most_frequent', 'uniform'].\n",
      "Scores:\n",
      "\t- Micro-F1 = 0.9511\n",
      "\t- Micro-F1 (std.) = 0.01045\n",
      "\t- most_frequent - micro-F1 = 0.3339\n",
      "\t- most_frequent - micro-F1 (std.) = 0.001292\n",
      "\t- uniform - micro-F1 = 0.1673\n",
      "\t- uniform - micro-F1 (std.) = 0.0153\n",
      "CPU times: user 21.3 s, sys: 3.97 s, total: 25.2 s\n",
      "Wall time: 33 s\n"
     ]
    }
   ],
   "source": [
    "%%time\n",
    "\n",
    "test_classification = testmodel_dataset(\n",
    "    model=trainer,\n",
    "    dataset=None, # --> loaded from trainer\n",
    "    logger=None, # --> loaded from trainer\n",
    "    seed=0, # --> seed of the experiment\n",
    "    n_repeat=10, # --> N-fold\n",
    "    dummy_baselines=[\"most_frequent\",\"uniform\"], # --> dummy baselines\n",
    ")"
   ]
  },
  {
   "cell_type": "markdown",
   "id": "d03be2ae-280a-41e6-953e-ddeaf2e3577d",
   "metadata": {},
   "source": [
    "## 🟣 TUDataset (standard) <a class=\"anchor\" id=\"classification_tudataset\"></a>\n",
    "\n",
    "The TUDatasets host several graphs dataset commonly used to benchmark GRL models on graph classification tasks. Let's consider one of these dataset here: `REDDIT-BINARY`."
   ]
  },
  {
   "cell_type": "code",
   "execution_count": 21,
   "id": "8f571022-0882-4a10-9ab6-1336cfe9f4f6",
   "metadata": {
    "tags": []
   },
   "outputs": [
    {
     "name": "stdout",
     "output_type": "stream",
     "text": [
      "PGCLModel(\n",
      "  (encoder): PGCLEncoder(\n",
      "    (convs): ModuleList(\n",
      "      (0): GINConv(nn=Sequential(\n",
      "        (0): Linear(in_features=1, out_features=16, bias=True)\n",
      "        (1): ReLU()\n",
      "        (2): Linear(in_features=16, out_features=16, bias=True)\n",
      "      ))\n",
      "      (1): GINConv(nn=Sequential(\n",
      "        (0): Linear(in_features=16, out_features=16, bias=True)\n",
      "        (1): ReLU()\n",
      "        (2): Linear(in_features=16, out_features=16, bias=True)\n",
      "      ))\n",
      "      (2): GINConv(nn=Sequential(\n",
      "        (0): Linear(in_features=16, out_features=16, bias=True)\n",
      "        (1): ReLU()\n",
      "        (2): Linear(in_features=16, out_features=16, bias=True)\n",
      "      ))\n",
      "      (3): GINConv(nn=Sequential(\n",
      "        (0): Linear(in_features=16, out_features=16, bias=True)\n",
      "        (1): ReLU()\n",
      "        (2): Linear(in_features=16, out_features=16, bias=True)\n",
      "      ))\n",
      "    )\n",
      "    (bns): ModuleList(\n",
      "      (0): BatchNorm1d(16, eps=1e-05, momentum=0.1, affine=True, track_running_stats=True)\n",
      "      (1): BatchNorm1d(16, eps=1e-05, momentum=0.1, affine=True, track_running_stats=True)\n",
      "      (2): BatchNorm1d(16, eps=1e-05, momentum=0.1, affine=True, track_running_stats=True)\n",
      "      (3): BatchNorm1d(16, eps=1e-05, momentum=0.1, affine=True, track_running_stats=True)\n",
      "    )\n",
      "    (proj_head): Sequential(\n",
      "      (0): Linear(in_features=64, out_features=64, bias=True)\n",
      "      (1): ReLU(inplace=True)\n",
      "      (2): Linear(in_features=64, out_features=64, bias=True)\n",
      "    )\n",
      "  )\n",
      "  (prototypes): Linear(in_features=64, out_features=8, bias=False)\n",
      "  (local_d): FF(\n",
      "    (block): Sequential(\n",
      "      (0): Linear(in_features=64, out_features=64, bias=True)\n",
      "      (1): ReLU()\n",
      "      (2): Linear(in_features=64, out_features=64, bias=True)\n",
      "      (3): ReLU()\n",
      "      (4): Linear(in_features=64, out_features=64, bias=True)\n",
      "      (5): ReLU()\n",
      "    )\n",
      "    (linear_shortcut): Linear(in_features=64, out_features=64, bias=True)\n",
      "  )\n",
      "  (global_d): FF(\n",
      "    (block): Sequential(\n",
      "      (0): Linear(in_features=64, out_features=64, bias=True)\n",
      "      (1): ReLU()\n",
      "      (2): Linear(in_features=64, out_features=64, bias=True)\n",
      "      (3): ReLU()\n",
      "      (4): Linear(in_features=64, out_features=64, bias=True)\n",
      "      (5): ReLU()\n",
      "    )\n",
      "    (linear_shortcut): Linear(in_features=64, out_features=64, bias=True)\n",
      "  )\n",
      "  (prior_d): PriorDiscriminator(\n",
      "    (l0): Linear(in_features=64, out_features=64, bias=True)\n",
      "    (l1): Linear(in_features=64, out_features=64, bias=True)\n",
      "    (l2): Linear(in_features=64, out_features=1, bias=True)\n",
      "  )\n",
      ")\n",
      "┌-----------------------------------------------------------┐\n",
      "|                       REDDIT-BINARY                       |\n",
      "├-----------------------------------------------------------┤\n",
      "|number of graphs                       |               2000|\n",
      "|nodes — tot                            |             859254|\n",
      "|nodes — mean                           |            429.627|\n",
      "|nodes — median                         |              304.5|\n",
      "|nodes — min                            |                  6|\n",
      "|nodes — max                            |               3782|\n",
      "|edges — tot                            |            1991016|\n",
      "|edges — mean                           |            995.508|\n",
      "|edges — median                         |              758.0|\n",
      "|edges — min                            |                  8|\n",
      "|edges — max                            |               8142|\n",
      "|number of labels                       |                  2|\n",
      "|   - 0 (0)                             |        1000 (50 %)|\n",
      "|   - 1 (1)                             |        1000 (50 %)|\n",
      "└-----------------------------------------------------------┘\n",
      "\n",
      "Computing embeddings .... \n"
     ]
    },
    {
     "name": "stderr",
     "output_type": "stream",
     "text": [
      "/Users/nmm/Desktop/GRbNSR/DL_module/Models/model_util.py:151: UserWarning: To copy construct from a tensor, it is recommended to use sourceTensor.clone().detach() or sourceTensor.clone().detach().requires_grad_(True), rather than torch.tensor(sourceTensor).\n",
      "  batch = torch.tensor(batch, dtype=int)\n"
     ]
    },
    {
     "name": "stdout",
     "output_type": "stream",
     "text": [
      "\t... embeddings computed in: 00:00:01.\n",
      "10-folds SVC-Classification from embeddings ...\n",
      "\t... classification computed in: 00:00:44.\n",
      "Computing dummy predictions: ['most_frequent', 'uniform'].\n",
      "Scores:\n",
      "\t- Micro-F1 = 0.915\n",
      "\t- Micro-F1 (std.) = 0.01265\n",
      "\t- most_frequent - micro-F1 = 0.5\n",
      "\t- most_frequent - micro-F1 (std.) = 0\n",
      "\t- uniform - micro-F1 = 0.51\n",
      "\t- uniform - micro-F1 (std.) = 0.02748\n",
      "CPU times: user 16.4 s, sys: 558 ms, total: 17 s\n",
      "Wall time: 48.1 s\n"
     ]
    }
   ],
   "source": [
    "%%time\n",
    "\n",
    "test_classification_rdb = testmodel_dataset(\n",
    "    model=trainer,\n",
    "    dataset=\"REDDIT-BINARY\", # --> loaded from trainer\n",
    "    logger=None, # --> loaded from trainer\n",
    "    seed=0,\n",
    "    n_repeat=10,\n",
    "    dummy_baselines=[\"most_frequent\",\"uniform\"],\n",
    ")"
   ]
  },
  {
   "cell_type": "markdown",
   "id": "56003a8c-b89d-46c0-bc62-97fa5c4bac1e",
   "metadata": {
    "tags": []
   },
   "source": [
    "---\n",
    "# Visualisation of the embeddings  <a class=\"anchor\" id=\"visualisation\"></a>\n",
    "\n",
    "This section demonstrates the visualisation that can be plotted using the script implemented in [`viz.py`](./viz.py).\n",
    "\n",
    "The graphs representations are mapped to two dimensions in order to enable their visualisation and the exploration of the spaces induced by the GRL models.\n",
    "\n",
    "The different steps are encapsulated in a function that can directly be called to generate the visualisation of a dataset according to a model"
   ]
  },
  {
   "cell_type": "code",
   "execution_count": 22,
   "id": "9b53257e-8e7b-4dc4-9106-c457fdb0a5a8",
   "metadata": {
    "tags": []
   },
   "outputs": [
    {
     "name": "stdout",
     "output_type": "stream",
     "text": [
      "The autoreload extension is already loaded. To reload it, use:\n",
      "  %reload_ext autoreload\n"
     ]
    }
   ],
   "source": [
    "import viz as viz\n",
    "\n",
    "%load_ext autoreload\n",
    "%autoreload 2"
   ]
  },
  {
   "cell_type": "code",
   "execution_count": 23,
   "id": "e9395598-7b94-48b8-bf0e-11289d4a8db5",
   "metadata": {
    "tags": []
   },
   "outputs": [
    {
     "name": "stdout",
     "output_type": "stream",
     "text": [
      "PGCLModel(\n",
      "  (encoder): PGCLEncoder(\n",
      "    (convs): ModuleList(\n",
      "      (0): GINConv(nn=Sequential(\n",
      "        (0): Linear(in_features=1, out_features=16, bias=True)\n",
      "        (1): ReLU()\n",
      "        (2): Linear(in_features=16, out_features=16, bias=True)\n",
      "      ))\n",
      "      (1): GINConv(nn=Sequential(\n",
      "        (0): Linear(in_features=16, out_features=16, bias=True)\n",
      "        (1): ReLU()\n",
      "        (2): Linear(in_features=16, out_features=16, bias=True)\n",
      "      ))\n",
      "      (2): GINConv(nn=Sequential(\n",
      "        (0): Linear(in_features=16, out_features=16, bias=True)\n",
      "        (1): ReLU()\n",
      "        (2): Linear(in_features=16, out_features=16, bias=True)\n",
      "      ))\n",
      "      (3): GINConv(nn=Sequential(\n",
      "        (0): Linear(in_features=16, out_features=16, bias=True)\n",
      "        (1): ReLU()\n",
      "        (2): Linear(in_features=16, out_features=16, bias=True)\n",
      "      ))\n",
      "    )\n",
      "    (bns): ModuleList(\n",
      "      (0): BatchNorm1d(16, eps=1e-05, momentum=0.1, affine=True, track_running_stats=True)\n",
      "      (1): BatchNorm1d(16, eps=1e-05, momentum=0.1, affine=True, track_running_stats=True)\n",
      "      (2): BatchNorm1d(16, eps=1e-05, momentum=0.1, affine=True, track_running_stats=True)\n",
      "      (3): BatchNorm1d(16, eps=1e-05, momentum=0.1, affine=True, track_running_stats=True)\n",
      "    )\n",
      "    (proj_head): Sequential(\n",
      "      (0): Linear(in_features=64, out_features=64, bias=True)\n",
      "      (1): ReLU(inplace=True)\n",
      "      (2): Linear(in_features=64, out_features=64, bias=True)\n",
      "    )\n",
      "  )\n",
      "  (prototypes): Linear(in_features=64, out_features=8, bias=False)\n",
      "  (local_d): FF(\n",
      "    (block): Sequential(\n",
      "      (0): Linear(in_features=64, out_features=64, bias=True)\n",
      "      (1): ReLU()\n",
      "      (2): Linear(in_features=64, out_features=64, bias=True)\n",
      "      (3): ReLU()\n",
      "      (4): Linear(in_features=64, out_features=64, bias=True)\n",
      "      (5): ReLU()\n",
      "    )\n",
      "    (linear_shortcut): Linear(in_features=64, out_features=64, bias=True)\n",
      "  )\n",
      "  (global_d): FF(\n",
      "    (block): Sequential(\n",
      "      (0): Linear(in_features=64, out_features=64, bias=True)\n",
      "      (1): ReLU()\n",
      "      (2): Linear(in_features=64, out_features=64, bias=True)\n",
      "      (3): ReLU()\n",
      "      (4): Linear(in_features=64, out_features=64, bias=True)\n",
      "      (5): ReLU()\n",
      "    )\n",
      "    (linear_shortcut): Linear(in_features=64, out_features=64, bias=True)\n",
      "  )\n",
      "  (prior_d): PriorDiscriminator(\n",
      "    (l0): Linear(in_features=64, out_features=64, bias=True)\n",
      "    (l1): Linear(in_features=64, out_features=64, bias=True)\n",
      "    (l2): Linear(in_features=64, out_features=1, bias=True)\n",
      "  )\n",
      ")\n",
      "┌------------------------------------------------------------┐\n",
      "|           ../data/data_gnns/graphs_catalogue.csv           |\n",
      "├------------------------------------------------------------┤\n",
      "|number of graphs                       |                4478|\n",
      "|nodes — tot                            |            10841827|\n",
      "|nodes — mean                           |   2421.131531933899|\n",
      "|nodes — median                         |               747.5|\n",
      "|nodes — min                            |                   7|\n",
      "|nodes — max                            |               69082|\n",
      "|edges — tot                            |            52679396|\n",
      "|edges — mean                           |   11764.04555605181|\n",
      "|edges — median                         |              4155.0|\n",
      "|edges — min                            |                  28|\n",
      "|edges — max                            |              198694|\n",
      "|number of labels                       |                   6|\n",
      "|   - 0 (Biological)                    |       1495 (33.4 %)|\n",
      "|   - 1 (Economic)                      |        353 (7.88 %)|\n",
      "|   - 2 (Informational)                 |        313 (6.99 %)|\n",
      "|   - 3 (Social)                        |       1442 (32.2 %)|\n",
      "|   - 4 (Technological)                 |        843 (18.8 %)|\n",
      "|   - 5 (Transportation)                |        32 (0.715 %)|\n",
      "└------------------------------------------------------------┘\n",
      "\n",
      "Computing embeddings .... \n"
     ]
    },
    {
     "name": "stderr",
     "output_type": "stream",
     "text": [
      "/Users/nmm/Desktop/GRbNSR/DL_module/Models/model_util.py:151: UserWarning: To copy construct from a tensor, it is recommended to use sourceTensor.clone().detach() or sourceTensor.clone().detach().requires_grad_(True), rather than torch.tensor(sourceTensor).\n",
      "  batch = torch.tensor(batch, dtype=int)\n"
     ]
    },
    {
     "name": "stdout",
     "output_type": "stream",
     "text": [
      "\t... embeddings computed in: 00:00:10.\n",
      "📽 Initialising the Graph Representation Visualiser\n",
      "projecting embeddings with TSNE.\n"
     ]
    },
    {
     "data": {
      "image/png": "[encoded data removed]",
      "text/plain": [
       "<Figure size 1000x800 with 1 Axes>"
      ]
     },
     "metadata": {},
     "output_type": "display_data"
    },
    {
     "name": "stdout",
     "output_type": "stream",
     "text": [
      "Dash app running on http://0.0.0.0:8060/\n"
     ]
    }
   ],
   "source": [
    "viz.main(\n",
    "    model=trainer, # --> retrive model to generate representations\n",
    "    model_name=trainer.config[\"name\"], # --> name to title the figures\n",
    "    red_type=\"manifold.TSNE\", # --> reduce from dimension D to 2 dimensions\n",
    "    no_interactive=False, # --> open the port hosting the interactive visualisation; link printed below figure\n",
    ")"
   ]
  },
  {
   "cell_type": "code",
   "execution_count": 24,
   "id": "ed438ad0-812a-4f96-b1d7-21c63440bb8a",
   "metadata": {
    "tags": []
   },
   "outputs": [
    {
     "name": "stdout",
     "output_type": "stream",
     "text": [
      "PGCLModel(\n",
      "  (encoder): PGCLEncoder(\n",
      "    (convs): ModuleList(\n",
      "      (0): GINConv(nn=Sequential(\n",
      "        (0): Linear(in_features=1, out_features=16, bias=True)\n",
      "        (1): ReLU()\n",
      "        (2): Linear(in_features=16, out_features=16, bias=True)\n",
      "      ))\n",
      "      (1): GINConv(nn=Sequential(\n",
      "        (0): Linear(in_features=16, out_features=16, bias=True)\n",
      "        (1): ReLU()\n",
      "        (2): Linear(in_features=16, out_features=16, bias=True)\n",
      "      ))\n",
      "      (2): GINConv(nn=Sequential(\n",
      "        (0): Linear(in_features=16, out_features=16, bias=True)\n",
      "        (1): ReLU()\n",
      "        (2): Linear(in_features=16, out_features=16, bias=True)\n",
      "      ))\n",
      "      (3): GINConv(nn=Sequential(\n",
      "        (0): Linear(in_features=16, out_features=16, bias=True)\n",
      "        (1): ReLU()\n",
      "        (2): Linear(in_features=16, out_features=16, bias=True)\n",
      "      ))\n",
      "    )\n",
      "    (bns): ModuleList(\n",
      "      (0): BatchNorm1d(16, eps=1e-05, momentum=0.1, affine=True, track_running_stats=True)\n",
      "      (1): BatchNorm1d(16, eps=1e-05, momentum=0.1, affine=True, track_running_stats=True)\n",
      "      (2): BatchNorm1d(16, eps=1e-05, momentum=0.1, affine=True, track_running_stats=True)\n",
      "      (3): BatchNorm1d(16, eps=1e-05, momentum=0.1, affine=True, track_running_stats=True)\n",
      "    )\n",
      "    (proj_head): Sequential(\n",
      "      (0): Linear(in_features=64, out_features=64, bias=True)\n",
      "      (1): ReLU(inplace=True)\n",
      "      (2): Linear(in_features=64, out_features=64, bias=True)\n",
      "    )\n",
      "  )\n",
      "  (prototypes): Linear(in_features=64, out_features=8, bias=False)\n",
      "  (local_d): FF(\n",
      "    (block): Sequential(\n",
      "      (0): Linear(in_features=64, out_features=64, bias=True)\n",
      "      (1): ReLU()\n",
      "      (2): Linear(in_features=64, out_features=64, bias=True)\n",
      "      (3): ReLU()\n",
      "      (4): Linear(in_features=64, out_features=64, bias=True)\n",
      "      (5): ReLU()\n",
      "    )\n",
      "    (linear_shortcut): Linear(in_features=64, out_features=64, bias=True)\n",
      "  )\n",
      "  (global_d): FF(\n",
      "    (block): Sequential(\n",
      "      (0): Linear(in_features=64, out_features=64, bias=True)\n",
      "      (1): ReLU()\n",
      "      (2): Linear(in_features=64, out_features=64, bias=True)\n",
      "      (3): ReLU()\n",
      "      (4): Linear(in_features=64, out_features=64, bias=True)\n",
      "      (5): ReLU()\n",
      "    )\n",
      "    (linear_shortcut): Linear(in_features=64, out_features=64, bias=True)\n",
      "  )\n",
      "  (prior_d): PriorDiscriminator(\n",
      "    (l0): Linear(in_features=64, out_features=64, bias=True)\n",
      "    (l1): Linear(in_features=64, out_features=64, bias=True)\n",
      "    (l2): Linear(in_features=64, out_features=1, bias=True)\n",
      "  )\n",
      ")\n",
      "┌-----------------------------------------------------------┐\n",
      "|                           MUTAG                           |\n",
      "├-----------------------------------------------------------┤\n",
      "|number of graphs                       |                188|\n",
      "|nodes — tot                            |               3371|\n",
      "|nodes — mean                           | 17.930851063829788|\n",
      "|nodes — median                         |               17.5|\n",
      "|nodes — min                            |                 10|\n",
      "|nodes — max                            |                 28|\n",
      "|edges — tot                            |               7442|\n",
      "|edges — mean                           |  39.58510638297872|\n",
      "|edges — median                         |               38.0|\n",
      "|edges — min                            |                 20|\n",
      "|edges — max                            |                 66|\n",
      "|number of labels                       |                  2|\n",
      "|   - 0 (0)                             |        63 (33.5 %)|\n",
      "|   - 1 (1)                             |       125 (66.5 %)|\n",
      "└-----------------------------------------------------------┘\n",
      "\n",
      "Computing embeddings .... \n",
      "\t... embeddings computed in: 00:00:00.\n",
      "📽 Initialising the Graph Representation Visualiser\n",
      "projecting embeddings with TSNE.\n"
     ]
    },
    {
     "name": "stderr",
     "output_type": "stream",
     "text": [
      "/Users/nmm/Desktop/GRbNSR/DL_module/Models/model_util.py:151: UserWarning:\n",
      "\n",
      "To copy construct from a tensor, it is recommended to use sourceTensor.clone().detach() or sourceTensor.clone().detach().requires_grad_(True), rather than torch.tensor(sourceTensor).\n",
      "\n"
     ]
    },
    {
     "data": {
      "image/png": "[encoded data removed]",
      "text/plain": [
       "<Figure size 1000x800 with 1 Axes>"
      ]
     },
     "metadata": {},
     "output_type": "display_data"
    },
    {
     "name": "stdout",
     "output_type": "stream",
     "text": [
      "Dash app running on http://0.0.0.0:8060/\n"
     ]
    }
   ],
   "source": [
    "viz.main(\n",
    "    model=trainer,\n",
    "    dataset=\"MUTAG\",\n",
    "    model_name=trainer.config[\"name\"],\n",
    "    red_type=\"manifold.TSNE\",\n",
    "    no_interactive=False,\n",
    ")"
   ]
  },
  {
   "cell_type": "code",
   "execution_count": null,
   "id": "b1d2f208-4401-4dc6-a9f3-6c915bccc34d",
   "metadata": {},
   "outputs": [],
   "source": []
  },
  {
   "cell_type": "code",
   "execution_count": null,
   "id": "6a2b9509-8561-487f-91b1-60c449836e06",
   "metadata": {},
   "outputs": [],
   "source": [
    "url"
   ]
  },
  {
   "cell_type": "code",
   "execution_count": null,
   "id": "a360e366-1455-42fc-9a0d-f1335211c74f",
   "metadata": {},
   "outputs": [],
   "source": [
    "req = Request(url, method=\"POST\")\n",
    "res = urlopen(req)\n",
    "content = res.read()\n",
    "print(content)"
   ]
  },
  {
   "cell_type": "code",
   "execution_count": null,
   "id": "01b90486-c234-431b-bece-ac98d281847b",
   "metadata": {},
   "outputs": [],
   "source": []
  },
  {
   "cell_type": "code",
   "execution_count": null,
   "id": "385d8c44-ecb4-4ca3-b379-532c6521a6ae",
   "metadata": {},
   "outputs": [],
   "source": [
    "from flask import socketio2"
   ]
  },
  {
   "cell_type": "code",
   "execution_count": null,
   "id": "ce825070-73c2-4be9-9223-0cd82a4aff3a",
   "metadata": {},
   "outputs": [],
   "source": [
    "from flask import request\n",
    "\n",
    "request.environ.get('werkzeug.server.shutdown')"
   ]
  },
  {
   "cell_type": "code",
   "execution_count": null,
   "id": "cc19878f-5c8d-43b3-a8b5-83399cdf0c0d",
   "metadata": {},
   "outputs": [],
   "source": []
  },
  {
   "cell_type": "code",
   "execution_count": null,
   "id": "0f7c50f4-ec85-42aa-ac2c-2dc668a68387",
   "metadata": {},
   "outputs": [],
   "source": []
  },
  {
   "cell_type": "code",
   "execution_count": null,
   "id": "3a38da6b-ba49-4239-b915-827501f1d381",
   "metadata": {},
   "outputs": [],
   "source": []
  },
  {
   "cell_type": "code",
   "execution_count": null,
   "id": "460646b2-9a62-4e34-93ef-005694558933",
   "metadata": {},
   "outputs": [],
   "source": [
    "import multiprocessing\n",
    "import multiprocess as mp"
   ]
  },
  {
   "cell_type": "code",
   "execution_count": null,
   "id": "658b6aa5-753f-464a-aea0-18216ccefda6",
   "metadata": {},
   "outputs": [],
   "source": [
    "def mp_run_server(**kwargs):\n",
    "    app.run_server(**kwargs)\n",
    "    return "
   ]
  },
  {
   "cell_type": "code",
   "execution_count": null,
   "id": "f70960f5-0d7f-4b48-b591-817aedc4f547",
   "metadata": {},
   "outputs": [],
   "source": [
    "p = mp.Process(target=mp_run_server,#app.run_server,\n",
    "               name=\"Foo\",\n",
    "               kwargs={\n",
    "                   \"debug\":True,\n",
    "                   \"mode\":\"external\",\n",
    "                   \"port\":\"8060\",\n",
    "                   \"host\":\"localhost\",#\"127.0.0.1\"\n",
    "               }\n",
    "              )\n",
    "#p.start()"
   ]
  },
  {
   "cell_type": "code",
   "execution_count": null,
   "id": "1f81c8af-54f6-408d-b743-72a757f1cedf",
   "metadata": {},
   "outputs": [],
   "source": [
    "p.start()"
   ]
  },
  {
   "cell_type": "code",
   "execution_count": null,
   "id": "60e6b758-1cae-4fe1-be1b-cfe3e7de956d",
   "metadata": {},
   "outputs": [],
   "source": [
    "p.terminate()\n",
    "p.join()"
   ]
  },
  {
   "cell_type": "code",
   "execution_count": null,
   "id": "bbe4af83-8b8a-410a-8a6c-5295eeee236d",
   "metadata": {},
   "outputs": [],
   "source": []
  },
  {
   "cell_type": "code",
   "execution_count": null,
   "id": "60e24e68-d6a4-4bfd-abaf-448b4aa7bb12",
   "metadata": {},
   "outputs": [],
   "source": []
  },
  {
   "cell_type": "code",
   "execution_count": null,
   "id": "5b7c9bda-fa1b-4673-a7c4-1256da5d45e1",
   "metadata": {},
   "outputs": [],
   "source": []
  },
  {
   "cell_type": "code",
   "execution_count": null,
   "id": "6401543b-f521-495c-971e-0cc52a40ea33",
   "metadata": {},
   "outputs": [],
   "source": []
  },
  {
   "cell_type": "code",
   "execution_count": null,
   "id": "d34caff0-c765-4e53-adbd-d7028d92c65e",
   "metadata": {},
   "outputs": [],
   "source": [
    "shutdown_url = \"http://{host}:{port}/_shutdown_{token}\".format(\n",
    "    host=\"127.0.0.1\", port=\"8060\", token=viz.module_viz.Dash._token\n",
    ")"
   ]
  },
  {
   "cell_type": "code",
   "execution_count": null,
   "id": "4cbed2dd-2192-445b-bb37-910ecda1e84a",
   "metadata": {},
   "outputs": [],
   "source": []
  },
  {
   "cell_type": "code",
   "execution_count": null,
   "id": "5c866eed-3c72-4c38-8017-afb467b27098",
   "metadata": {},
   "outputs": [],
   "source": []
  },
  {
   "cell_type": "code",
   "execution_count": null,
   "id": "43bd1432-a0ed-4d79-bcc7-b4a162245eac",
   "metadata": {},
   "outputs": [],
   "source": []
  },
  {
   "cell_type": "code",
   "execution_count": null,
   "id": "67403c97-6293-4485-8a2b-d454fe003386",
   "metadata": {},
   "outputs": [],
   "source": []
  },
  {
   "cell_type": "markdown",
   "id": "81645e9c-81c6-4ff9-b2f7-e1ce6ef07e21",
   "metadata": {},
   "source": [
    "```python\n",
    "@classmethod\n",
    "    def _terminate_server_for_port(cls, host, port):\n",
    "        shutdown_url = \"http://{host}:{port}/_shutdown_{token}\".format(\n",
    "            host=host, port=port, token=JupyterDash._token\n",
    "        )\n",
    "        try:\n",
    "            response = requests.get(shutdown_url)\n",
    "        except Exception as e:\n",
    "            pass\n",
    "```"
   ]
  },
  {
   "cell_type": "code",
   "execution_count": null,
   "id": "b20f5b48-e8c3-45b3-99d0-0c062461a88d",
   "metadata": {},
   "outputs": [],
   "source": [
    "shutdown_url = \"http://{host}:{port}/_shutdown_{token}\".format(\n",
    "    host=\"localhost\", port=\"8060\", token=viz.module_viz.Dash._token\n",
    ")"
   ]
  },
  {
   "cell_type": "code",
   "execution_count": null,
   "id": "61036a64-f0db-4d14-b9c8-79f28dbc5156",
   "metadata": {},
   "outputs": [],
   "source": []
  },
  {
   "cell_type": "code",
   "execution_count": null,
   "id": "3ee08f5f-0e7d-4795-875c-6efbf0bbfdad",
   "metadata": {},
   "outputs": [],
   "source": []
  },
  {
   "cell_type": "code",
   "execution_count": null,
   "id": "b3af5d37-e495-4583-97f9-2b5b27d030b0",
   "metadata": {},
   "outputs": [],
   "source": []
  },
  {
   "cell_type": "code",
   "execution_count": null,
   "id": "adc31b1f-d9ba-4ce0-92f4-aea62ee57166",
   "metadata": {},
   "outputs": [],
   "source": []
  },
  {
   "cell_type": "code",
   "execution_count": null,
   "id": "d5059e42-afc4-4505-9b85-2c61360b8c6e",
   "metadata": {},
   "outputs": [],
   "source": []
  },
  {
   "cell_type": "code",
   "execution_count": null,
   "id": "1afb2b24-ac31-4e80-b8ca-c855f0dbf6f0",
   "metadata": {},
   "outputs": [],
   "source": [
    "import matplotlib.pyplot as plt\n",
    "from sklearn.manifold import TSNE, MDS\n",
    "from sklearn.decomposition import PCA\n",
    "import pandas as pd\n",
    "\n",
    "from matplotlib import cm\n",
    "import seaborn as sns"
   ]
  },
  {
   "cell_type": "code",
   "execution_count": null,
   "id": "507494b3-25b0-4e49-b7e7-2e525bcd6a0d",
   "metadata": {},
   "outputs": [],
   "source": [
    "def scatter_embedding_visualizer(df:pd.DataFrame\n",
    "                                 , x_col: str\n",
    "                                 , y_col: str\n",
    "                                 , size_attr: str\n",
    "                                 , color_attr: str=None\n",
    "                                 , cmap: str='viridis'\n",
    "                                 , fig_dimensions:tuple = (25,15)\n",
    "                                 , cat2color: dict=None\n",
    "                                 , color_list: list=cm.get_cmap(\"tab10\").colors\n",
    "                                 , categorical_color:bool = False\n",
    "                                ):\n",
    "\n",
    "    categorical_color = type(df[color_attr][0])==str\n",
    "    \n",
    "    fig, ax = plt.subplots(figsize=fig_dimensions)\n",
    "    \n",
    "    if not categorical_color:\n",
    "        plot = sns.scatterplot(\n",
    "            x=df[x_col],\n",
    "            y=df[y_col],\n",
    "            hue=df[color_attr],\n",
    "            palette=cm.get_cmap(cmap),\n",
    "            size=df[size_attr],\n",
    "            alpha=0.4,\n",
    "        )\n",
    "        \n",
    "        # add colorbar\n",
    "        norm = plt.Normalize(df[color_attr].min(), df[color_attr].max())\n",
    "        sm = plt.cm.ScalarMappable(cmap=cmap, norm=norm)\n",
    "        sm.set_array([])\n",
    "\n",
    "        fig.colorbar(sm).outline.set_visible(False)\n",
    "        \n",
    "    else:\n",
    "        \n",
    "        if cat2color==None: \n",
    "            discrete_cats = sorted(df[color_attr].unique())\n",
    "            cat2color= dict(zip(discrete_cats, color_list[:len(discrete_cats)]))\n",
    "            \n",
    "        plot = sns.scatterplot(\n",
    "            x=df[x_col],\n",
    "            y=df[y_col],\n",
    "            hue=df[color_attr],\n",
    "            palette=cat2color,\n",
    "            size=df[size_attr],\n",
    "            alpha=0.8,\n",
    "        )\n",
    "        \n",
    "    # remove frame\n",
    "    sns.despine(bottom = True, left = True)\n",
    "\n",
    "    plot.legend(fontsize=14)\n",
    "    plt.tight_layout()\n",
    "    # show plot\n",
    "    plt.show()\n",
    "    \n",
    "    return"
   ]
  },
  {
   "cell_type": "code",
   "execution_count": null,
   "id": "fcb56ba0-7f87-4a89-821a-a2931a9bece1",
   "metadata": {},
   "outputs": [],
   "source": [
    "emb = TSNE(2)\n",
    "#emb = PCA(2)\n",
    "#emb = MDS(2, metric=False)"
   ]
  },
  {
   "cell_type": "code",
   "execution_count": null,
   "id": "88cac7d1-216b-444c-9e49-58c66beeae78",
   "metadata": {},
   "outputs": [],
   "source": [
    "#emb2d = emb.fit_transform(test_classification.embeddings)\n",
    "emb2d = emb.fit_transform(test_classification_tu.embeddings)"
   ]
  },
  {
   "cell_type": "code",
   "execution_count": null,
   "id": "918eff85-5179-4b26-b407-9c870d66895f",
   "metadata": {},
   "outputs": [],
   "source": [
    "embx = [e[0] for e in emb2d]\n",
    "emby = [e[1] for e in emb2d]"
   ]
  },
  {
   "cell_type": "code",
   "execution_count": null,
   "id": "e4d2d719-719f-4cf5-893f-4a71aedf5415",
   "metadata": {},
   "outputs": [],
   "source": [
    "embs = pd.DataFrame([embx, emby], [\"x\", \"y\"]).T\n",
    "embs[\"size\"] = 1\n",
    "#embs[\"label\"] = [dataset.labId_to_labName[lab] for lab in test_classification.labels]\n",
    "embs[\"label\"] = [str(lab) for lab in test_classification_tu.labels]"
   ]
  },
  {
   "cell_type": "code",
   "execution_count": null,
   "id": "7c918a32-9629-4866-9869-8960d7a527ca",
   "metadata": {},
   "outputs": [],
   "source": [
    "scatter_embedding_visualizer(df=embs\n",
    "                             , x_col=\"x\"\n",
    "                             , y_col=\"y\"\n",
    "                             , size_attr=\"size\"\n",
    "                             , color_attr=\"label\"\n",
    "                             #, cmap: str='viridis'\n",
    "                             , fig_dimensions = (12, 12)\n",
    "                             #, cat2color:=None\n",
    "                             , color_list=list(cm.get_cmap(\"tab10\").colors)\n",
    "                             , categorical_color = True\n",
    "                            )"
   ]
  },
  {
   "cell_type": "code",
   "execution_count": null,
   "id": "c558ca65-a63b-49ce-b2d8-f3dce9195336",
   "metadata": {},
   "outputs": [],
   "source": []
  },
  {
   "cell_type": "code",
   "execution_count": null,
   "id": "8a50d97e-df14-4773-b0c6-91c2ffad2519",
   "metadata": {},
   "outputs": [],
   "source": []
  },
  {
   "cell_type": "code",
   "execution_count": null,
   "id": "cbae613e-7220-41ba-8763-922c193aef66",
   "metadata": {},
   "outputs": [],
   "source": []
  },
  {
   "cell_type": "code",
   "execution_count": null,
   "id": "28c58820-dd17-435c-ba66-9c72f5b1bab0",
   "metadata": {},
   "outputs": [],
   "source": []
  },
  {
   "cell_type": "code",
   "execution_count": null,
   "id": "93339f6e-d845-4250-b5b5-a791f0952db5",
   "metadata": {},
   "outputs": [],
   "source": []
  },
  {
   "cell_type": "code",
   "execution_count": null,
   "id": "fb12441b-a867-49cf-ad6d-2e9db28777ea",
   "metadata": {},
   "outputs": [],
   "source": []
  },
  {
   "cell_type": "code",
   "execution_count": null,
   "id": "c8460382-2bf1-415f-8b4c-9a712817b19b",
   "metadata": {},
   "outputs": [],
   "source": []
  },
  {
   "cell_type": "code",
   "execution_count": null,
   "id": "5df5729a-883a-4f90-8bee-87ee7846fd38",
   "metadata": {},
   "outputs": [],
   "source": []
  },
  {
   "cell_type": "code",
   "execution_count": null,
   "id": "372740bd-fd64-4e5c-a615-455003260610",
   "metadata": {},
   "outputs": [],
   "source": []
  },
  {
   "cell_type": "code",
   "execution_count": null,
   "id": "d5dea408-ee5f-4b29-ad22-676487d5cdfa",
   "metadata": {},
   "outputs": [],
   "source": []
  },
  {
   "cell_type": "code",
   "execution_count": null,
   "id": "d98d6ffc-7158-4f3a-abc3-57c1743d19ea",
   "metadata": {},
   "outputs": [],
   "source": [
    "tu_data = TUDataset(\"REDDIT-BINARY\")\n",
    "\n",
    "tu_graphs = tu_data.graph_lists\n",
    "tu_labels = [int(lab[0]) for lab in tu_data.graph_labels]"
   ]
  },
  {
   "cell_type": "code",
   "execution_count": null,
   "id": "8502dda0-d24a-49d7-8141-fabc1c374c32",
   "metadata": {},
   "outputs": [],
   "source": [
    "tu_dataset = module_dataset.GraphDataset(dgl_graphs = tu_graphs, graphs_labels = tu_labels)"
   ]
  },
  {
   "cell_type": "code",
   "execution_count": null,
   "id": "38acb930-c038-4036-8b8c-5612b460cc11",
   "metadata": {},
   "outputs": [],
   "source": [
    "dummy_dim = 32\n",
    "\n",
    "dummy_embs = np.array([np.random.random(dummy_dim) for _ in range(len(tu_dataset))])"
   ]
  },
  {
   "cell_type": "code",
   "execution_count": null,
   "id": "86503aca-3c25-4ae3-ba17-b04ec01fcb75",
   "metadata": {},
   "outputs": [],
   "source": [
    "%%time\n",
    "model.eval()\n",
    "model_embs = np.array([model.embed(g) for g in tu_dataset])\n",
    "model_embs = torch.cat([emb.detach().cpu() for emb in model_embs])"
   ]
  },
  {
   "cell_type": "code",
   "execution_count": null,
   "id": "f06d0831-9254-47f6-a440-479eab97b1c6",
   "metadata": {},
   "outputs": [],
   "source": [
    "shuffled_ids = [i for i, _ in enumerate(tu_dataset)]\n",
    "np.random.shuffle(shuffled_ids)"
   ]
  },
  {
   "cell_type": "code",
   "execution_count": null,
   "id": "202e0c08-bc94-4de5-b6a9-09de023b3c8a",
   "metadata": {},
   "outputs": [],
   "source": [
    "shuffled_graphs = [tu_graphs[idx] for idx in shuffled_ids]\n",
    "shuffled_labels = [tu_labels[idx] for idx in shuffled_ids]\n",
    "shuffled_dataset = module_dataset.GraphDataset(dgl_graphs = shuffled_graphs, graphs_labels = shuffled_labels)\n",
    "\n",
    "shuffled_embs = model_embs[shuffled_ids]# for idx in shuffled_ids]"
   ]
  },
  {
   "cell_type": "code",
   "execution_count": null,
   "id": "1fa46e8a-9707-4420-96a1-018d03e350b3",
   "metadata": {},
   "outputs": [],
   "source": [
    "checks_classification = GraphClassification(\n",
    "    #dataset = tu_dataset,\n",
    "    dataset = shuffled_dataset,\n",
    "    #provided_embeddings = model_embs#dummy_embs\n",
    "    provided_embeddings = shuffled_embs\n",
    ")"
   ]
  },
  {
   "cell_type": "code",
   "execution_count": null,
   "id": "2fb73407-fb1e-46af-b2a8-b24cefacc598",
   "metadata": {},
   "outputs": [],
   "source": [
    "checks_classification.classification_scores()"
   ]
  },
  {
   "cell_type": "code",
   "execution_count": null,
   "id": "778fdc84-4efb-4c07-9189-2b261bd6e0eb",
   "metadata": {},
   "outputs": [],
   "source": [
    "checks_classification.get_dummy_preds()"
   ]
  },
  {
   "cell_type": "code",
   "execution_count": null,
   "id": "f1605465-2123-4ddd-826b-b2edf92e01cc",
   "metadata": {},
   "outputs": [],
   "source": [
    "checks_classification.print_scores()"
   ]
  },
  {
   "cell_type": "code",
   "execution_count": null,
   "id": "9f8a696e-157a-418e-915e-a13cd5e709a9",
   "metadata": {},
   "outputs": [],
   "source": []
  },
  {
   "cell_type": "code",
   "execution_count": null,
   "id": "9a99aee8-2366-4124-b41c-6b9b1fe52340",
   "metadata": {},
   "outputs": [],
   "source": []
  },
  {
   "cell_type": "code",
   "execution_count": null,
   "id": "84d0b6fb-45c4-4dc7-b10a-829c28ef901d",
   "metadata": {},
   "outputs": [],
   "source": [
    "from Models import model_grssl\n",
    "from DataLoader import data_loader\n",
    "from DataLoader.data_util import *\n",
    "\n",
    "from Trainers import trainer\n",
    "\n",
    "%load_ext autoreload\n",
    "%autoreload 2"
   ]
  },
  {
   "cell_type": "code",
   "execution_count": null,
   "id": "ac9f8cec-205f-4ff8-a87c-827f62944641",
   "metadata": {},
   "outputs": [],
   "source": [
    "import DataLoader.data_loader as module_dataset\n",
    "import Models.model_grssl as module_arch\n",
    "import Trainers.loss as module_loss\n",
    "import Trainers.trainer as module_train\n",
    "\n",
    "from Utils.misc import prepare_device"
   ]
  },
  {
   "cell_type": "code",
   "execution_count": null,
   "id": "ad55664b-a0da-4288-b125-4463e728eb4a",
   "metadata": {},
   "outputs": [],
   "source": [
    "from torch.utils.data.sampler import SubsetRandomSampler\n",
    "\n",
    "from dgl.dataloading import GraphDataLoader"
   ]
  },
  {
   "cell_type": "code",
   "execution_count": null,
   "id": "c4f68c5e-4526-4840-9773-eea1c875f69e",
   "metadata": {},
   "outputs": [],
   "source": [
    "from Configs.configs_parser import *\n",
    "import argparse\n",
    "\n",
    "import collections"
   ]
  },
  {
   "cell_type": "code",
   "execution_count": null,
   "id": "dab0b3e1-2b76-477e-8585-34be5a28d38e",
   "metadata": {
    "tags": []
   },
   "outputs": [],
   "source": [
    "CONFIG_PATH = \"Configs/config.json\"\n",
    "\n",
    "config = ConfigParser.from_json(json_path=CONFIG_PATH)\n",
    "\n",
    "logger = config.get_logger('train')\n",
    "logger.info(\"Config loaded from: '{}'.\".format(CONFIG_PATH))\n",
    "\n",
    "# load dataset and setup data_loader instances\n",
    "logger.info(\"🌐 Loading Dataset...\")\n",
    "dataset = config.init_obj('dataset', module_dataset)\n",
    "logger.info(\"Dataset loaded:\\n{}\".format(dataset))\n",
    "\n",
    "data_loader = GraphDataLoader(\n",
    "    dataset=dataset,\n",
    "    **config[\"data_loader\"]\n",
    ")\n",
    "valid_data_loader = None#data_loader.split_validation()\n",
    "\n",
    "# build model architecture, then print to console\n",
    "model = config.init_obj('arch', module_arch)\n",
    "logger.info(\"🤖 Model instantiated:{name} ({l})\\n{m}\".format(name=model.model_name\n",
    "                                                             , l=model.model_type\n",
    "                                                             , m=model\n",
    "                                                            )\n",
    "           )\n",
    "\n",
    "# prepare for (multi-device) GPU training\n",
    "device, device_ids = prepare_device(config['n_gpu'])\n",
    "model = model.to(device)\n",
    "if len(device_ids) > 1:\n",
    "    model = torch.nn.DataParallel(model, device_ids=device_ids)\n",
    "\n",
    "# get function handles of loss and metrics\n",
    "#criterion = getattr(module_loss, config['loss'])\n",
    "criterion = config.init_obj('loss_type', module_loss)\n",
    "metrics = None#[getattr(module_metric, met) for met in config['metrics']]\n",
    "\n",
    "# build optimizer, learning rate scheduler. delete every lines containing lr_scheduler for disabling scheduler\n",
    "trainable_params = filter(lambda p: p.requires_grad, model.parameters())\n",
    "optimizer = config.init_obj('optimizer', torch.optim, trainable_params)\n",
    "lr_scheduler = config.init_obj('lr_scheduler', torch.optim.lr_scheduler, optimizer)"
   ]
  },
  {
   "cell_type": "code",
   "execution_count": null,
   "id": "1206bfa3-a456-43d4-b5d6-6b66bd7a7bca",
   "metadata": {},
   "outputs": [],
   "source": [
    "# get Trainer and build it\n",
    "trainer_type = getattr(module_train, config['trainer_type'][\"type\"])"
   ]
  },
  {
   "cell_type": "code",
   "execution_count": null,
   "id": "380b9c37-2cba-41c9-b7da-72f749d734ce",
   "metadata": {},
   "outputs": [],
   "source": [
    "trainer = trainer_type(model,\n",
    "                       criterion,\n",
    "                       metrics,\n",
    "                       optimizer,\n",
    "                       config=config,\n",
    "                       device=device,\n",
    "                       data_loader=data_loader,\n",
    "                       valid_data_loader=valid_data_loader,\n",
    "                       lr_scheduler=lr_scheduler,\n",
    "                       **config['trainer_type']['args']\n",
    "                      )"
   ]
  },
  {
   "cell_type": "code",
   "execution_count": null,
   "id": "2af9780f-27fb-4231-81d4-346a7c29b651",
   "metadata": {},
   "outputs": [],
   "source": [
    "trainer.train()"
   ]
  },
  {
   "cell_type": "markdown",
   "id": "27c053b6-6637-4a58-9143-38933d8435ff",
   "metadata": {
    "tags": []
   },
   "source": [
    "## 🔀 GCC"
   ]
  },
  {
   "cell_type": "code",
   "execution_count": null,
   "id": "947f4e4a-a486-4d0c-8b68-134f199e5f72",
   "metadata": {},
   "outputs": [],
   "source": [
    "pretext_keys = [\"ceo_club\", \"bison\", \"copenhagen/calls\"]\n",
    "fake_labels = [\"label2\", \"label1\", \"label2\"]"
   ]
  },
  {
   "cell_type": "markdown",
   "id": "4d2016d4-b1ab-4455-bfce-75f5afc8e21c",
   "metadata": {},
   "source": [
    "### DataLoader"
   ]
  },
  {
   "cell_type": "code",
   "execution_count": null,
   "id": "ec4c602b-21da-4f70-90be-663f6b895bce",
   "metadata": {},
   "outputs": [],
   "source": [
    "test_gcc = data_loader.GCCDataset(dgl_graphs=graphtoolkeys2dglgraphs(pretext_keys)\n",
    "                                  , graphs_labels=fake_labels\n",
    "                                  , verbosity=True\n",
    "                                 )"
   ]
  },
  {
   "cell_type": "code",
   "execution_count": null,
   "id": "28394391-0a9e-4042-a844-a19c839a73bd",
   "metadata": {},
   "outputs": [],
   "source": [
    "test_gcc[0]"
   ]
  },
  {
   "cell_type": "markdown",
   "id": "42bd6a2c-2a5b-4920-a088-65ade7803f89",
   "metadata": {},
   "source": [
    "### Load config"
   ]
  },
  {
   "cell_type": "code",
   "execution_count": null,
   "id": "32017e31-f407-49ce-8129-f50e0a95c151",
   "metadata": {},
   "outputs": [],
   "source": [
    "config = ConfigParser.from_json(json_path=\"Configs/config_gcc.json\")\n",
    "\n",
    "logger = config.get_logger('train')\n",
    "\n",
    "# setup data_loader instances\n",
    "data_loader = config.init_obj('data_loader', module_data)\n",
    "#valid_data_loader = data_loader.split_validation()\n",
    "\n",
    "# build model architecture, then print to console\n",
    "model = config.init_obj('arch', module_arch)\n",
    "logger.info(model)\n",
    "\n",
    "# prepare for (multi-device) GPU training\n",
    "device, device_ids = prepare_device(config['n_gpu'])\n",
    "model = model.to(device)\n",
    "if len(device_ids) > 1:\n",
    "    model = torch.nn.DataParallel(model, device_ids=device_ids)\n",
    "\n",
    "# get function handles of loss and metrics\n",
    "#criterion = getattr(module_loss, config['loss'])\n",
    "#metrics = [getattr(module_metric, met) for met in config['metrics']]\n",
    "\n",
    "# build optimizer, learning rate scheduler. delete every lines containing lr_scheduler for disabling scheduler\n",
    "trainable_params = filter(lambda p: p.requires_grad, model.parameters())\n",
    "optimizer = config.init_obj('optimizer', torch.optim, trainable_params)\n",
    "lr_scheduler = config.init_obj('lr_scheduler', torch.optim.lr_scheduler, optimizer)"
   ]
  },
  {
   "cell_type": "code",
   "execution_count": null,
   "id": "076a4d2d-2ec3-4f00-b1aa-e691cc1e3461",
   "metadata": {},
   "outputs": [],
   "source": [
    "def batcher():\n",
    "    def batcher_dev(batch):\n",
    "        graph_q, graph_k = zip(*batch)\n",
    "        graph_q, graph_k = dgl.batch(graph_q), dgl.batch(graph_k)\n",
    "        return graph_q, graph_k\n",
    "\n",
    "    return batcher_dev\n",
    "\n",
    "def worker_init_fn(worker_id):\n",
    "    worker_info = torch.utils.data.get_worker_info()\n",
    "    dataset = worker_info.dataset\n",
    "    dataset.graphs, _ = dgl.data.utils.load_graphs(\n",
    "        dataset.dgl_graphs_file, dataset.jobs[worker_id]\n",
    "    )\n",
    "    dataset.length = sum([g.number_of_nodes() for g in dataset.graphs])\n",
    "    np.random.seed(worker_info.seed % (2 ** 32))\n",
    "    \n",
    "gcc_graph_loader = GraphDataLoader(\n",
    "     dataset=config[\"data_loader\"],#gtdata,\n",
    "    batch_size=16,\n",
    "    collate_fn=labeled_batcher() if False else batcher(),\n",
    "    shuffle=True if False else False,\n",
    "    num_workers=0,\n",
    "    worker_init_fn=None if False or False else worker_init_fn,\n",
    ")"
   ]
  },
  {
   "cell_type": "code",
   "execution_count": null,
   "id": "943ccf07-b590-4640-900c-51806525d58a",
   "metadata": {},
   "outputs": [],
   "source": [
    "train_loader = torch.utils.data.DataLoader(\n",
    "    dataset=config[\"data_loader\"],#gtdata,\n",
    "    batch_size=16,\n",
    "    collate_fn=labeled_batcher() if False else batcher(),\n",
    "    shuffle=True if False else False,\n",
    "    num_workers=0,\n",
    "    worker_init_fn=None if False or False else worker_init_fn,\n",
    ")"
   ]
  },
  {
   "cell_type": "code",
   "execution_count": null,
   "id": "14855222-4d6d-4aba-8bea-0d36d340bf39",
   "metadata": {},
   "outputs": [],
   "source": [
    "gcc_trainer = trainer.GCCTrainer(\n",
    "    model=graphmae_model,\n",
    "    criterion=None,\n",
    "    metric_ftns=None,\n",
    "    optimizer=optimizer,\n",
    "    config= config,#{\"trainer\":{\"epochs\":2,\n",
    "                  #      \"save_period\":1,\n",
    "                  #      \"monitor\":\"min\",\n",
    "                  #     }\n",
    "            #},\n",
    "    device='cpu',\n",
    "    data_loader=gcc_graph_loader, #  XXX\n",
    "    valid_data_loader=None,\n",
    "    lr_scheduler=None,\n",
    "    len_epoch=None,\n",
    "    alpha_moco=0.01,\n",
    ")"
   ]
  },
  {
   "cell_type": "code",
   "execution_count": null,
   "id": "bb96b0a4-58b6-4919-a4ed-45d610dfc8d2",
   "metadata": {},
   "outputs": [],
   "source": [
    "gcc_trainer.train()"
   ]
  },
  {
   "cell_type": "markdown",
   "id": "482de723-ed75-4f05-98f3-df8c1f71ac8f",
   "metadata": {},
   "source": [
    "### Model"
   ]
  },
  {
   "cell_type": "code",
   "execution_count": null,
   "id": "4944fdeb-0cc0-4b8c-a9b1-d93c141e2abd",
   "metadata": {},
   "outputs": [],
   "source": [
    "gin_args = {\n",
    "    'num_layers':4,\n",
    "    'input_dimension':65,\n",
    "    'output_dimension':16,\n",
    "    'hidden_dimension':64\n",
    "}"
   ]
  },
  {
   "cell_type": "code",
   "execution_count": null,
   "id": "ec627f60-34fd-4414-865e-f53c00ffa764",
   "metadata": {},
   "outputs": [],
   "source": [
    "gcc_model = model_grssl.GCCModel(encoder_args=gin_args, norm=True)"
   ]
  },
  {
   "cell_type": "code",
   "execution_count": null,
   "id": "429eb12f-98f4-4899-8d8b-0ba01ee09c3d",
   "metadata": {},
   "outputs": [],
   "source": [
    "gcc_model.degree_input"
   ]
  },
  {
   "cell_type": "code",
   "execution_count": null,
   "id": "30e2769c-0298-462d-bf36-33b3bdb0cc50",
   "metadata": {},
   "outputs": [],
   "source": [
    "test_gcc.graphs"
   ]
  },
  {
   "cell_type": "code",
   "execution_count": null,
   "id": "d45d903b-e0e0-438c-8dbb-a336de7f7fed",
   "metadata": {},
   "outputs": [],
   "source": [
    "gcc_model.encoder.input_dimension"
   ]
  },
  {
   "cell_type": "code",
   "execution_count": null,
   "id": "ad2c5208-097c-4e76-9ea8-053fe87edea6",
   "metadata": {},
   "outputs": [],
   "source": [
    "gcc_model(test_gcc[0][0]).shape"
   ]
  },
  {
   "cell_type": "markdown",
   "id": "c3d5a151-b3b9-4813-b149-f03524c377d4",
   "metadata": {},
   "source": [
    "### Trainer"
   ]
  },
  {
   "cell_type": "code",
   "execution_count": null,
   "id": "99b451a4-89de-474c-a6ad-6875af237a48",
   "metadata": {},
   "outputs": [],
   "source": []
  },
  {
   "cell_type": "markdown",
   "id": "d19f1176-df45-4458-8699-44e0bec6eda9",
   "metadata": {},
   "source": [
    "## 🎭 GraphMAE"
   ]
  },
  {
   "cell_type": "markdown",
   "id": "a8ffbce9-d78c-4b1e-a551-d3b799c87e0b",
   "metadata": {},
   "source": [
    "### DataLoader"
   ]
  },
  {
   "cell_type": "code",
   "execution_count": null,
   "id": "285fb6c8-f9c9-4246-a90a-ab27e6a3089c",
   "metadata": {},
   "outputs": [],
   "source": [
    "pretext_keys = [\"ceo_club\", \"bison\", \"copenhagen/calls\"]\n",
    "fake_labels = [\"label2\", \"label1\", \"label2\"]\n",
    "\n",
    "test_mae = data_loader.GraphMAEDataset(pretext_keys#dgl_graphs=graphtoolkeys2dglgraphs(pretext_keys)\n",
    "                                  , graphs_labels=fake_labels\n",
    "                                  , verbosity=True\n",
    "                                 )"
   ]
  },
  {
   "cell_type": "code",
   "execution_count": null,
   "id": "8536aa4c-598a-4ea1-8747-34f65671fb90",
   "metadata": {},
   "outputs": [],
   "source": [
    "batch_size=32\n",
    "\n",
    "train_idx = torch.arange(len(test_mae))\n",
    "train_sampler = SubsetRandomSampler(train_idx)\n",
    "\n",
    "test_train_loader = GraphDataLoader(test_mae\n",
    "                                    #, sampler=train_sampler\n",
    "                                    #, collate_fn=collate_fn\n",
    "                                    , batch_size=batch_size\n",
    "                                    , pin_memory=True\n",
    "                                   )"
   ]
  },
  {
   "cell_type": "code",
   "execution_count": null,
   "id": "147a0940-01fa-414a-88c3-4f532eeb0eda",
   "metadata": {},
   "outputs": [],
   "source": []
  },
  {
   "cell_type": "code",
   "execution_count": null,
   "id": "6beea612-97ae-445f-a245-1968f329680f",
   "metadata": {},
   "outputs": [],
   "source": [
    "test_mae[0][0].ndata[\"attr\"].shape"
   ]
  },
  {
   "cell_type": "markdown",
   "id": "ea7b2c8c-e52f-476e-954b-7e746e09348a",
   "metadata": {},
   "source": [
    "### Model"
   ]
  },
  {
   "cell_type": "code",
   "execution_count": null,
   "id": "f78cb4ba-e958-4127-977a-4764f32685fb",
   "metadata": {},
   "outputs": [],
   "source": [
    "gin_args = {\n",
    "    'num_layers':4,\n",
    "    'input_dimension':22,\n",
    "    'output_dimension':16,\n",
    "    'hidden_dimension':64\n",
    "}\n",
    "\n",
    "graphmae_model = model_grssl.GraphMAEModel(encoder_args=gin_args, drop_rate=0.01)"
   ]
  },
  {
   "cell_type": "code",
   "execution_count": null,
   "id": "cd3d882a-6229-4a5d-b3b1-076260b2898f",
   "metadata": {},
   "outputs": [],
   "source": [
    "graphmae_model(test_mae[0][0], test_mae[0][0].ndata[\"attr\"])"
   ]
  },
  {
   "cell_type": "code",
   "execution_count": null,
   "id": "fd02bd2e-27db-4dc4-bd9b-59a839ac0687",
   "metadata": {},
   "outputs": [],
   "source": [
    "graphmae_model.encoder_to_decoder"
   ]
  },
  {
   "cell_type": "code",
   "execution_count": null,
   "id": "2441c86b-07a2-4596-9d87-2db81e17a199",
   "metadata": {},
   "outputs": [],
   "source": [
    "test_mae[0][0]"
   ]
  },
  {
   "cell_type": "markdown",
   "id": "562040b2-01ca-469f-9950-f7681cab5150",
   "metadata": {},
   "source": [
    "### Load Config"
   ]
  },
  {
   "cell_type": "code",
   "execution_count": null,
   "id": "0708edc8-ebee-4cf7-9828-eef89bf73179",
   "metadata": {},
   "outputs": [],
   "source": [
    "from Configs.configs_parser import *\n",
    "import argparse\n",
    "\n",
    "import collections"
   ]
  },
  {
   "cell_type": "raw",
   "id": "563cba77-1e6e-4e40-b9f1-b719092a67c7",
   "metadata": {},
   "source": [
    "args = argparse.ArgumentParser(description='PyTorch Template')\n",
    "args.add_argument('-c', '--config', default=None, type=str,\n",
    "                  help='config file path (default: None)')\n",
    "args.add_argument('-r', '--resume', default=None, type=str,\n",
    "                  help='path to latest checkpoint (default: None)')\n",
    "args.add_argument('-d', '--device', default=None, type=str,\n",
    "                  help='indices of GPUs to enable (default: all)')\n",
    "\n",
    "# custom cli options to modify configuration from default values given in json file.\n",
    "CustomArgs = collections.namedtuple('CustomArgs', 'flags type target')\n",
    "options = [\n",
    "    CustomArgs(['--lr', '--learning_rate'], type=float, target='optimizer;args;lr'),\n",
    "    CustomArgs(['--bs', '--batch_size'], type=int, target='data_loader;args;batch_size')\n",
    "]\n",
    "\n",
    "#config = ConfigParser.from_args(args, options)"
   ]
  },
  {
   "cell_type": "code",
   "execution_count": null,
   "id": "56e82e9b-85db-46b4-be5e-de76fee3157e",
   "metadata": {},
   "outputs": [],
   "source": [
    "config = ConfigParser.from_json(json_path=\"Configs/config.json\")\n",
    "\n",
    "logger = config.get_logger('train')\n",
    "\n",
    "# setup data_loader instances\n",
    "data_loader = config.init_obj('data_loader', module_data)\n",
    "#valid_data_loader = data_loader.split_validation()\n",
    "\n",
    "# build model architecture, then print to console\n",
    "model = config.init_obj('arch', module_arch)\n",
    "logger.info(model)\n",
    "\n",
    "# prepare for (multi-device) GPU training\n",
    "device, device_ids = prepare_device(config['n_gpu'])\n",
    "model = model.to(device)\n",
    "if len(device_ids) > 1:\n",
    "    model = torch.nn.DataParallel(model, device_ids=device_ids)\n",
    "\n",
    "# get function handles of loss and metrics\n",
    "#criterion = getattr(module_loss, config['loss'])\n",
    "#metrics = [getattr(module_metric, met) for met in config['metrics']]\n",
    "\n",
    "# build optimizer, learning rate scheduler. delete every lines containing lr_scheduler for disabling scheduler\n",
    "trainable_params = filter(lambda p: p.requires_grad, model.parameters())\n",
    "optimizer = config.init_obj('optimizer', torch.optim, trainable_params)\n",
    "lr_scheduler = config.init_obj('lr_scheduler', torch.optim.lr_scheduler, optimizer)"
   ]
  },
  {
   "cell_type": "markdown",
   "id": "0fcbf7bb-8c4e-40ec-b619-536800bd22bb",
   "metadata": {
    "tags": []
   },
   "source": [
    "### Trainer"
   ]
  },
  {
   "cell_type": "code",
   "execution_count": null,
   "id": "4aa2bb08-7074-4005-9ee3-61f247da13ee",
   "metadata": {},
   "outputs": [],
   "source": [
    "config[\"optimizer\"]"
   ]
  },
  {
   "cell_type": "code",
   "execution_count": null,
   "id": "26c5cd07-a3e2-45cc-be0b-6e22fef53783",
   "metadata": {},
   "outputs": [],
   "source": [
    "mae_trainer = trainer.GraphMAETrainer(\n",
    "    model=graphmae_model,\n",
    "    criterion=None,\n",
    "    metric_ftns=None,\n",
    "    optimizer=optimizer,\n",
    "    config= config,#{\"trainer\":{\"epochs\":2,\n",
    "                  #      \"save_period\":1,\n",
    "                  #      \"monitor\":\"min\",\n",
    "                  #     }\n",
    "            #},\n",
    "    device='cpu',\n",
    "    data_loader=test_train_loader,\n",
    "    valid_data_loader=None,\n",
    "    lr_scheduler=None,\n",
    "    len_epoch=None,\n",
    ")"
   ]
  },
  {
   "cell_type": "code",
   "execution_count": null,
   "id": "799144f2-5d77-4b9b-9820-a9981d056037",
   "metadata": {},
   "outputs": [],
   "source": [
    "mae_trainer.train()"
   ]
  },
  {
   "cell_type": "code",
   "execution_count": null,
   "id": "cc8531ac-4c56-4d38-a3f8-8bfb56b5e170",
   "metadata": {},
   "outputs": [],
   "source": []
  }
 ],
 "metadata": {
  "kernelspec": {
   "display_name": "Python 3 (ipykernel)",
   "language": "python",
   "name": "python3"
  },
  "language_info": {
   "codemirror_mode": {
    "name": "ipython",
    "version": 3
   },
   "file_extension": ".py",
   "mimetype": "text/x-python",
   "name": "python",
   "nbconvert_exporter": "python",
   "pygments_lexer": "ipython3",
   "version": "3.10.6"
  }
 },
 "nbformat": 4,
 "nbformat_minor": 5
}
