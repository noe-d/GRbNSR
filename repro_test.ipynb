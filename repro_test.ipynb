{
 "cells": [
  {
   "cell_type": "code",
   "execution_count": 1,
   "id": "23dd07b5-1afe-46ec-9336-5ad518e6665e",
   "metadata": {},
   "outputs": [
    {
     "name": "stderr",
     "output_type": "stream",
     "text": [
      "/Users/nmm/miniforge3/envs/env_gdl/lib/python3.10/site-packages/tqdm/auto.py:22: TqdmWarning: IProgress not found. Please update jupyter and ipywidgets. See https://ipywidgets.readthedocs.io/en/stable/user_install.html\n",
      "  from .autonotebook import tqdm as notebook_tqdm\n"
     ]
    }
   ],
   "source": [
    "from synthetic.deep_distance import *\n",
    "\n",
    "%load_ext autoreload\n",
    "%autoreload 2"
   ]
  },
  {
   "cell_type": "code",
   "execution_count": 2,
   "id": "1b432ff3-e903-4261-8454-17cd83c753dc",
   "metadata": {},
   "outputs": [],
   "source": [
    "from synthetic.net import create_random_net, load_net"
   ]
  },
  {
   "cell_type": "code",
   "execution_count": 3,
   "id": "05dc6f41-4143-4563-9674-0c827377e6e7",
   "metadata": {},
   "outputs": [],
   "source": [
    "N = 100\n",
    "M = 500\n",
    "directed = False\n",
    "\n",
    "er_graph = create_random_net(N,M,directed)\n",
    "er_graph2 = create_random_net(N,M,directed)"
   ]
  },
  {
   "cell_type": "code",
   "execution_count": 4,
   "id": "883ec510-19dd-4635-84ae-da3e21bd09f3",
   "metadata": {},
   "outputs": [
    {
     "name": "stderr",
     "output_type": "stream",
     "text": [
      "  1% (11 of 1000) |                      | Elapsed Time: 0:00:00 ETA:   0:00:09"
     ]
    },
    {
     "name": "stdout",
     "output_type": "stream",
     "text": [
      "Warning: logging configuration file is not found in Logger/logger_config.json.\n",
      "computing normalization samples...\n"
     ]
    },
    {
     "name": "stderr",
     "output_type": "stream",
     "text": [
      "100% (1000 of 1000) |####################| Elapsed Time: 0:00:09 Time:  0:00:09\n"
     ]
    },
    {
     "name": "stdout",
     "output_type": "stream",
     "text": [
      "9.962s\n"
     ]
    }
   ],
   "source": [
    "deep_dist = DeepDistancesToNet(   \n",
    "    net = er_graph,\n",
    "    model = \"./DL_module/saved/best_models/GraphMAE_GCNversion/\",\n",
    "    model_name = \"GrMAE-vGCN\",\n",
    "    dist_type = \"cosine\",\n",
    "    norm_samples=1000\n",
    ")"
   ]
  },
  {
   "cell_type": "code",
   "execution_count": 5,
   "id": "0be32c0b-b850-466a-8a60-f63a0709c568",
   "metadata": {},
   "outputs": [
    {
     "data": {
      "text/plain": [
       "array([-0.0262196 , -0.03070387,  0.03128819,  0.03553085, -0.03574915,\n",
       "        0.00186738,  0.05397711, -0.06617591, -0.11146674, -0.02972955,\n",
       "       -0.10836524,  0.11122894, -0.0031264 , -0.17062038,  0.07303894,\n",
       "        0.0598917 ,  0.02937831,  0.00442535,  0.07545292,  0.06186496,\n",
       "       -0.02753408, -0.05136109, -0.07127106, -0.01712771,  0.00628037,\n",
       "        0.02796236, -0.06576622,  0.01093956,  0.03380031,  0.04036628,\n",
       "        0.05519407, -0.12681457], dtype=float32)"
      ]
     },
     "execution_count": 5,
     "metadata": {},
     "output_type": "execute_result"
    }
   ],
   "source": [
    "deep_dist.net_emb"
   ]
  },
  {
   "cell_type": "code",
   "execution_count": 6,
   "id": "f7d64520-acf5-46bb-b654-20a5eff815d3",
   "metadata": {},
   "outputs": [
    {
     "data": {
      "text/plain": [
       "[0.010999572932720185]"
      ]
     },
     "execution_count": 6,
     "metadata": {},
     "output_type": "execute_result"
    }
   ],
   "source": [
    "deep_dist.norm_values"
   ]
  },
  {
   "cell_type": "code",
   "execution_count": 7,
   "id": "c019db37-2357-44a0-83e1-da2d419903a6",
   "metadata": {},
   "outputs": [
    {
     "data": {
      "text/plain": [
       "[1.4213658684299604]"
      ]
     },
     "execution_count": 7,
     "metadata": {},
     "output_type": "execute_result"
    }
   ],
   "source": [
    "deep_dist.compute(er_graph2)"
   ]
  },
  {
   "cell_type": "code",
   "execution_count": 8,
   "id": "2f5e5522-5d1d-4ced-95f3-ea5294029d0c",
   "metadata": {},
   "outputs": [],
   "source": [
    "from tqdm import tqdm"
   ]
  },
  {
   "cell_type": "code",
   "execution_count": 9,
   "id": "69114efb-b964-4bc2-a730-ee5b37d04ec7",
   "metadata": {},
   "outputs": [
    {
     "name": "stderr",
     "output_type": "stream",
     "text": [
      "100%|██████████████████████████████████████| 1000/1000 [00:09<00:00, 104.57it/s]"
     ]
    },
    {
     "name": "stdout",
     "output_type": "stream",
     "text": [
      "0.9941768468078908\n"
     ]
    },
    {
     "name": "stderr",
     "output_type": "stream",
     "text": [
      "\n"
     ]
    }
   ],
   "source": [
    "er_dists = []\n",
    "for _ in tqdm(range(1000)):\n",
    "    rdm_graph = create_random_net(N,M,directed)\n",
    "    er_dists += deep_dist.compute(rdm_graph)\n",
    "    \n",
    "print(np.mean(er_dists))"
   ]
  },
  {
   "cell_type": "code",
   "execution_count": 10,
   "id": "cb939e29-45ce-4b19-8910-f9e8e6890ba2",
   "metadata": {},
   "outputs": [
    {
     "data": {
      "text/plain": [
       "3.2098380034791405"
      ]
     },
     "execution_count": 10,
     "metadata": {},
     "output_type": "execute_result"
    }
   ],
   "source": [
    "np.max(er_dists)#*deep_dist.norm_values[0]"
   ]
  },
  {
   "cell_type": "code",
   "execution_count": 11,
   "id": "e644fbb5-4cfe-4b79-b517-619a31362dc9",
   "metadata": {},
   "outputs": [],
   "source": [
    "import matplotlib.pyplot as plt"
   ]
  },
  {
   "cell_type": "code",
   "execution_count": 12,
   "id": "f852df47-2ac2-406f-9824-ae6ee22b5378",
   "metadata": {},
   "outputs": [
    {
     "data": {
      "text/plain": [
       "(array([104., 285., 266., 176.,  91.,  40.,  19.,  13.,   3.,   3.]),\n",
       " array([0.18565162, 0.48807025, 0.79048889, 1.09290753, 1.39532617,\n",
       "        1.69774481, 2.00016345, 2.30258209, 2.60500073, 2.90741936,\n",
       "        3.209838  ]),\n",
       " <BarContainer object of 10 artists>)"
      ]
     },
     "execution_count": 12,
     "metadata": {},
     "output_type": "execute_result"
    },
    {
     "data": {
      "image/png": "[encoded data removed]",
      "text/plain": [
       "<Figure size 640x480 with 1 Axes>"
      ]
     },
     "metadata": {},
     "output_type": "display_data"
    }
   ],
   "source": [
    "plt.hist(er_dists)"
   ]
  },
  {
   "cell_type": "markdown",
   "id": "a5769f8a-bbc6-4feb-b1a8-d354f6622077",
   "metadata": {},
   "source": [
    "# 💨 `evo` test"
   ]
  },
  {
   "cell_type": "code",
   "execution_count": 4,
   "id": "66db6660-dd5a-47ec-a203-d55cae460f32",
   "metadata": {},
   "outputs": [],
   "source": [
    "from synthetic.commands.evo import *"
   ]
  },
  {
   "cell_type": "code",
   "execution_count": 5,
   "id": "8054ad73-a7f0-49d4-981a-3ad603f8767a",
   "metadata": {},
   "outputs": [],
   "source": [
    "from synthetic.distances import Norm"
   ]
  },
  {
   "cell_type": "code",
   "execution_count": 5,
   "id": "89e8c382-02ed-4b8a-bf5d-4ed23568bc63",
   "metadata": {},
   "outputs": [],
   "source": [
    "#netfile = \"data/data_2013/obs/words.gml\"#../synteargs['inet']\n",
    "netfile = \"space_seg/data/data_v2/v100_e552/PA/k_1.pickle\"#../synteargs['inet']\n",
    "outdir = \"data/pgcl_tests/degs_k/\"#args['odir']\n",
    "generations = DEFAULT_GENERATIONS#arg_with_default(args, 'gens', DEFAULT_GENERATIONS)\n",
    "sr = DEFAULT_SAMPLE_RATE#arg_with_default(args, 'sr', DEFAULT_SAMPLE_RATE)\n",
    "#bins = DEFAULT_BINS#arg_with_default(args, 'bins', DEFAULT_BINS)\n",
    "#max_dist = DEFAULT_MAX_DIST#arg_with_default(args, 'maxdist', DEFAULT_MAX_DIST)\n",
    "directed = False#not args['undir']\n",
    "tolerance = DEFAULT_TOLERANCE#arg_with_default(args, 'tolerance', DEFAULT_TOLERANCE)\n",
    "gen_type = DEFAULT_GEN_TYPE#arg_with_default(args, 'gentype', DEFAULT_GEN_TYPE)\n",
    "#rw = args['rw']"
   ]
  },
  {
   "cell_type": "code",
   "execution_count": 7,
   "id": "95686a37-e807-4a7d-a80f-e0c072ee8ace",
   "metadata": {},
   "outputs": [
    {
     "ename": "NameError",
     "evalue": "name 'args' is not defined",
     "output_type": "error",
     "traceback": [
      "\u001b[0;31m---------------------------------------------------------------------------\u001b[0m",
      "\u001b[0;31mNameError\u001b[0m                                 Traceback (most recent call last)",
      "Cell \u001b[0;32mIn [7], line 2\u001b[0m\n\u001b[1;32m      1\u001b[0m \u001b[38;5;66;03m# set the seed if given\u001b[39;00m\n\u001b[0;32m----> 2\u001b[0m \u001b[38;5;28;01mif\u001b[39;00m \u001b[38;5;124m\"\u001b[39m\u001b[38;5;124mseed\u001b[39m\u001b[38;5;124m\"\u001b[39m \u001b[38;5;129;01min\u001b[39;00m \u001b[43margs\u001b[49m\u001b[38;5;241m.\u001b[39mkeys():\n\u001b[1;32m      3\u001b[0m     set_seed(args[\u001b[38;5;124m\"\u001b[39m\u001b[38;5;124mseed\u001b[39m\u001b[38;5;124m\"\u001b[39m])\n",
      "\u001b[0;31mNameError\u001b[0m: name 'args' is not defined"
     ]
    }
   ],
   "source": [
    "# set the seed if given\n",
    "if \"seed\" in args.keys():\n",
    "    set_seed(args[\"seed\"])"
   ]
  },
  {
   "cell_type": "code",
   "execution_count": 8,
   "id": "8c4077df-ab26-4c8d-b66a-a165b8bf1aaa",
   "metadata": {},
   "outputs": [],
   "source": [
    "# load net\n",
    "net = load_net(netfile, directed)"
   ]
  },
  {
   "cell_type": "code",
   "execution_count": 9,
   "id": "5b433ab8-9fa2-405c-bf0d-2ae579405e92",
   "metadata": {},
   "outputs": [],
   "source": [
    "# create base generator\n",
    "base_generator = create_generator(directed, gen_type)"
   ]
  },
  {
   "cell_type": "code",
   "execution_count": 10,
   "id": "231cc6c5-cf4c-4dc4-8964-b8ab85e1a4fb",
   "metadata": {},
   "outputs": [
    {
     "name": "stdout",
     "output_type": "stream",
     "text": [
      "computing target network statistics...\n"
     ]
    }
   ],
   "source": [
    "# create fitness calculator\n",
    "# TODO: norm samples configurable\n",
    "print('computing target network statistics...')\n",
    "deep_dist = DeepDistancesToNet(   \n",
    "    net = net,# nx2dgl(net.graph.to_networkx().to_undirected()),\n",
    "    #model = \"./DL_module/saved/best_models/GraphMAE_GCNversion_o64/\",\n",
    "    model = \"./DL_module/saved/best_models/trad_degs/\",\n",
    "    model_name = \"GrMAE-vGCN\",\n",
    "    dist_type = \"euclidean\",\n",
    "    norm = Norm.NONE,\n",
    "    #norm_samples=1000,#DEFAULT_NORM_SAMPLES\n",
    ")\n",
    "#dists2net = DistancesToNet(net, get_stat_dist_types(args), bins, max_dist, rw, norm=Norm.ER_MEAN_RATIO,\n",
    " #                          norm_samples=DEFAULT_NORM_SAMPLES)"
   ]
  },
  {
   "cell_type": "code",
   "execution_count": 13,
   "id": "e155e218-4c63-4e28-8099-a22384823c57",
   "metadata": {
    "tags": []
   },
   "outputs": [
    {
     "name": "stdout",
     "output_type": "stream",
     "text": [
      "evolutionary search started...\n"
     ]
    },
    {
     "name": "stderr",
     "output_type": "stream",
     "text": [
      "Stable gens:   6%|▎   | 63/1000 [00:13<03:21,  4.65it/s, #=5, loss=7.75, size=7]/Users/nmm/Desktop/CMB_CSS_PDM/main_project/synthetic/prog.py:384: RuntimeWarning: overflow encountered in double_scalars\n",
      "  val = curnode.params[0].curval * curnode.params[1].curval\n",
      "Stable gens: 100%|██| 1000/1000 [03:46<00:00,  4.41it/s, #=7, loss=7.48, size=6]"
     ]
    },
    {
     "name": "stdout",
     "output_type": "stream",
     "text": [
      "Done in 00:08:43. After 2342 generations.\n",
      "Best found generator:\n",
      "\t(== 4 \n",
      " (LOG 0.9445694318084853) $dist $orig_deg)\n",
      "\n",
      "========================================\n",
      "\n"
     ]
    },
    {
     "name": "stderr",
     "output_type": "stream",
     "text": [
      "\n"
     ]
    }
   ],
   "source": [
    "# create evolutionary search\n",
    "print('evolutionary search started...')\n",
    "evo = Evo(net, deep_dist, generations, tolerance, base_generator, outdir, sr\n",
    "          , \n",
    "         )\n",
    "\n",
    "# run search\n",
    "evo.run()"
   ]
  },
  {
   "cell_type": "code",
   "execution_count": null,
   "id": "055bcb08-b7db-4b3e-990d-8f006f48bc6d",
   "metadata": {},
   "outputs": [],
   "source": []
  },
  {
   "cell_type": "code",
   "execution_count": null,
   "id": "433947c9-037e-47aa-be45-3eff76db1a9f",
   "metadata": {},
   "outputs": [],
   "source": []
  },
  {
   "cell_type": "code",
   "execution_count": null,
   "id": "204e3aac-d6ab-4b34-a042-6c4592de9f8e",
   "metadata": {},
   "outputs": [],
   "source": []
  },
  {
   "cell_type": "code",
   "execution_count": null,
   "id": "6e86c56c-9c87-4a14-9702-b0024c5e96f8",
   "metadata": {},
   "outputs": [],
   "source": []
  },
  {
   "cell_type": "code",
   "execution_count": null,
   "id": "7f65ce55-6e73-44f8-932d-ec82c1768b99",
   "metadata": {},
   "outputs": [],
   "source": []
  },
  {
   "cell_type": "code",
   "execution_count": 23,
   "id": "1d5bc694-666c-4ad5-a0df-798b0ea2886d",
   "metadata": {},
   "outputs": [
    {
     "data": {
      "text/plain": [
       "[0.9027203936540765]"
      ]
     },
     "execution_count": 23,
     "metadata": {},
     "output_type": "execute_result"
    }
   ],
   "source": [
    "deep_dist.compute(load_net(\"data/data_2013/synth/words-synth.edges\", directed=False))"
   ]
  },
  {
   "cell_type": "code",
   "execution_count": 24,
   "id": "2b520262-0f48-4f70-a2e2-b676e89dece0",
   "metadata": {},
   "outputs": [
    {
     "data": {
      "text/plain": [
       "[0.0]"
      ]
     },
     "execution_count": 24,
     "metadata": {},
     "output_type": "execute_result"
    }
   ],
   "source": [
    "deep_dist.compute(load_net(\"data/data_2013/obs/words.gml\", directed=False))"
   ]
  },
  {
   "cell_type": "code",
   "execution_count": null,
   "id": "9a07ba8a-d85f-4fc4-8ec1-b5d5d1da5768",
   "metadata": {},
   "outputs": [],
   "source": []
  },
  {
   "cell_type": "code",
   "execution_count": null,
   "id": "b5564644-3c2c-4d40-9686-ddb0fcc54877",
   "metadata": {},
   "outputs": [],
   "source": []
  },
  {
   "cell_type": "code",
   "execution_count": 51,
   "id": "f859314a-3db3-44f0-a02d-b41d8d427251",
   "metadata": {},
   "outputs": [],
   "source": [
    "from synthetic.net import Net\n",
    "from dgl.heterograph import DGLHeteroGraph\n",
    "from dgl import DGLGraph"
   ]
  },
  {
   "cell_type": "code",
   "execution_count": 54,
   "id": "b00f4506-8767-4eb0-83de-2f7fd3eeac9b",
   "metadata": {},
   "outputs": [
    {
     "name": "stdout",
     "output_type": "stream",
     "text": [
      "True\n",
      "False\n"
     ]
    }
   ],
   "source": [
    "for c in deep_dist.net.__class__.__mro__:\n",
    "    print(c == Net)"
   ]
  },
  {
   "cell_type": "code",
   "execution_count": 55,
   "id": "239c5101-178d-4c39-9ecb-e9788b9f1ba3",
   "metadata": {},
   "outputs": [
    {
     "data": {
      "text/plain": [
       "(dgl.heterograph.DGLHeteroGraph, object)"
      ]
     },
     "execution_count": 55,
     "metadata": {},
     "output_type": "execute_result"
    }
   ],
   "source": [
    "nx2dgl(deep_dist.net.graph.to_networkx()).__class__.__mro__"
   ]
  },
  {
   "cell_type": "code",
   "execution_count": 56,
   "id": "53a4a1a8-24b4-4c71-a0af-1af5c91b92b6",
   "metadata": {},
   "outputs": [
    {
     "name": "stdout",
     "output_type": "stream",
     "text": [
      "True\n",
      "False\n"
     ]
    }
   ],
   "source": [
    "for c in nx2dgl(deep_dist.net.graph.to_networkx()).__class__.__mro__:\n",
    "    print(c == DGLGraph)"
   ]
  },
  {
   "cell_type": "code",
   "execution_count": null,
   "id": "b6a50c6d-76e2-4b7f-aade-3eb180f1f79d",
   "metadata": {},
   "outputs": [],
   "source": []
  },
  {
   "cell_type": "code",
   "execution_count": null,
   "id": "76fa6a57-1157-437c-b9c5-37c670b759d4",
   "metadata": {},
   "outputs": [],
   "source": []
  },
  {
   "cell_type": "markdown",
   "id": "a7dbf429-51cb-4096-928d-dc74567e04f5",
   "metadata": {},
   "source": [
    "# Re-vamp Reproducibility `script`"
   ]
  },
  {
   "cell_type": "code",
   "execution_count": 1,
   "id": "a5fdb17c-5b4c-4a89-9158-17d9bee6f187",
   "metadata": {},
   "outputs": [
    {
     "name": "stderr",
     "output_type": "stream",
     "text": [
      "/Users/nmm/miniforge3/envs/env_gdl/lib/python3.10/site-packages/tqdm/auto.py:22: TqdmWarning: IProgress not found. Please update jupyter and ipywidgets. See https://ipywidgets.readthedocs.io/en/stable/user_install.html\n",
      "  from .autonotebook import tqdm as notebook_tqdm\n"
     ]
    }
   ],
   "source": [
    "from reproducibility.evolutionary_search import *\n",
    "from reproducibility.evolutionary_search import _DEFAULT_ARGS"
   ]
  },
  {
   "cell_type": "code",
   "execution_count": 2,
   "id": "8f9bac1e-6622-449e-b2ed-3fac6d553751",
   "metadata": {},
   "outputs": [],
   "source": [
    "_OG_SEED = 0"
   ]
  },
  {
   "cell_type": "code",
   "execution_count": 49,
   "id": "5a200232-74b3-49c1-b9fd-bd1b39699dcb",
   "metadata": {},
   "outputs": [],
   "source": [
    "#deep_exp_args = {\n",
    "#    \"model_path\":'./DL_module/saved/best_models/GraphMAE_GCNversion_o64/',\n",
    "#    'dist_type':'euclidean',\n",
    "#}\n",
    "\n",
    "args = {\n",
    "    'data_path': 'space_seg/data/data_v2/v300_e3020/',#'space_seg/data/data_v2/v100_e552/',\n",
    "    'data_folder': 'ID',\n",
    "    'output_path': 'data/repro_pgcl_large/ID/',\n",
    "    'directed': False,\n",
    "    'n_rep': 10,\n",
    "    'do_parallel': False,\n",
    "    'n_processes': 1  \n",
    "}"
   ]
  },
  {
   "cell_type": "code",
   "execution_count": 50,
   "id": "829916fd-49e1-4f2d-bfec-081bce7a2f9a",
   "metadata": {},
   "outputs": [
    {
     "name": "stdout",
     "output_type": "stream",
     "text": [
      "['space_seg/data/data_v2/v300_e3020/ID/id_1.pickle', 'space_seg/data/data_v2/v300_e3020/ID/id_2.pickle', 'space_seg/data/data_v2/v300_e3020/ID/id_3.pickle']\n"
     ]
    }
   ],
   "source": [
    "make_folder(args[\"output_path\"])\n",
    "\n",
    "nets_files = [\"id_{}.pickle\".format(i+1) \n",
    "              for i in range(3)\n",
    "             ]\n",
    "nets_paths = [args[\"data_path\"]+args[\"data_folder\"]+\"/\"+f for f in nets_files]\n",
    "print(nets_paths)\n",
    "\n",
    "output_exp = args[\"output_path\"]+\"{exp_name}\""
   ]
  },
  {
   "cell_type": "code",
   "execution_count": 51,
   "id": "f2cae93e-57c3-4aa9-8206-22e2e21a2774",
   "metadata": {},
   "outputs": [
    {
     "name": "stdout",
     "output_type": "stream",
     "text": [
      "🌱 Setting seed to 0\n",
      "Initialising distance metric...\n",
      "Warning: logging configuration file is not found in Logger/logger_config.json.\n",
      "🌱 Setting seed to 0\n"
     ]
    },
    {
     "name": "stderr",
     "output_type": "stream",
     "text": [
      "Stable gens: 100%|█| 100/100 [09:27<00:00,  5.68s/it, #=5, loss=0.00168, size=23\n"
     ]
    },
    {
     "name": "stdout",
     "output_type": "stream",
     "text": [
      "Done in 00:13:35. After 145 generations.\n",
      "Best found generator:\n",
      "\t(ABS \n",
      " (< $targ \n",
      "  (> 0 \n",
      "   (/ \n",
      "    (* \n",
      "     (> $dist 0.9995333373869157 $orig_deg $orig) \n",
      "     (EXP 2)) $targ_deg) 0.4368939103819883 0.699966086679833) \n",
      "  (^ $orig_deg $dist) \n",
      "  (* 0.8490766297034003 $targ)))\n",
      "\n",
      "========================================\n",
      "\n",
      "🌱 Setting seed to 1\n"
     ]
    },
    {
     "name": "stderr",
     "output_type": "stream",
     "text": [
      "Stable gens: 100%|█| 100/100 [08:38<00:00,  5.19s/it, #=7, loss=0.00266, size=9]\n"
     ]
    },
    {
     "name": "stdout",
     "output_type": "stream",
     "text": [
      "Done in 00:14:35. After 172 generations.\n",
      "Best found generator:\n",
      "\t(+ \n",
      " (MAX $targ $orig_deg) \n",
      " (== 4 $targ 0.9013202172037503 $targ_deg))\n",
      "\n",
      "========================================\n",
      "\n",
      "🌱 Setting seed to 2\n"
     ]
    },
    {
     "name": "stderr",
     "output_type": "stream",
     "text": [
      "Stable gens: 100%|█| 100/100 [08:31<00:00,  5.12s/it, #=4, loss=0.00244, size=6]\n"
     ]
    },
    {
     "name": "stdout",
     "output_type": "stream",
     "text": [
      "Done in 00:22:17. After 261 generations.\n",
      "Best found generator:\n",
      "\t(== \n",
      " (LOG $orig_deg) $targ_deg 1 $targ)\n",
      "\n",
      "========================================\n",
      "\n",
      "🌱 Setting seed to 3\n"
     ]
    },
    {
     "name": "stderr",
     "output_type": "stream",
     "text": [
      "Stable gens: 100%|█| 100/100 [07:53<00:00,  4.73s/it, #=5, loss=0.00397, size=3]\n"
     ]
    },
    {
     "name": "stdout",
     "output_type": "stream",
     "text": [
      "Done in 00:14:24. After 183 generations.\n",
      "Best found generator:\n",
      "\t(MAX $orig 4)\n",
      "\n",
      "========================================\n",
      "\n",
      "🌱 Setting seed to 4\n"
     ]
    },
    {
     "name": "stderr",
     "output_type": "stream",
     "text": [
      "Stable gens: 100%|█| 100/100 [08:35<00:00,  5.16s/it, #=10, loss=0.00363, size=1\n"
     ]
    },
    {
     "name": "stdout",
     "output_type": "stream",
     "text": [
      "Done in 00:28:02. After 322 generations.\n",
      "Best found generator:\n",
      "\t(ZER \n",
      " (AFF $targ 0.5973339439328592 $dist) \n",
      " (ABS $orig) \n",
      " (> 0.7670467377629946 $orig_deg 8 $targ_deg))\n",
      "\n",
      "========================================\n",
      "\n",
      "🌱 Setting seed to 5\n"
     ]
    },
    {
     "name": "stderr",
     "output_type": "stream",
     "text": [
      "Stable gens: 100%|█| 100/100 [09:15<00:00,  5.56s/it, #=9, loss=0.000656, size=1\n"
     ]
    },
    {
     "name": "stdout",
     "output_type": "stream",
     "text": [
      "Done in 00:14:50. After 164 generations.\n",
      "Best found generator:\n",
      "\t(/ \n",
      " (MAX $targ \n",
      "  (+ \n",
      "   (ZER 0.8220106043910862 9 0.49239533939950986) \n",
      "   (AFF $orig_deg 0.6161664250484888 0))) 1)\n",
      "\n",
      "========================================\n",
      "\n",
      "🌱 Setting seed to 6\n"
     ]
    },
    {
     "name": "stderr",
     "output_type": "stream",
     "text": [
      "Stable gens: 100%|█| 100/100 [08:44<00:00,  5.25s/it, #=5, loss=0.00357, size=9]\n"
     ]
    },
    {
     "name": "stdout",
     "output_type": "stream",
     "text": [
      "Done in 00:09:33. After 110 generations.\n",
      "Best found generator:\n",
      "\t(* \n",
      " (AFF $orig_deg \n",
      "  (MAX 0.7921403215561038 0.5158528867800386) 4) \n",
      " (ABS $orig))\n",
      "\n",
      "========================================\n",
      "\n",
      "🌱 Setting seed to 7\n"
     ]
    },
    {
     "name": "stderr",
     "output_type": "stream",
     "text": [
      "Stable gens: 100%|█| 100/100 [08:00<00:00,  4.80s/it, #=12, loss=0.0013, size=3]\n"
     ]
    },
    {
     "name": "stdout",
     "output_type": "stream",
     "text": [
      "Done in 00:29:02. After 346 generations.\n",
      "Best found generator:\n",
      "\t(MAX 0.4070447965835391 $targ)\n",
      "\n",
      "========================================\n",
      "\n",
      "🌱 Setting seed to 8\n"
     ]
    },
    {
     "name": "stderr",
     "output_type": "stream",
     "text": [
      "Stable gens: 100%|█| 100/100 [08:23<00:00,  5.04s/it, #=8, loss=0.00287, size=3]\n"
     ]
    },
    {
     "name": "stdout",
     "output_type": "stream",
     "text": [
      "Done in 00:11:54. After 141 generations.\n",
      "Best found generator:\n",
      "\t(MAX $targ 5)\n",
      "\n",
      "========================================\n",
      "\n",
      "🌱 Setting seed to 9\n"
     ]
    },
    {
     "name": "stderr",
     "output_type": "stream",
     "text": [
      "Stable gens: 100%|█| 100/100 [07:54<00:00,  4.74s/it, #=2, loss=0.00337, size=1]\n"
     ]
    },
    {
     "name": "stdout",
     "output_type": "stream",
     "text": [
      "Done in 00:13:27. After 170 generations.\n",
      "Best found generator:\n",
      "\t$orig\n",
      "\n",
      "========================================\n",
      "\n",
      "🌱 Setting seed to 0\n",
      "Initialising distance metric...\n",
      "Warning: logging configuration file is not found in Logger/logger_config.json.\n",
      "🌱 Setting seed to 0\n"
     ]
    },
    {
     "name": "stderr",
     "output_type": "stream",
     "text": [
      "Stable gens: 100%|█| 100/100 [08:17<00:00,  4.98s/it, #=6, loss=0.00159, size=4]\n"
     ]
    },
    {
     "name": "stdout",
     "output_type": "stream",
     "text": [
      "Done in 00:13:42. After 164 generations.\n",
      "Best found generator:\n",
      "\t(ABS \n",
      " (MAX $targ $orig_deg))\n",
      "\n",
      "========================================\n",
      "\n",
      "🌱 Setting seed to 1\n"
     ]
    },
    {
     "name": "stderr",
     "output_type": "stream",
     "text": [
      "Stable gens: 100%|█| 100/100 [08:22<00:00,  5.02s/it, #=6, loss=0.00152, size=8]\n"
     ]
    },
    {
     "name": "stdout",
     "output_type": "stream",
     "text": [
      "Done in 00:16:18. After 199 generations.\n",
      "Best found generator:\n",
      "\t(< $targ_deg 0.0 \n",
      " (LOG 1) \n",
      " (MAX $orig 1))\n",
      "\n",
      "========================================\n",
      "\n",
      "🌱 Setting seed to 2\n"
     ]
    },
    {
     "name": "stderr",
     "output_type": "stream",
     "text": [
      "Stable gens: 100%|█| 100/100 [07:54<00:00,  4.74s/it, #=3, loss=0.00154, size=1]\n"
     ]
    },
    {
     "name": "stdout",
     "output_type": "stream",
     "text": [
      "Done in 00:09:16. After 117 generations.\n",
      "Best found generator:\n",
      "\t$orig\n",
      "\n",
      "========================================\n",
      "\n",
      "🌱 Setting seed to 3\n"
     ]
    },
    {
     "name": "stderr",
     "output_type": "stream",
     "text": [
      "Stable gens: 100%|█| 100/100 [07:55<00:00,  4.75s/it, #=8, loss=0.00133, size=1]\n"
     ]
    },
    {
     "name": "stdout",
     "output_type": "stream",
     "text": [
      "Done in 00:15:17. After 190 generations.\n",
      "Best found generator:\n",
      "\t$targ\n",
      "\n",
      "========================================\n",
      "\n",
      "🌱 Setting seed to 4\n"
     ]
    },
    {
     "name": "stderr",
     "output_type": "stream",
     "text": [
      "Stable gens: 100%|█| 100/100 [09:33<00:00,  5.74s/it, #=9, loss=0.00198, size=17\n"
     ]
    },
    {
     "name": "stdout",
     "output_type": "stream",
     "text": [
      "Done in 00:11:36. After 123 generations.\n",
      "Best found generator:\n",
      "\t(MIN \n",
      " (- \n",
      "  (- $orig $targ_deg) \n",
      "  (MIN 0.1027775553106065 $orig)) \n",
      " (* \n",
      "  (MIN $dist $orig) \n",
      "  (> 6 2 $orig 7)))\n",
      "\n",
      "========================================\n",
      "\n",
      "🌱 Setting seed to 5\n"
     ]
    },
    {
     "name": "stderr",
     "output_type": "stream",
     "text": [
      "Stable gens: 100%|█| 100/100 [08:12<00:00,  4.92s/it, #=4, loss=0.00237, size=1]\n"
     ]
    },
    {
     "name": "stdout",
     "output_type": "stream",
     "text": [
      "Done in 00:10:38. After 127 generations.\n",
      "Best found generator:\n",
      "\t$targ\n",
      "\n",
      "========================================\n",
      "\n",
      "🌱 Setting seed to 6\n"
     ]
    },
    {
     "name": "stderr",
     "output_type": "stream",
     "text": [
      "Stable gens: 100%|█| 100/100 [08:23<00:00,  5.03s/it, #=10, loss=0.00158, size=6\n"
     ]
    },
    {
     "name": "stdout",
     "output_type": "stream",
     "text": [
      "Done in 00:18:57. After 207 generations.\n",
      "Best found generator:\n",
      "\t(* $orig \n",
      " (EXP \n",
      "  (MIN 0 0.0429580051545162)))\n",
      "\n",
      "========================================\n",
      "\n",
      "🌱 Setting seed to 7\n"
     ]
    },
    {
     "name": "stderr",
     "output_type": "stream",
     "text": [
      "Stable gens: 100%|█| 100/100 [08:23<00:00,  5.04s/it, #=10, loss=0.00109, size=1\n"
     ]
    },
    {
     "name": "stdout",
     "output_type": "stream",
     "text": [
      "Done in 00:17:35. After 199 generations.\n",
      "Best found generator:\n",
      "\t$targ\n",
      "\n",
      "========================================\n",
      "\n",
      "🌱 Setting seed to 8\n"
     ]
    },
    {
     "name": "stderr",
     "output_type": "stream",
     "text": [
      "Stable gens: 100%|█| 100/100 [09:24<00:00,  5.64s/it, #=7, loss=0.00122, size=24\n"
     ]
    },
    {
     "name": "stdout",
     "output_type": "stream",
     "text": [
      "Done in 00:11:32. After 123 generations.\n",
      "Best found generator:\n",
      "\t(MAX \n",
      " (* $targ 0.41797584456034786) \n",
      " (== \n",
      "  (ABS \n",
      "   (- \n",
      "    (< 0.0 2 $orig 0.8468595267877248) $dist)) \n",
      "  (ABS 0.0) 0.14833881804209936 \n",
      "  (MIN \n",
      "   (MIN $targ_deg $targ_deg) \n",
      "   (ZER $orig_deg 0.05905305938495242 $dist))))\n",
      "\n",
      "========================================\n",
      "\n",
      "🌱 Setting seed to 9\n"
     ]
    },
    {
     "name": "stderr",
     "output_type": "stream",
     "text": [
      "Stable gens: 100%|█| 100/100 [09:45<00:00,  5.85s/it, #=6, loss=0.00121, size=23\n"
     ]
    },
    {
     "name": "stdout",
     "output_type": "stream",
     "text": [
      "Done in 00:25:32. After 279 generations.\n",
      "Best found generator:\n",
      "\t(* \n",
      " (/ \n",
      "  (> $targ 8 8 $orig) \n",
      "  (MAX 2 0.0)) \n",
      " (> \n",
      "  (ABS $dist) 8 \n",
      "  (* $targ 0) \n",
      "  (< 0.8165825247468967 \n",
      "   (ABS 0.6864834229544469) $orig_deg $targ)))\n",
      "\n",
      "========================================\n",
      "\n",
      "🌱 Setting seed to 0\n",
      "Initialising distance metric...\n",
      "Warning: logging configuration file is not found in Logger/logger_config.json.\n",
      "🌱 Setting seed to 0\n"
     ]
    },
    {
     "name": "stderr",
     "output_type": "stream",
     "text": [
      "Stable gens: 100%|█| 100/100 [08:17<00:00,  4.97s/it, #=5, loss=0.00151, size=1]\n"
     ]
    },
    {
     "name": "stdout",
     "output_type": "stream",
     "text": [
      "Done in 00:12:03. After 146 generations.\n",
      "Best found generator:\n",
      "\t$targ\n",
      "\n",
      "========================================\n",
      "\n",
      "🌱 Setting seed to 1\n"
     ]
    },
    {
     "name": "stderr",
     "output_type": "stream",
     "text": [
      "Stable gens: 100%|█| 100/100 [08:33<00:00,  5.13s/it, #=4, loss=0.00153, size=11\n"
     ]
    },
    {
     "name": "stdout",
     "output_type": "stream",
     "text": [
      "Done in 00:12:42. After 150 generations.\n",
      "Best found generator:\n",
      "\t(> \n",
      " (ZER 0 4 0.21049910125926397) $targ \n",
      " (MIN 0 0.4598541376262264) \n",
      " (ABS $targ))\n",
      "\n",
      "========================================\n",
      "\n",
      "🌱 Setting seed to 2\n"
     ]
    },
    {
     "name": "stderr",
     "output_type": "stream",
     "text": [
      "Stable gens: 100%|█| 100/100 [08:12<00:00,  4.92s/it, #=7, loss=0.00136, size=1]\n"
     ]
    },
    {
     "name": "stdout",
     "output_type": "stream",
     "text": [
      "Done in 00:21:56. After 275 generations.\n",
      "Best found generator:\n",
      "\t$targ\n",
      "\n",
      "========================================\n",
      "\n",
      "🌱 Setting seed to 3\n"
     ]
    },
    {
     "name": "stderr",
     "output_type": "stream",
     "text": [
      "Stable gens: 100%|█| 100/100 [08:24<00:00,  5.05s/it, #=6, loss=0.00167, size=1]\n"
     ]
    },
    {
     "name": "stdout",
     "output_type": "stream",
     "text": [
      "Done in 00:22:13. After 276 generations.\n",
      "Best found generator:\n",
      "\t$targ\n",
      "\n",
      "========================================\n",
      "\n",
      "🌱 Setting seed to 4\n"
     ]
    },
    {
     "name": "stderr",
     "output_type": "stream",
     "text": [
      "Stable gens: 100%|█| 100/100 [08:12<00:00,  4.92s/it, #=14, loss=0.00142, size=1\n"
     ]
    },
    {
     "name": "stdout",
     "output_type": "stream",
     "text": [
      "Done in 00:17:56. After 208 generations.\n",
      "Best found generator:\n",
      "\t$orig\n",
      "\n",
      "========================================\n",
      "\n",
      "🌱 Setting seed to 5\n"
     ]
    },
    {
     "name": "stderr",
     "output_type": "stream",
     "text": [
      "Stable gens: 100%|█| 100/100 [08:04<00:00,  4.84s/it, #=7, loss=0.00179, size=1]\n"
     ]
    },
    {
     "name": "stdout",
     "output_type": "stream",
     "text": [
      "Done in 00:13:05. After 158 generations.\n",
      "Best found generator:\n",
      "\t$orig\n",
      "\n",
      "========================================\n",
      "\n",
      "🌱 Setting seed to 6\n"
     ]
    },
    {
     "name": "stderr",
     "output_type": "stream",
     "text": [
      "Stable gens: 100%|█| 100/100 [07:39<00:00,  4.59s/it, #=14, loss=0.00162, size=1\n"
     ]
    },
    {
     "name": "stdout",
     "output_type": "stream",
     "text": [
      "Done in 00:11:07. After 141 generations.\n",
      "Best found generator:\n",
      "\t$orig\n",
      "\n",
      "========================================\n",
      "\n",
      "🌱 Setting seed to 7\n"
     ]
    },
    {
     "name": "stderr",
     "output_type": "stream",
     "text": [
      "Stable gens: 100%|█| 100/100 [07:56<00:00,  4.77s/it, #=14, loss=0.00118, size=2\n"
     ]
    },
    {
     "name": "stdout",
     "output_type": "stream",
     "text": [
      "Done in 00:38:51. After 455 generations.\n",
      "Best found generator:\n",
      "\t(ABS $orig)\n",
      "\n",
      "========================================\n",
      "\n",
      "🌱 Setting seed to 8\n"
     ]
    },
    {
     "name": "stderr",
     "output_type": "stream",
     "text": [
      "Stable gens: 100%|█| 100/100 [09:16<00:00,  5.57s/it, #=14, loss=0.000653, size=\n"
     ]
    },
    {
     "name": "stdout",
     "output_type": "stream",
     "text": [
      "Done in 00:24:00. After 259 generations.\n",
      "Best found generator:\n",
      "\t(MAX \n",
      " (/ 0.9047152684660515 1) \n",
      " (== \n",
      "  (ABS \n",
      "   (- \n",
      "    (< 0.0 0.6706080825327332 $orig 0.8468595267877248) 9)) \n",
      "  (ABS 0.0) \n",
      "  (< \n",
      "   (MIN \n",
      "    (MAX $orig \n",
      "     (MIN $targ_deg $targ_deg)) 0.515474769027155) 4 $orig 4) $orig))\n",
      "\n",
      "========================================\n",
      "\n",
      "🌱 Setting seed to 9\n"
     ]
    },
    {
     "name": "stderr",
     "output_type": "stream",
     "text": [
      "Stable gens: 100%|█| 100/100 [08:23<00:00,  5.03s/it, #=4, loss=0.00199, size=4]"
     ]
    },
    {
     "name": "stdout",
     "output_type": "stream",
     "text": [
      "Done in 00:15:03. After 181 generations.\n",
      "Best found generator:\n",
      "\t(AFF 4 $dist $orig)\n",
      "\n",
      "========================================\n",
      "\n"
     ]
    },
    {
     "name": "stderr",
     "output_type": "stream",
     "text": [
      "\n"
     ]
    }
   ],
   "source": [
    "experiments = []\n",
    "\n",
    "for flnm, path in zip(nets_files, nets_paths): # for each network of the experiment\n",
    "\n",
    "    # load the network\n",
    "    #net = comprehensive_load_net(path, args[\"directed\"])\n",
    "    exp = flnm.split(\".\")[0]\n",
    "    experiments += [exp]\n",
    "    \n",
    "    output_exp = args[\"output_path\"]+\"{exp_name}\".format(exp_name=exp)\n",
    "    \n",
    "    exp_args = {\n",
    "        \"inet\":path,\n",
    "        \"odir\":output_exp,\n",
    "        \"undir\": not args[\"directed\"],\n",
    "        \"gens\":100,#DEFAULT_GENERATIONS,\n",
    "        \"sr\":DEFAULT_SAMPLE_RATE,\n",
    "        \"tolerance\":DEFAULT_TOLERANCE,\n",
    "        \"gentype\":DEFAULT_GEN_TYPE,\n",
    "        # deep here \n",
    "        \"model_path\":'./DL_module/saved/best_models/PGCL/',\n",
    "        \"dist_type\":'euclidean',\n",
    "    }\n",
    "    \n",
    "    # --> multi runs\n",
    "    \n",
    "    multievo = MutliEvolve(\"multievo\")\n",
    "    \n",
    "\n",
    "    # 🏃 run experiments\n",
    "    multievo.run(\n",
    "        args = exp_args,\n",
    "        n_reps = args[\"n_rep\"],\n",
    "        n_processes = args[\"n_processes\"],\n",
    "        og_seed = _OG_SEED, \n",
    "        do_parallel = args[\"do_parallel\"],\n",
    "        #old_netfile = oldfile,\n",
    "    )"
   ]
  },
  {
   "cell_type": "code",
   "execution_count": null,
   "id": "de9a1d6a-efbe-446e-94e2-7c18c8c6252a",
   "metadata": {},
   "outputs": [],
   "source": []
  },
  {
   "cell_type": "code",
   "execution_count": null,
   "id": "8d3e5be3-ae03-4143-9668-b99fe4985926",
   "metadata": {},
   "outputs": [],
   "source": []
  },
  {
   "cell_type": "code",
   "execution_count": null,
   "id": "ab92c3d0-e589-4515-aa53-12ec460489b2",
   "metadata": {},
   "outputs": [],
   "source": []
  },
  {
   "cell_type": "markdown",
   "id": "281f2f2c-27b7-4b9d-b30f-b2c253972fee",
   "metadata": {},
   "source": [
    "---"
   ]
  },
  {
   "cell_type": "code",
   "execution_count": 46,
   "id": "525fbe2c-e7b1-475b-aa2c-f368716681ed",
   "metadata": {},
   "outputs": [],
   "source": [
    "#deep_exp_args = {\n",
    "#    \"model_path\":'./DL_module/saved/best_models/GraphMAE_GCNversion_o64/',\n",
    "#    'dist_type':'euclidean',\n",
    "#}\n",
    "\n",
    "args = {\n",
    "    'data_path': 'space_seg/data/data_v2/v300_e3020/',#'space_seg/data/data_v2/v100_e552/',\n",
    "    'data_folder': 'ID',\n",
    "    'output_path': 'data/repro_degs_large/ID/',\n",
    "    'directed': False,\n",
    "    'n_rep': 10,\n",
    "    'do_parallel': False,\n",
    "    'n_processes': 1  \n",
    "}"
   ]
  },
  {
   "cell_type": "code",
   "execution_count": 47,
   "id": "a6b2a3c8-f007-4cec-8b25-6cb9b346b507",
   "metadata": {},
   "outputs": [
    {
     "name": "stdout",
     "output_type": "stream",
     "text": [
      "['space_seg/data/data_v2/v300_e3020/ID/id_1.pickle', 'space_seg/data/data_v2/v300_e3020/ID/id_2.pickle', 'space_seg/data/data_v2/v300_e3020/ID/id_3.pickle']\n"
     ]
    }
   ],
   "source": [
    "make_folder(args[\"output_path\"])\n",
    "\n",
    "nets_files = [\"id_{}.pickle\".format(i+1) \n",
    "              for i in range(3)\n",
    "             ]\n",
    "nets_paths = [args[\"data_path\"]+args[\"data_folder\"]+\"/\"+f for f in nets_files]\n",
    "print(nets_paths)\n",
    "\n",
    "output_exp = args[\"output_path\"]+\"{exp_name}\""
   ]
  },
  {
   "cell_type": "code",
   "execution_count": 48,
   "id": "7ca5a7b3-e8de-4429-a35e-ffd55c70e1fd",
   "metadata": {},
   "outputs": [
    {
     "name": "stdout",
     "output_type": "stream",
     "text": [
      "🌱 Setting seed to 0\n",
      "Initialising distance metric...\n",
      "🌱 Setting seed to 0\n"
     ]
    },
    {
     "name": "stderr",
     "output_type": "stream",
     "text": [
      "Stable gens: 100%|██████| 100/100 [07:46<00:00,  4.67s/it, #=6, loss=23, size=1]\n"
     ]
    },
    {
     "name": "stdout",
     "output_type": "stream",
     "text": [
      "Done in 00:15:19. After 186 generations.\n",
      "Best found generator:\n",
      "\t$targ_deg\n",
      "\n",
      "========================================\n",
      "\n",
      "🌱 Setting seed to 1\n"
     ]
    },
    {
     "name": "stderr",
     "output_type": "stream",
     "text": [
      "Stable gens: 100%|████| 100/100 [08:35<00:00,  5.16s/it, #=7, loss=20.7, size=8]\n"
     ]
    },
    {
     "name": "stdout",
     "output_type": "stream",
     "text": [
      "Done in 00:21:01. After 229 generations.\n",
      "Best found generator:\n",
      "\t(+ \n",
      " (MAX \n",
      "  (* \n",
      "   (LOG $orig_deg) 0.8087585695894204) $targ_deg) $orig)\n",
      "\n",
      "========================================\n",
      "\n",
      "🌱 Setting seed to 2\n"
     ]
    },
    {
     "name": "stderr",
     "output_type": "stream",
     "text": [
      "Stable gens: 100%|████| 100/100 [08:37<00:00,  5.18s/it, #=7, loss=20.1, size=1]\n"
     ]
    },
    {
     "name": "stdout",
     "output_type": "stream",
     "text": [
      "Done in 00:19:46. After 228 generations.\n",
      "Best found generator:\n",
      "\t$targ\n",
      "\n",
      "========================================\n",
      "\n",
      "🌱 Setting seed to 3\n"
     ]
    },
    {
     "name": "stderr",
     "output_type": "stream",
     "text": [
      "Stable gens: 100%|████| 100/100 [07:49<00:00,  4.69s/it, #=4, loss=22.2, size=1]\n"
     ]
    },
    {
     "name": "stdout",
     "output_type": "stream",
     "text": [
      "Done in 00:08:39. After 110 generations.\n",
      "Best found generator:\n",
      "\t$orig_deg\n",
      "\n",
      "========================================\n",
      "\n",
      "🌱 Setting seed to 4\n"
     ]
    },
    {
     "name": "stderr",
     "output_type": "stream",
     "text": [
      "Stable gens: 100%|███| 100/100 [10:11<00:00,  6.11s/it, #=6, loss=21.3, size=23]\n"
     ]
    },
    {
     "name": "stdout",
     "output_type": "stream",
     "text": [
      "Done in 00:19:03. After 190 generations.\n",
      "Best found generator:\n",
      "\t(== 8 \n",
      " (< \n",
      "  (/ $orig $orig) 0.0 0.027327012460956257 0.6703324517407693) $dist \n",
      " (MAX $orig \n",
      "  (AFF \n",
      "   (== $dist $dist $orig_deg 0.7994057077022197) \n",
      "   (ZER 3 0.0 $targ) 0.27336009165762)))\n",
      "\n",
      "========================================\n",
      "\n",
      "🌱 Setting seed to 5\n"
     ]
    },
    {
     "name": "stderr",
     "output_type": "stream",
     "text": [
      "Stable gens: 100%|██| 100/100 [09:29<00:00,  5.70s/it, #=12, loss=19.3, size=16]\n"
     ]
    },
    {
     "name": "stdout",
     "output_type": "stream",
     "text": [
      "Done in 00:42:28. After 456 generations.\n",
      "Best found generator:\n",
      "\t(== \n",
      " (AFF \n",
      "  (ABS $orig_deg) \n",
      "  (+ $targ_deg 0.0) \n",
      "  (* 0.5448926453543632 $orig_deg)) $orig \n",
      " (ZER $dist 0.6887866188273145 0.9044528093154133) $orig)\n",
      "\n",
      "========================================\n",
      "\n",
      "🌱 Setting seed to 6\n"
     ]
    },
    {
     "name": "stderr",
     "output_type": "stream",
     "text": [
      "Stable gens: 100%|███| 100/100 [08:23<00:00,  5.03s/it, #=7, loss=18.5, size=10]\n"
     ]
    },
    {
     "name": "stdout",
     "output_type": "stream",
     "text": [
      "Done in 00:21:55. After 262 generations.\n",
      "Best found generator:\n",
      "\t(ZER \n",
      " (+ 0 $dist) \n",
      " (/ $orig_deg 4) \n",
      " (- $orig 7))\n",
      "\n",
      "========================================\n",
      "\n",
      "🌱 Setting seed to 7\n"
     ]
    },
    {
     "name": "stderr",
     "output_type": "stream",
     "text": [
      "Stable gens: 100%|███| 100/100 [09:32<00:00,  5.72s/it, #=7, loss=19.9, size=13]\n"
     ]
    },
    {
     "name": "stdout",
     "output_type": "stream",
     "text": [
      "Done in 00:28:03. After 307 generations.\n",
      "Best found generator:\n",
      "\t(ZER \n",
      " (/ \n",
      "  (EXP $targ_deg) $orig) 9 \n",
      " (MAX \n",
      "  (* 0.1772412858429997 $orig_deg) \n",
      "  (MIN 0.8504072469484404 $orig_deg)))\n",
      "\n",
      "========================================\n",
      "\n",
      "🌱 Setting seed to 8\n"
     ]
    },
    {
     "name": "stderr",
     "output_type": "stream",
     "text": [
      "Stable gens: 100%|██| 100/100 [08:44<00:00,  5.24s/it, #=10, loss=19.9, size=10]\n"
     ]
    },
    {
     "name": "stdout",
     "output_type": "stream",
     "text": [
      "Done in 00:12:29. After 142 generations.\n",
      "Best found generator:\n",
      "\t(MAX \n",
      " (+ \n",
      "  (ABS $orig_deg) \n",
      "  (- $orig $orig_deg)) \n",
      " (- 7 4))\n",
      "\n",
      "========================================\n",
      "\n",
      "🌱 Setting seed to 9\n"
     ]
    },
    {
     "name": "stderr",
     "output_type": "stream",
     "text": [
      "Stable gens: 100%|████| 100/100 [07:52<00:00,  4.73s/it, #=7, loss=21.2, size=1]\n"
     ]
    },
    {
     "name": "stdout",
     "output_type": "stream",
     "text": [
      "Done in 00:14:09. After 180 generations.\n",
      "Best found generator:\n",
      "\t$orig\n",
      "\n",
      "========================================\n",
      "\n",
      "🌱 Setting seed to 0\n",
      "Initialising distance metric...\n",
      "🌱 Setting seed to 0\n"
     ]
    },
    {
     "name": "stderr",
     "output_type": "stream",
     "text": [
      "Stable gens: 100%|████| 100/100 [08:07<00:00,  4.88s/it, #=8, loss=19.3, size=1]\n"
     ]
    },
    {
     "name": "stdout",
     "output_type": "stream",
     "text": [
      "Done in 00:37:52. After 452 generations.\n",
      "Best found generator:\n",
      "\t$orig\n",
      "\n",
      "========================================\n",
      "\n",
      "🌱 Setting seed to 1\n"
     ]
    },
    {
     "name": "stderr",
     "output_type": "stream",
     "text": [
      "Stable gens: 100%|███| 100/100 [08:00<00:00,  4.80s/it, #=10, loss=19.3, size=1]\n"
     ]
    },
    {
     "name": "stdout",
     "output_type": "stream",
     "text": [
      "Done in 00:31:46. After 392 generations.\n",
      "Best found generator:\n",
      "\t$targ\n",
      "\n",
      "========================================\n",
      "\n",
      "🌱 Setting seed to 2\n"
     ]
    },
    {
     "name": "stderr",
     "output_type": "stream",
     "text": [
      "Stable gens: 100%|███| 100/100 [08:48<00:00,  5.28s/it, #=8, loss=15.8, size=16]\n"
     ]
    },
    {
     "name": "stdout",
     "output_type": "stream",
     "text": [
      "Done in 00:45:52. After 560 generations.\n",
      "Best found generator:\n",
      "\t(< \n",
      " (^ \n",
      "  (MAX $orig $orig_deg) 0.0) 2 $orig \n",
      " (MIN \n",
      "  (- $orig $orig_deg) \n",
      "  (AFF 0.7225026258283821 $orig $targ)))\n",
      "\n",
      "========================================\n",
      "\n",
      "🌱 Setting seed to 3\n"
     ]
    },
    {
     "name": "stderr",
     "output_type": "stream",
     "text": [
      "Stable gens: 100%|████| 100/100 [07:42<00:00,  4.63s/it, #=7, loss=18.3, size=1]\n"
     ]
    },
    {
     "name": "stdout",
     "output_type": "stream",
     "text": [
      "Done in 00:20:03. After 257 generations.\n",
      "Best found generator:\n",
      "\t$orig\n",
      "\n",
      "========================================\n",
      "\n",
      "🌱 Setting seed to 4\n"
     ]
    },
    {
     "name": "stderr",
     "output_type": "stream",
     "text": [
      "Stable gens: 100%|████| 100/100 [07:55<00:00,  4.76s/it, #=6, loss=19.5, size=5]\n"
     ]
    },
    {
     "name": "stdout",
     "output_type": "stream",
     "text": [
      "Done in 00:11:58. After 148 generations.\n",
      "Best found generator:\n",
      "\t(+ \n",
      " (^ $targ_deg 0.42950886938458) $targ)\n",
      "\n",
      "========================================\n",
      "\n",
      "🌱 Setting seed to 5\n"
     ]
    },
    {
     "name": "stderr",
     "output_type": "stream",
     "text": [
      "Stable gens: 100%|████| 100/100 [07:59<00:00,  4.80s/it, #=7, loss=18.4, size=1]\n"
     ]
    },
    {
     "name": "stdout",
     "output_type": "stream",
     "text": [
      "Done in 00:13:55. After 172 generations.\n",
      "Best found generator:\n",
      "\t$orig\n",
      "\n",
      "========================================\n",
      "\n",
      "🌱 Setting seed to 6\n"
     ]
    },
    {
     "name": "stderr",
     "output_type": "stream",
     "text": [
      "Stable gens: 100%|███| 100/100 [08:40<00:00,  5.20s/it, #=4, loss=18.9, size=12]\n"
     ]
    },
    {
     "name": "stdout",
     "output_type": "stream",
     "text": [
      "Done in 00:12:09. After 143 generations.\n",
      "Best found generator:\n",
      "\t(ZER \n",
      " (== $orig_deg 7 $dist $targ) \n",
      " (MAX $targ_deg 4) \n",
      " (+ $orig_deg $targ))\n",
      "\n",
      "========================================\n",
      "\n",
      "🌱 Setting seed to 7\n"
     ]
    },
    {
     "name": "stderr",
     "output_type": "stream",
     "text": [
      "Stable gens: 100%|████| 100/100 [07:56<00:00,  4.77s/it, #=9, loss=18.5, size=1]\n"
     ]
    },
    {
     "name": "stdout",
     "output_type": "stream",
     "text": [
      "Done in 00:26:56. After 346 generations.\n",
      "Best found generator:\n",
      "\t$targ\n",
      "\n",
      "========================================\n",
      "\n",
      "🌱 Setting seed to 8\n"
     ]
    },
    {
     "name": "stderr",
     "output_type": "stream",
     "text": [
      "Stable gens: 100%|████| 100/100 [07:52<00:00,  4.73s/it, #=6, loss=19.7, size=1]\n"
     ]
    },
    {
     "name": "stdout",
     "output_type": "stream",
     "text": [
      "Done in 00:16:56. After 213 generations.\n",
      "Best found generator:\n",
      "\t$targ\n",
      "\n",
      "========================================\n",
      "\n",
      "🌱 Setting seed to 9\n"
     ]
    },
    {
     "name": "stderr",
     "output_type": "stream",
     "text": [
      "Stable gens: 100%|████| 100/100 [07:46<00:00,  4.66s/it, #=5, loss=19.9, size=1]\n"
     ]
    },
    {
     "name": "stdout",
     "output_type": "stream",
     "text": [
      "Done in 00:15:33. After 197 generations.\n",
      "Best found generator:\n",
      "\t$orig\n",
      "\n",
      "========================================\n",
      "\n",
      "🌱 Setting seed to 0\n",
      "Initialising distance metric...\n",
      "🌱 Setting seed to 0\n"
     ]
    },
    {
     "name": "stderr",
     "output_type": "stream",
     "text": [
      "Stable gens: 100%|███| 100/100 [09:00<00:00,  5.41s/it, #=5, loss=14.2, size=16]\n"
     ]
    },
    {
     "name": "stdout",
     "output_type": "stream",
     "text": [
      "Done in 00:30:16. After 328 generations.\n",
      "Best found generator:\n",
      "\t(ABS \n",
      " (MAX \n",
      "  (+ $targ 0.7629285077348703) \n",
      "  (/ \n",
      "   (MAX \n",
      "    (== $targ_deg $orig $dist $dist) \n",
      "    (* 0.12647752646906518 0.3699775488669744)) 6)))\n",
      "\n",
      "========================================\n",
      "\n",
      "🌱 Setting seed to 1\n"
     ]
    },
    {
     "name": "stderr",
     "output_type": "stream",
     "text": [
      "Stable gens: 100%|████| 100/100 [07:57<00:00,  4.78s/it, #=6, loss=16.2, size=1]\n"
     ]
    },
    {
     "name": "stdout",
     "output_type": "stream",
     "text": [
      "Done in 00:11:31. After 143 generations.\n",
      "Best found generator:\n",
      "\t$orig\n",
      "\n",
      "========================================\n",
      "\n",
      "🌱 Setting seed to 2\n"
     ]
    },
    {
     "name": "stderr",
     "output_type": "stream",
     "text": [
      "Stable gens: 100%|████| 100/100 [07:47<00:00,  4.68s/it, #=2, loss=15.7, size=1]\n"
     ]
    },
    {
     "name": "stdout",
     "output_type": "stream",
     "text": [
      "Done in 00:12:38. After 160 generations.\n",
      "Best found generator:\n",
      "\t$targ\n",
      "\n",
      "========================================\n",
      "\n",
      "🌱 Setting seed to 3\n"
     ]
    },
    {
     "name": "stderr",
     "output_type": "stream",
     "text": [
      "Stable gens: 100%|████| 100/100 [08:05<00:00,  4.85s/it, #=2, loss=14.7, size=4]\n"
     ]
    },
    {
     "name": "stdout",
     "output_type": "stream",
     "text": [
      "Done in 00:14:37. After 181 generations.\n",
      "Best found generator:\n",
      "\t(+ $orig_deg \n",
      " (ABS $orig))\n",
      "\n",
      "========================================\n",
      "\n",
      "🌱 Setting seed to 4\n"
     ]
    },
    {
     "name": "stderr",
     "output_type": "stream",
     "text": [
      "Stable gens: 100%|███| 100/100 [07:54<00:00,  4.75s/it, #=12, loss=17.3, size=1]\n"
     ]
    },
    {
     "name": "stdout",
     "output_type": "stream",
     "text": [
      "Done in 00:24:16. After 312 generations.\n",
      "Best found generator:\n",
      "\t$orig\n",
      "\n",
      "========================================\n",
      "\n",
      "🌱 Setting seed to 5\n"
     ]
    },
    {
     "name": "stderr",
     "output_type": "stream",
     "text": [
      "Stable gens: 100%|████| 100/100 [08:29<00:00,  5.10s/it, #=14, loss=17, size=11]\n"
     ]
    },
    {
     "name": "stdout",
     "output_type": "stream",
     "text": [
      "Done in 00:42:57. After 487 generations.\n",
      "Best found generator:\n",
      "\t(ABS \n",
      " (> $targ 0.12190721111411063 \n",
      "  (ABS $targ) \n",
      "  (> 4 0.39348300553426596 $dist 1)))\n",
      "\n",
      "========================================\n",
      "\n",
      "🌱 Setting seed to 6\n"
     ]
    },
    {
     "name": "stderr",
     "output_type": "stream",
     "text": [
      "Stable gens: 100%|████| 100/100 [07:57<00:00,  4.78s/it, #=2, loss=13.9, size=1]\n"
     ]
    },
    {
     "name": "stdout",
     "output_type": "stream",
     "text": [
      "Done in 00:08:11. After 103 generations.\n",
      "Best found generator:\n",
      "\t$orig\n",
      "\n",
      "========================================\n",
      "\n",
      "🌱 Setting seed to 7\n"
     ]
    },
    {
     "name": "stderr",
     "output_type": "stream",
     "text": [
      "Stable gens: 100%|██████| 100/100 [07:45<00:00,  4.66s/it, #=6, loss=16, size=6]\n"
     ]
    },
    {
     "name": "stdout",
     "output_type": "stream",
     "text": [
      "Done in 00:19:43. After 241 generations.\n",
      "Best found generator:\n",
      "\t(LOG \n",
      " (== $targ_deg $orig $orig_deg $targ_deg))\n",
      "\n",
      "========================================\n",
      "\n",
      "🌱 Setting seed to 8\n"
     ]
    },
    {
     "name": "stderr",
     "output_type": "stream",
     "text": [
      "Stable gens: 100%|███| 100/100 [09:15<00:00,  5.56s/it, #=3, loss=17.7, size=17]\n"
     ]
    },
    {
     "name": "stdout",
     "output_type": "stream",
     "text": [
      "Done in 00:09:35. After 104 generations.\n",
      "Best found generator:\n",
      "\t(MAX \n",
      " (* $targ 0.41797584456034786) \n",
      " (== \n",
      "  (ABS \n",
      "   (- 7 $dist)) \n",
      "  (ABS 0.0) \n",
      "  (EXP \n",
      "   (AFF 5 8 $orig_deg)) $orig))\n",
      "\n",
      "========================================\n",
      "\n",
      "🌱 Setting seed to 9\n"
     ]
    },
    {
     "name": "stderr",
     "output_type": "stream",
     "text": [
      "Stable gens: 100%|████| 100/100 [08:12<00:00,  4.93s/it, #=3, loss=18.9, size=1]"
     ]
    },
    {
     "name": "stdout",
     "output_type": "stream",
     "text": [
      "Done in 00:14:24. After 176 generations.\n",
      "Best found generator:\n",
      "\t$orig\n",
      "\n",
      "========================================\n",
      "\n"
     ]
    },
    {
     "name": "stderr",
     "output_type": "stream",
     "text": [
      "\n"
     ]
    }
   ],
   "source": [
    "experiments = []\n",
    "\n",
    "for flnm, path in zip(nets_files, nets_paths): # for each network of the experiment\n",
    "\n",
    "    # load the network\n",
    "    #net = comprehensive_load_net(path, args[\"directed\"])\n",
    "    exp = flnm.split(\".\")[0]\n",
    "    experiments += [exp]\n",
    "    \n",
    "    output_exp = args[\"output_path\"]+\"{exp_name}\".format(exp_name=exp)\n",
    "    \n",
    "    exp_args = {\n",
    "        \"inet\":path,\n",
    "        \"odir\":output_exp,\n",
    "        \"undir\": not args[\"directed\"],\n",
    "        \"gens\":100,#DEFAULT_GENERATIONS,\n",
    "        \"sr\":DEFAULT_SAMPLE_RATE,\n",
    "        \"tolerance\":DEFAULT_TOLERANCE,\n",
    "        \"gentype\":DEFAULT_GEN_TYPE,\n",
    "        # deep here \n",
    "        \"model_path\":'./DL_module/saved/best_models/trad_degs/',\n",
    "        \"dist_type\":'euclidean',\n",
    "    }\n",
    "    \n",
    "    # --> multi runs\n",
    "    \n",
    "    multievo = MutliEvolve(\"multievo\")\n",
    "    \n",
    "\n",
    "    # 🏃 run experiments\n",
    "    multievo.run(\n",
    "        args = exp_args,\n",
    "        n_reps = args[\"n_rep\"],\n",
    "        n_processes = args[\"n_processes\"],\n",
    "        og_seed = _OG_SEED, \n",
    "        do_parallel = args[\"do_parallel\"],\n",
    "        #old_netfile = oldfile,\n",
    "    )"
   ]
  },
  {
   "cell_type": "code",
   "execution_count": null,
   "id": "c2729774-fd5f-449f-a08f-0eda3a60b5b2",
   "metadata": {},
   "outputs": [],
   "source": []
  },
  {
   "cell_type": "code",
   "execution_count": null,
   "id": "8dde72b6-d491-4f57-bfa2-7891f4c6a1d0",
   "metadata": {},
   "outputs": [],
   "source": []
  },
  {
   "cell_type": "code",
   "execution_count": null,
   "id": "6f79010c-1b2a-4afe-8e67-c1fd54f3352e",
   "metadata": {},
   "outputs": [],
   "source": []
  },
  {
   "cell_type": "code",
   "execution_count": null,
   "id": "6043e42a-3a30-439d-8736-39a0e1d704e3",
   "metadata": {},
   "outputs": [],
   "source": []
  },
  {
   "cell_type": "markdown",
   "id": "0c3ae714-bb18-4fa6-bbcc-a77ecd6093a1",
   "metadata": {},
   "source": [
    "---"
   ]
  },
  {
   "cell_type": "code",
   "execution_count": null,
   "id": "6c7f9fa8-ffe9-4b28-8a02-9e94f54e343f",
   "metadata": {},
   "outputs": [],
   "source": []
  },
  {
   "cell_type": "code",
   "execution_count": null,
   "id": "7c358325-4b1c-4a79-99ba-f2f9b0c06ac3",
   "metadata": {},
   "outputs": [],
   "source": []
  },
  {
   "cell_type": "markdown",
   "id": "5a7d77e8-6440-4691-8c52-7100bf007bdf",
   "metadata": {},
   "source": [
    "## Trad-method (2014)"
   ]
  },
  {
   "cell_type": "code",
   "execution_count": 55,
   "id": "52bab0d7-3690-4628-8aba-3e27fa15fe74",
   "metadata": {},
   "outputs": [],
   "source": [
    "#deep_exp_args = {\n",
    "#    \"model_path\":'./DL_module/saved/best_models/GraphMAE_GCNversion_o64/',\n",
    "#    'dist_type':'euclidean',\n",
    "#}\n",
    "\n",
    "args = {\n",
    "    'data_path': 'space_seg/data/data_v2/v300_e3020/',#'space_seg/data/data_v2/v100_e552/',\n",
    "    'data_folder': 'ER',\n",
    "    'output_path': 'data/repro_trad_large/ER/',\n",
    "    'directed': False,\n",
    "    'n_rep': 10,\n",
    "    'do_parallel': True,\n",
    "    'n_processes': 2, \n",
    "}"
   ]
  },
  {
   "cell_type": "code",
   "execution_count": 56,
   "id": "e23dfbc7-fbe5-4bf7-857b-1e714b3d2918",
   "metadata": {},
   "outputs": [
    {
     "name": "stdout",
     "output_type": "stream",
     "text": [
      "['space_seg/data/data_v2/v300_e3020/ER/c1_1.pickle', 'space_seg/data/data_v2/v300_e3020/ER/c1_2.pickle', 'space_seg/data/data_v2/v300_e3020/ER/c1_3.pickle']\n"
     ]
    }
   ],
   "source": [
    "make_folder(args[\"output_path\"])\n",
    "\n",
    "nets_files = [\"c1_{}.pickle\".format(i+1) \n",
    "              for i in range(3)\n",
    "             ]\n",
    "nets_paths = [args[\"data_path\"]+args[\"data_folder\"]+\"/\"+f for f in nets_files]\n",
    "print(nets_paths)\n",
    "\n",
    "output_exp = args[\"output_path\"]+\"{exp_name}\""
   ]
  },
  {
   "cell_type": "code",
   "execution_count": null,
   "id": "a30bdce3-5d4f-48a5-a814-b0e384d2df7b",
   "metadata": {},
   "outputs": [
    {
     "name": "stdout",
     "output_type": "stream",
     "text": [
      "🌱 Setting seed to 0\n",
      "Initialising distance metric...\n"
     ]
    },
    {
     "name": "stderr",
     "output_type": "stream",
     "text": [
      "  0% (0 of 1000) |                       | Elapsed Time: 0:00:00 ETA:  --:--:--"
     ]
    },
    {
     "name": "stdout",
     "output_type": "stream",
     "text": [
      "computing normalization samples...\n"
     ]
    },
    {
     "name": "stderr",
     "output_type": "stream",
     "text": [
      "100% (1000 of 1000) |####################| Elapsed Time: 0:49:14 Time:  0:49:14\n"
     ]
    },
    {
     "name": "stdout",
     "output_type": "stream",
     "text": [
      "2954.07s\n",
      "🌱 Setting seed to 0\n",
      "🌱 Setting seed to 2\n"
     ]
    },
    {
     "name": "stderr",
     "output_type": "stream",
     "text": [
      "Stable gens:   6%|▌         | 6/100 [00:45<11:40,  7.46s/it, #=4, loss=0.726, size=1]/Users/nmm/Desktop/CMB_CSS_PDM/main_project/synthetic/generator.py:184: RuntimeWarning: overflow encountered in double_scalars\n",
      "  total_weight += weight\n",
      "/Users/nmm/Desktop/CMB_CSS_PDM/main_project/synthetic/generator.py:196: RuntimeWarning: overflow encountered in double_scalars\n",
      "  total_weight += self.sample_weights[i]\n",
      "Stable gens:  37%|███▋      | 37/100 [05:05<08:15,  7.87s/it, #=1, loss=0.548, size=8]/Users/nmm/Desktop/CMB_CSS_PDM/main_project/synthetic/generator.py:196: RuntimeWarning: overflow encountered in double_scalars\n",
      "  total_weight += self.sample_weights[i]\n",
      "/Users/nmm/Desktop/CMB_CSS_PDM/main_project/synthetic/generator.py:184: RuntimeWarning: overflow encountered in double_scalars\n",
      "  total_weight += weight\n",
      "Stable gens:  74%|███████▍  | 74/100 [09:36<03:19,  7.66s/it, #=5, loss=0.532, size=1]/Users/nmm/Desktop/CMB_CSS_PDM/main_project/synthetic/prog.py:384: RuntimeWarning: overflow encountered in double_scalars\n",
      "  val = curnode.params[0].curval * curnode.params[1].curval\n",
      "Stable gens: 100%|██████████| 100/100 [13:32<00:00,  8.13s/it, #=1, loss=0.548, size=8]\n",
      "Stable gens:  86%|████████▌ | 86/100 [11:03<01:41,  7.25s/it, #=5, loss=0.532, size=1]"
     ]
    },
    {
     "name": "stdout",
     "output_type": "stream",
     "text": [
      "Done in 00:15:33. After 114 generations.\n",
      "Best found generator:\n",
      "\t(MIN \n",
      " (EXP 0.11995054259638982) \n",
      " (== $targ_deg 0.11619331759609963 $dist $targ))\n",
      "\n",
      "========================================\n",
      "\n",
      "🌱 Setting seed to 3\n"
     ]
    },
    {
     "name": "stderr",
     "output_type": "stream",
     "text": [
      "Stable gens: 100%|██████████| 100/100 [12:52<00:00,  7.73s/it, #=5, loss=0.532, size=1]\n",
      "Stable gens:   9%|▉         | 9/100 [01:19<14:33,  9.60s/it, #=1, loss=0.8, size=2]"
     ]
    },
    {
     "name": "stdout",
     "output_type": "stream",
     "text": [
      "Done in 00:17:29. After 134 generations.\n",
      "Best found generator:\n",
      "\t1\n",
      "\n",
      "========================================\n",
      "\n",
      "🌱 Setting seed to 1\n"
     ]
    },
    {
     "name": "stderr",
     "output_type": "stream",
     "text": [
      "Stable gens: 100%|██████████| 100/100 [12:54<00:00,  7.74s/it, #=4, loss=0.579, size=1]\n",
      "Stable gens:   6%|▌         | 6/100 [00:43<11:19,  7.23s/it, #=3, loss=0.667, size=1]"
     ]
    },
    {
     "name": "stdout",
     "output_type": "stream",
     "text": [
      "Done in 00:14:59. After 116 generations.\n",
      "Best found generator:\n",
      "\t0.9032154078663401\n",
      "\n",
      "========================================\n",
      "\n",
      "🌱 Setting seed to 4\n"
     ]
    },
    {
     "name": "stderr",
     "output_type": "stream",
     "text": [
      "Stable gens: 100%|██████████| 100/100 [13:23<00:00,  8.04s/it, #=4, loss=0.612, size=1]\n",
      "Stable gens:  78%|███████▊  | 78/100 [10:29<02:52,  7.86s/it, #=3, loss=0.638, size=1]"
     ]
    },
    {
     "name": "stdout",
     "output_type": "stream",
     "text": [
      "Done in 00:31:27. After 234 generations.\n",
      "Best found generator:\n",
      "\t0.7523095348360808\n",
      "\n",
      "========================================\n",
      "\n",
      "🌱 Setting seed to 6\n"
     ]
    },
    {
     "name": "stderr",
     "output_type": "stream",
     "text": [
      "Stable gens: 100%|██████████| 100/100 [13:15<00:00,  7.95s/it, #=3, loss=0.638, size=1]\n",
      "Stable gens:  10%|█         | 10/100 [01:17<11:39,  7.77s/it, #=6, loss=0.661, size=1]"
     ]
    },
    {
     "name": "stdout",
     "output_type": "stream",
     "text": [
      "Done in 00:17:09. After 127 generations.\n",
      "Best found generator:\n",
      "\t0.6249308440640977\n",
      "\n",
      "========================================\n",
      "\n",
      "🌱 Setting seed to 5\n"
     ]
    },
    {
     "name": "stderr",
     "output_type": "stream",
     "text": [
      "Stable gens:  26%|██▌       | 26/100 [03:31<09:57,  8.08s/it, #=3, loss=0.59, size=1]]/Users/nmm/Desktop/CMB_CSS_PDM/main_project/synthetic/prog.py:384: RuntimeWarning: overflow encountered in double_scalars\n",
      "  val = curnode.params[0].curval * curnode.params[1].curval\n",
      "Stable gens: 100%|██████████| 100/100 [13:33<00:00,  8.13s/it, #=3, loss=0.59, size=1]\n",
      "Stable gens:  32%|███▏      | 32/100 [04:28<09:43,  8.59s/it, #=6, loss=0.661, size=1]"
     ]
    },
    {
     "name": "stdout",
     "output_type": "stream",
     "text": [
      "Done in 00:15:35. After 116 generations.\n",
      "Best found generator:\n",
      "\t5\n",
      "\n",
      "========================================\n",
      "\n",
      "🌱 Setting seed to 8\n"
     ]
    },
    {
     "name": "stderr",
     "output_type": "stream",
     "text": [
      "Stable gens:  48%|████▊     | 48/100 [06:44<07:08,  8.25s/it, #=6, loss=0.661, size=1]"
     ]
    }
   ],
   "source": [
    "experiments = []\n",
    "\n",
    "for flnm, path in zip(nets_files, nets_paths): # for each network of the experiment\n",
    "\n",
    "    # load the network\n",
    "    #net = comprehensive_load_net(path, args[\"directed\"])\n",
    "    exp = flnm.split(\".\")[0]\n",
    "    experiments += [exp]\n",
    "    \n",
    "    output_exp = args[\"output_path\"]+\"{exp_name}\".format(exp_name=exp)\n",
    "    \n",
    "    exp_args = {\n",
    "        \"inet\":path,\n",
    "        \"odir\":output_exp,\n",
    "        \"undir\": not args[\"directed\"],\n",
    "        \"gens\":100,#DEFAULT_GENERATIONS,\n",
    "        \"sr\":DEFAULT_SAMPLE_RATE,\n",
    "        \"tolerance\":DEFAULT_TOLERANCE,\n",
    "        \"gentype\":DEFAULT_GEN_TYPE,\n",
    "        ## trad here\n",
    "        \n",
    "        \"bins\":DEFAULT_BINS,\n",
    "        \"maxdist\":DEFAULT_MAX_DIST,\n",
    "        \"rw\":True,\n",
    "        \n",
    "        ## deep here \n",
    "        \n",
    "        #\"model_path\":'./DL_module/saved/best_models/GraphMAE_GCNversion_o64/',\n",
    "        #\"dist_type\":'euclidean',\n",
    "        \n",
    "    }\n",
    "    \n",
    "    # --> multi runs\n",
    "    \n",
    "    multievo = MutliEvolve(\"multievo\")\n",
    "    \n",
    "\n",
    "    # 🏃 run experiments\n",
    "    multievo.run(\n",
    "        args = exp_args,\n",
    "        n_reps = args[\"n_rep\"],\n",
    "        n_processes = args[\"n_processes\"],\n",
    "        og_seed = _OG_SEED, \n",
    "        do_parallel = args[\"do_parallel\"],\n",
    "        #old_netfile = oldfile,\n",
    "    )"
   ]
  },
  {
   "cell_type": "code",
   "execution_count": null,
   "id": "3cbfb853-c15b-4f70-bdc6-6697faf3040a",
   "metadata": {},
   "outputs": [],
   "source": []
  },
  {
   "cell_type": "code",
   "execution_count": null,
   "id": "6bceb1f8-ed32-4e84-9926-5dbc3d7e961c",
   "metadata": {},
   "outputs": [],
   "source": [
    " "
   ]
  },
  {
   "cell_type": "code",
   "execution_count": null,
   "id": "1e91ed3d-d795-4828-b6c8-e71eae6f5d6b",
   "metadata": {},
   "outputs": [],
   "source": []
  },
  {
   "cell_type": "code",
   "execution_count": null,
   "id": "3644fe23-048a-4da2-b330-ec11a38c3710",
   "metadata": {},
   "outputs": [],
   "source": []
  },
  {
   "cell_type": "code",
   "execution_count": 32,
   "id": "6ac3b930-ad9d-456d-a8ea-895cf99f23ca",
   "metadata": {},
   "outputs": [
    {
     "name": "stdout",
     "output_type": "stream",
     "text": [
      "$orig_deg\n"
     ]
    }
   ],
   "source": [
    "found_generators[0].prog.varcount\n",
    "\n",
    "print(found_generators[0].prog)"
   ]
  },
  {
   "cell_type": "markdown",
   "id": "e1a336ad-32f4-4a72-8830-830ed6438eac",
   "metadata": {
    "tags": []
   },
   "source": [
    "# Assess solutions"
   ]
  },
  {
   "cell_type": "code",
   "execution_count": 1,
   "id": "e1f987a2-d45a-413c-b8c4-baaa6f3b246b",
   "metadata": {},
   "outputs": [],
   "source": [
    "from os import listdir\n",
    "from synthetic.generator import load_generator"
   ]
  },
  {
   "cell_type": "markdown",
   "id": "754e2879-b2b6-4f55-a258-645343ff1a6a",
   "metadata": {
    "tags": []
   },
   "source": [
    "## PA"
   ]
  },
  {
   "cell_type": "code",
   "execution_count": 24,
   "id": "c899a535-3ccd-47f9-a29f-b4e7ccfb931a",
   "metadata": {},
   "outputs": [],
   "source": [
    "family = \"PA\"\n",
    "net_name = \"k\"\n",
    "\n",
    "solutions = [\n",
    "    \"$targ_deg\",\n",
    "    \"$orig_deg\",\n",
    "]"
   ]
  },
  {
   "cell_type": "markdown",
   "id": "8610dce3-95f1-45cb-b778-a9cc2a95deda",
   "metadata": {
    "tags": []
   },
   "source": [
    "### - trad2014"
   ]
  },
  {
   "cell_type": "code",
   "execution_count": 35,
   "id": "6487cf23-e679-487a-8739-db46804fd7ad",
   "metadata": {},
   "outputs": [
    {
     "name": "stdout",
     "output_type": "stream",
     "text": [
      "(min) accuracy : 0.5666666666666667 \n",
      "\n",
      "\t 0.2\n",
      ">(LOG \n",
      " (< $targ $targ_deg 0.5630878111618418 $orig_deg))\n",
      ">complex  ...\n",
      ">complex  ...\n",
      ">complex  ...\n",
      ">$orig_deg ✅\n",
      ">complex  ...\n",
      ">complex  ...\n",
      ">complex  ...\n",
      ">complex  ...\n",
      ">$orig_deg ✅\n",
      "\t 0.7\n",
      ">$targ_deg ✅\n",
      ">$orig_deg ✅\n",
      ">complex  ...\n",
      ">(ZER \n",
      " (> 0.8962930889334381 0.0 $targ_deg $targ) 0.13393212979265146 $targ_deg)\n",
      ">$orig_deg ✅\n",
      ">$orig_deg ✅\n",
      ">$orig_deg ✅\n",
      ">$targ_deg ✅\n",
      ">complex  ...\n",
      ">$targ_deg ✅\n",
      "\t 0.8\n",
      ">$targ_deg ✅\n",
      ">$targ_deg ✅\n",
      ">$targ_deg ✅\n",
      ">$orig_deg ✅\n",
      ">$orig_deg ✅\n",
      ">$orig_deg ✅\n",
      ">$orig_deg ✅\n",
      ">complex  ...\n",
      ">complex  ...\n",
      ">$targ_deg ✅\n"
     ]
    }
   ],
   "source": [
    "experiments_name = \"repro_trad\"\n",
    "\n",
    "path_to_assess = \"data/{}/{}/\".format(experiments_name, family)\n",
    "\n",
    "####\n",
    "\n",
    "path_to_load = [\n",
    "    path_to_assess+\"{netname}_{netid}.{expid}\".format(netname=net_name,netid=i+1,expid=j)+'/bestprog.txt'\n",
    "    for i in range(3) for j in range(10) \n",
    "]\n",
    "\n",
    "found_generators = [\n",
    "    load_generator(path, directed=False, gen_type='exo')\n",
    "    for path in path_to_load\n",
    "]\n",
    "\n",
    "valid_generators = [\n",
    "    str(gen.prog) in solutions \n",
    "    for gen in found_generators\n",
    "]\n",
    "\n",
    "print('(min) accuracy : {} \\n'.format(np.sum(valid_generators)/len(valid_generators)))\n",
    "\n",
    "for i in range(3):\n",
    "    print(\"\\t\",np.sum(valid_generators[i*10:(i+1)*10])/10)\n",
    "    \n",
    "    print(\">\"+\"\\n>\".join([str(gen.prog)+\" ✅\"\n",
    "                          if np.any([str(gen.prog)== s for s in solutions])\n",
    "                          else 'complex  ...' if gen.prog.size() > 10\n",
    "                          else str(gen.prog)\n",
    "                          for gen in found_generators[i*10:(i+1)*10]\n",
    "                         ]\n",
    "                        )\n",
    "         )"
   ]
  },
  {
   "cell_type": "markdown",
   "id": "5a973079-ab6b-4a34-ac56-ecb6a844eaa2",
   "metadata": {},
   "source": [
    "### - GraphMAE"
   ]
  },
  {
   "cell_type": "code",
   "execution_count": 32,
   "id": "06c710db-806c-4806-aca0-425bd0434173",
   "metadata": {},
   "outputs": [
    {
     "name": "stdout",
     "output_type": "stream",
     "text": [
      "(min) accuracy : 0.43333333333333335 \n",
      "\t 0.3\n",
      ">complex  ...\n",
      ">complex  ...\n",
      ">complex  ...\n",
      ">complex  ...\n",
      ">complex  ...\n",
      ">$targ_deg ✅\n",
      ">$targ_deg ✅\n",
      ">complex  ...\n",
      ">$targ_deg ✅\n",
      ">(ABS $orig_deg)\n",
      "\t 0.3\n",
      ">$targ_deg ✅\n",
      ">(ABS $orig)\n",
      ">(MIN $targ_deg 6.0)\n",
      ">complex  ...\n",
      ">$orig_deg ✅\n",
      ">$orig_deg ✅\n",
      ">complex  ...\n",
      ">(MAX \n",
      " (* \n",
      "  (MAX 9.0 $orig_deg) \n",
      "  (LOG 0.7684863459081664)) $targ_deg)\n",
      ">complex  ...\n",
      ">complex  ...\n",
      "\t 0.7\n",
      ">complex  ...\n",
      ">$orig_deg ✅\n",
      ">(== 0.0 \n",
      " (LOG \n",
      "  (> 4.0 $orig 0.8955189272493391 $dist)) 1.0 $targ_deg)\n",
      ">$targ_deg ✅\n",
      ">$orig_deg ✅\n",
      ">$targ_deg ✅\n",
      ">$targ_deg ✅\n",
      ">$targ_deg ✅\n",
      ">complex  ...\n",
      ">$targ_deg ✅\n"
     ]
    }
   ],
   "source": [
    "experiments_name = \"repro_GraphMAE\"#\"repro_tests_GraphMAE_GCN64\"\n",
    "\n",
    "path_to_assess = \"data/{}/{}/\".format(experiments_name, family)\n",
    "\n",
    "####\n",
    "\n",
    "path_to_load = [\n",
    "    path_to_assess+\"{netname}_{netid}.{expid}\".format(netname=net_name,netid=i+1,expid=j)+'/bestprog.txt'\n",
    "    for i in range(3) for j in range(10) \n",
    "]\n",
    "\n",
    "found_generators = [\n",
    "    load_generator(path, directed=False, gen_type='exo')\n",
    "    for path in path_to_load\n",
    "]\n",
    "\n",
    "valid_generators = [\n",
    "    np.any([str(gen.prog)== s for s in solutions])\n",
    "    for gen in found_generators\n",
    "]\n",
    "\n",
    "print('(min) accuracy : {} '.format(np.sum(valid_generators)/len(valid_generators)))\n",
    "\n",
    "for i in range(3):\n",
    "    print(\"\\t\",np.sum(valid_generators[i*10:(i+1)*10])/10)\n",
    "    print(\">\"+\"\\n>\".join([str(gen.prog)+\" ✅\"\n",
    "                          if np.any([str(gen.prog)== s for s in solutions])\n",
    "                          else 'complex  ...' if gen.prog.size() > 10\n",
    "                          else str(gen.prog)\n",
    "                          for gen in found_generators[i*10:(i+1)*10]\n",
    "                         ]))"
   ]
  },
  {
   "cell_type": "markdown",
   "id": "b5e4f451-d4d3-4487-89e5-30e44753495e",
   "metadata": {},
   "source": [
    "### -PGCL"
   ]
  },
  {
   "cell_type": "code",
   "execution_count": 11,
   "id": "1bd30abe-9a3f-4184-9b92-098f2c2dd4bc",
   "metadata": {},
   "outputs": [
    {
     "name": "stdout",
     "output_type": "stream",
     "text": [
      "(min) accuracy : 0.36666666666666664 \n",
      "\t 0.3\n",
      ">complex  ...\n",
      ">complex  ...\n",
      ">$targ_deg ✅\n",
      ">$orig_deg ✅\n",
      ">$targ_deg ✅\n",
      ">(< $targ_deg $orig $orig_deg 0.6081904868003982)\n",
      ">complex  ...\n",
      ">(MIN \n",
      " (ABS 6.0) \n",
      " (/ $orig_deg 1.0))\n",
      ">complex  ...\n",
      ">(< $targ 1.0 \n",
      " (- 0.6149328786946264 0.0) $targ_deg)\n",
      "\t 0.3\n",
      ">$orig_deg ✅\n",
      ">$orig_deg ✅\n",
      ">$targ_deg ✅\n",
      ">(AFF 0.5323141661669061 \n",
      " (* $targ_deg \n",
      "  (AFF 0.9725475006899634 4.0 $dist)) $orig_deg)\n",
      ">complex  ...\n",
      ">(* \n",
      " (- $orig_deg 0.0) \n",
      " (* 0.3710584454782444 6.0))\n",
      ">(ZER \n",
      " (ABS 8.0) \n",
      " (MIN 8.0 $dist) \n",
      " (/ $targ_deg 0.32699630745741837))\n",
      ">complex  ...\n",
      ">complex  ...\n",
      ">complex  ...\n",
      "\t 0.5\n",
      ">$targ_deg ✅\n",
      ">$orig_deg ✅\n",
      ">$targ_deg ✅\n",
      ">(+ \n",
      " (* 0.777900970652204 \n",
      "  (- 0.09059686539036582 0.9203397385735443)) $targ_deg)\n",
      ">(* $orig \n",
      " (ABS $orig_deg))\n",
      ">(- \n",
      " (< 3.0 $orig $orig_deg 1.0) \n",
      " (/ $targ_deg $orig))\n",
      ">complex  ...\n",
      ">$orig_deg ✅\n",
      ">$targ_deg ✅\n",
      ">(* \n",
      " (ABS \n",
      "  (ABS $targ_deg)) $targ)\n"
     ]
    }
   ],
   "source": [
    "experiments_name = \"repro_tests_PGCL_default\"\n",
    "\n",
    "path_to_assess = \"data/{}/{}/\".format(experiments_name, family)\n",
    "\n",
    "####\n",
    "\n",
    "path_to_load = [\n",
    "    path_to_assess+\"{netname}_{netid}.{expid}\".format(netname=net_name,netid=i+1,expid=j)+'/bestprog.txt'\n",
    "    for i in range(3) for j in range(10) \n",
    "]\n",
    "\n",
    "found_generators = [\n",
    "    load_generator(path, directed=False, gen_type='exo')\n",
    "    for path in path_to_load\n",
    "]\n",
    "\n",
    "valid_generators = [\n",
    "    np.any([str(gen.prog)== s for s in solutions])\n",
    "    for gen in found_generators\n",
    "]\n",
    "\n",
    "print('(min) accuracy : {} '.format(np.sum(valid_generators)/len(valid_generators)))\n",
    "\n",
    "for i in range(3):\n",
    "    print(\"\\t\",np.sum(valid_generators[i*10:(i+1)*10])/10)\n",
    "    print(\">\"+\"\\n>\".join([str(gen.prog)+\" ✅\"\n",
    "                          if np.any([str(gen.prog)== s for s in solutions])\n",
    "                          else 'complex  ...' if gen.prog.size() > 10\n",
    "                          else str(gen.prog)\n",
    "                          for gen in found_generators[i*10:(i+1)*10]\n",
    "                         ]))"
   ]
  },
  {
   "cell_type": "markdown",
   "id": "f9e2f5c9-9f71-481b-a43b-532d68087a96",
   "metadata": {},
   "source": [
    "### - trad_degs"
   ]
  },
  {
   "cell_type": "code",
   "execution_count": 25,
   "id": "8f3c1c31-6d1e-4596-b9cb-f20a9abce44a",
   "metadata": {},
   "outputs": [
    {
     "name": "stdout",
     "output_type": "stream",
     "text": [
      "(min) accuracy : 0.4666666666666667 \n",
      "\t 0.6\n",
      ">$orig_deg ✅\n",
      ">$targ_deg ✅\n",
      ">$targ_deg ✅\n",
      ">$targ_deg ✅\n",
      ">$targ\n",
      ">$targ\n",
      ">$targ_deg ✅\n",
      ">$orig_deg ✅\n",
      ">$orig\n",
      ">(ABS $orig_deg)\n",
      "\t 0.2\n",
      ">$targ\n",
      ">(MAX \n",
      " (LOG $orig_deg) 0.15222411872152886)\n",
      ">(EXP \n",
      " (* $dist $targ))\n",
      ">$targ_deg ✅\n",
      ">$targ_deg ✅\n",
      ">(LOG \n",
      " (< $targ_deg $dist 0.5517672327874554 $targ_deg))\n",
      ">(/ $targ_deg 0.5824088484514027)\n",
      ">complex  ...\n",
      ">$targ\n",
      ">$targ\n",
      "\t 0.6\n",
      ">$targ_deg ✅\n",
      ">complex  ...\n",
      ">$orig_deg ✅\n",
      ">$orig_deg ✅\n",
      ">$targ_deg ✅\n",
      ">complex  ...\n",
      ">$orig_deg ✅\n",
      ">$targ_deg ✅\n",
      ">complex  ...\n",
      ">complex  ...\n"
     ]
    }
   ],
   "source": [
    "experiments_name = \"repro_degs\"\n",
    "\n",
    "path_to_assess = \"data/{}/{}/\".format(experiments_name, family)\n",
    "\n",
    "####\n",
    "\n",
    "path_to_load = [\n",
    "    path_to_assess+\"{netname}_{netid}.{expid}\".format(netname=net_name,netid=i+1,expid=j)+'/bestprog.txt'\n",
    "    for i in range(3) for j in range(10) \n",
    "]\n",
    "\n",
    "found_generators = [\n",
    "    load_generator(path, directed=False, gen_type='exo')\n",
    "    for path in path_to_load\n",
    "]\n",
    "\n",
    "valid_generators = [\n",
    "    str(gen.prog) in solutions \n",
    "    for gen in found_generators\n",
    "]\n",
    "\n",
    "print('(min) accuracy : {} '.format(np.sum(valid_generators)/len(valid_generators)))\n",
    "\n",
    "for i in range(3):\n",
    "    print(\"\\t\",np.sum(valid_generators[i*10:(i+1)*10])/10)\n",
    "    print(\">\"+\"\\n>\".join([str(gen.prog)+\" ✅\"\n",
    "                          if np.any([str(gen.prog)== s for s in solutions])\n",
    "                          else 'complex  ...' if gen.prog.size() > 10\n",
    "                          else str(gen.prog)\n",
    "                          for gen in found_generators[i*10:(i+1)*10]\n",
    "                         ]))"
   ]
  },
  {
   "cell_type": "markdown",
   "id": "c9c4d39d-f813-4370-b40c-4bc9aed2b76e",
   "metadata": {},
   "source": [
    "## Dist"
   ]
  },
  {
   "cell_type": "code",
   "execution_count": 35,
   "id": "2dd3b9d3-b3b8-4d3c-820e-60f1658373b2",
   "metadata": {},
   "outputs": [],
   "source": [
    "family = \"d\"\n",
    "net_name = \"d\"\n",
    "\n",
    "solutions = [\n",
    "    \"$dist\"\n",
    "]"
   ]
  },
  {
   "cell_type": "markdown",
   "id": "b7e923db-99da-482f-8115-641f5cded7b3",
   "metadata": {},
   "source": [
    "### - trad2014"
   ]
  },
  {
   "cell_type": "code",
   "execution_count": 39,
   "id": "3e4ce77d-b7f0-4287-a439-8b012e6643cb",
   "metadata": {},
   "outputs": [
    {
     "name": "stdout",
     "output_type": "stream",
     "text": [
      "(min) accuracy : 0.4 \n",
      "\n",
      "\t 0.4\n",
      ">complex  ...\n",
      ">$dist ✅\n",
      ">(ABS 0.70451004089427)\n",
      ">(- \n",
      " (LOG \n",
      "  (AFF 0.21831551102524593 $dist 0.10870321858133414)) \n",
      " (LOG \n",
      "  (MAX 0.6415513964577548 $targ_deg)))\n",
      ">(* $dist 0.965884506413521)\n",
      ">complex  ...\n",
      ">$dist ✅\n",
      ">(- $dist $targ_deg)\n",
      ">$dist ✅\n",
      ">$dist ✅\n",
      "\t 0.4\n",
      ">complex  ...\n",
      ">complex  ...\n",
      ">$dist ✅\n",
      ">complex  ...\n",
      ">complex  ...\n",
      ">complex  ...\n",
      ">$dist ✅\n",
      ">0.45703419764528164\n",
      ">$dist ✅\n",
      ">$dist ✅\n",
      "\t 0.4\n",
      ">$dist ✅\n",
      ">(MIN \n",
      " (LOG \n",
      "  (* 0.20006982172071697 $dist)) $orig)\n",
      ">complex  ...\n",
      ">$dist ✅\n",
      ">$dist ✅\n",
      ">complex  ...\n",
      ">(LOG \n",
      " (* 0.1706467438932252 $dist))\n",
      ">(ABS \n",
      " (- 0.6437040272241183 $dist))\n",
      ">complex  ...\n",
      ">$dist ✅\n"
     ]
    }
   ],
   "source": [
    "experiments_name = \"repro_trad\"\n",
    "\n",
    "path_to_assess = \"data/{}/{}/\".format(experiments_name, family)\n",
    "\n",
    "####\n",
    "\n",
    "path_to_load = [\n",
    "    path_to_assess+\"{netname}_{netid}.{expid}\".format(netname=net_name,netid=i+1,expid=j)+'/bestprog.txt'\n",
    "    for i in range(3) for j in range(10) \n",
    "]\n",
    "\n",
    "found_generators = [\n",
    "    load_generator(path, directed=False, gen_type='exo')\n",
    "    for path in path_to_load\n",
    "]\n",
    "\n",
    "valid_generators = [\n",
    "    str(gen.prog) in solutions \n",
    "    for gen in found_generators\n",
    "]\n",
    "\n",
    "print('(min) accuracy : {} \\n'.format(np.sum(valid_generators)/len(valid_generators)))\n",
    "\n",
    "for i in range(3):\n",
    "    print(\"\\t\",np.sum(valid_generators[i*10:(i+1)*10])/10)\n",
    "    \n",
    "    print(\">\"+\"\\n>\".join([str(gen.prog)+\" ✅\"\n",
    "                          if np.any([str(gen.prog)== s for s in solutions])\n",
    "                          else 'complex  ...' if gen.prog.size() > 10\n",
    "                          else str(gen.prog)\n",
    "                          for gen in found_generators[i*10:(i+1)*10]\n",
    "                         ]\n",
    "                        )\n",
    "         )"
   ]
  },
  {
   "cell_type": "markdown",
   "id": "75d1184c-3902-45e9-9131-7e324564f524",
   "metadata": {},
   "source": [
    "### - deep"
   ]
  },
  {
   "cell_type": "code",
   "execution_count": 17,
   "id": "4fae5bfc-4a86-45d2-b966-b62f16380701",
   "metadata": {},
   "outputs": [
    {
     "name": "stdout",
     "output_type": "stream",
     "text": [
      "(min) accuracy : 0.1 \n",
      "\t 0.3\n",
      ">$dist ✅\n",
      ">complex  ...\n",
      ">0.370492631292633\n",
      ">(AFF 0.06923328846930987 $dist $dist)\n",
      ">(- \n",
      " (EXP \n",
      "  (ABS 7.0)) $targ_deg)\n",
      ">(AFF 0.23226442080326992 $dist 0.27416068784018977)\n",
      ">$dist ✅\n",
      ">complex  ...\n",
      ">$dist ✅\n",
      ">complex  ...\n",
      "\t 0.0\n",
      ">(* \n",
      " (ABS 0.48190890267933395) \n",
      " (AFF 0.0 9.0 $targ_deg))\n",
      ">complex  ...\n",
      ">(LOG \n",
      " (/ \n",
      "  (ABS \n",
      "   (ABS $dist)) \n",
      "  (LOG 0.9555181153873274)))\n",
      ">complex  ...\n",
      ">complex  ...\n",
      ">complex  ...\n",
      ">8.0\n",
      ">0.31336274662913266\n",
      ">7.0\n",
      ">0.14471495107819\n",
      "\t 0.0\n",
      ">(^ 9.0 $dist)\n",
      ">complex  ...\n",
      ">(/ 0.6563037191500235 \n",
      " (* $orig_deg $orig_deg))\n",
      ">(EXP $dist)\n",
      ">complex  ...\n",
      ">(^ \n",
      " (AFF $orig $dist $dist) \n",
      " (ABS 9.0))\n",
      ">complex  ...\n",
      ">complex  ...\n",
      ">complex  ...\n",
      ">(EXP $dist)\n"
     ]
    }
   ],
   "source": [
    "experiments_name = \"repro_GraphMAE\"\n",
    "\n",
    "path_to_assess = \"data/{}/{}/\".format(experiments_name, family)\n",
    "\n",
    "####\n",
    "\n",
    "path_to_load = [\n",
    "    path_to_assess+\"{netname}_{netid}.{expid}\".format(netname=net_name,netid=i+1,expid=j)+'/bestprog.txt'\n",
    "    for i in range(3) for j in range(10) \n",
    "]\n",
    "\n",
    "found_generators = [\n",
    "    load_generator(path, directed=False, gen_type='exo')\n",
    "    for path in path_to_load\n",
    "]\n",
    "\n",
    "valid_generators = [\n",
    "    np.any([str(gen.prog)== s for s in solutions])\n",
    "    for gen in found_generators\n",
    "]\n",
    "\n",
    "print('(min) accuracy : {} '.format(np.sum(valid_generators)/len(valid_generators)))\n",
    "\n",
    "for i in range(3):\n",
    "    print(\"\\t\",np.sum(valid_generators[i*10:(i+1)*10])/10)\n",
    "    print(\">\"+\"\\n>\".join([str(gen.prog)+\" ✅\"\n",
    "                          if np.any([str(gen.prog)== s for s in solutions])\n",
    "                          else 'complex  ...' if gen.prog.size() > 10\n",
    "                          else str(gen.prog)\n",
    "                          for gen in found_generators[i*10:(i+1)*10]\n",
    "                         ]))"
   ]
  },
  {
   "cell_type": "markdown",
   "id": "0088e884-66cf-4034-aea6-7c515b67e278",
   "metadata": {},
   "source": [
    "### - PGCL"
   ]
  },
  {
   "cell_type": "code",
   "execution_count": 22,
   "id": "8733e91f-b32f-4888-b5b5-7e331bfa803f",
   "metadata": {},
   "outputs": [
    {
     "name": "stdout",
     "output_type": "stream",
     "text": [
      "(min) accuracy : 0.0 \n",
      "\t 0.0\n",
      ">(EXP $dist)\n",
      ">(> $targ $orig_deg \n",
      " (EXP $dist) $targ_deg)\n",
      ">complex  ...\n",
      ">complex  ...\n",
      ">complex  ...\n",
      ">complex  ...\n",
      ">complex  ...\n",
      ">complex  ...\n",
      ">(- \n",
      " (LOG \n",
      "  (MAX $orig $targ)) $orig_deg)\n",
      ">(ZER \n",
      " (- $orig 5.0) \n",
      " (LOG $targ) \n",
      " (EXP $dist))\n",
      "\t 0.0\n",
      ">(EXP 4.0)\n",
      ">0.019790789239828244\n",
      ">complex  ...\n",
      ">(EXP \n",
      " (^ \n",
      "  (+ 0.8675691903185135 $orig_deg) \n",
      "  (MAX $orig $dist)))\n",
      ">complex  ...\n",
      ">(/ \n",
      " (+ 0.8749706783233451 0.5671930451328301) $targ_deg)\n",
      ">complex  ...\n",
      ">7.0\n",
      ">(LOG \n",
      " (> $dist 9.0 $targ 0.23534934077493297))\n",
      ">complex  ...\n",
      "\t 0.0\n",
      ">(^ 6.0 $dist)\n",
      ">complex  ...\n",
      ">(EXP \n",
      " (* $dist $dist))\n",
      ">complex  ...\n",
      ">(- \n",
      " (MAX $orig_deg $dist) \n",
      " (+ 0.48507816508041324 $orig_deg))\n",
      ">complex  ...\n",
      ">(EXP \n",
      " (/ $dist $orig_deg))\n",
      ">(EXP $dist)\n",
      ">(^ \n",
      " (+ 0.06112819909842515 $dist) \n",
      " (ABS \n",
      "  (EXP 2.0)))\n",
      ">complex  ...\n"
     ]
    }
   ],
   "source": [
    "experiments_name = \"repro_tests_PGCL_default\"\n",
    "\n",
    "path_to_assess = \"data/{}/{}/\".format(experiments_name, family)\n",
    "\n",
    "####\n",
    "\n",
    "path_to_load = [\n",
    "    path_to_assess+\"{netname}_{netid}.{expid}\".format(netname=net_name,netid=i+1,expid=j)+'/bestprog.txt'\n",
    "    for i in range(3) for j in range(10) \n",
    "]\n",
    "\n",
    "found_generators = [\n",
    "    load_generator(path, directed=False, gen_type='exo')\n",
    "    for path in path_to_load\n",
    "]\n",
    "\n",
    "valid_generators = [\n",
    "    np.any([str(gen.prog)== s for s in solutions])\n",
    "    for gen in found_generators\n",
    "]\n",
    "\n",
    "print('(min) accuracy : {} '.format(np.sum(valid_generators)/len(valid_generators)))\n",
    "\n",
    "for i in range(3):\n",
    "    print(\"\\t\",np.sum(valid_generators[i*10:(i+1)*10])/10)\n",
    "    print(\">\"+\"\\n>\".join([str(gen.prog)+\" ✅\"\n",
    "                          if np.any([str(gen.prog)== s for s in solutions])\n",
    "                          else 'complex  ...' if gen.prog.size() > 10\n",
    "                          else str(gen.prog)\n",
    "                          for gen in found_generators[i*10:(i+1)*10]\n",
    "                         ]))"
   ]
  },
  {
   "cell_type": "markdown",
   "id": "4d4048be-9565-465a-beda-4975c38acb8e",
   "metadata": {},
   "source": [
    "### - trad_degs"
   ]
  },
  {
   "cell_type": "code",
   "execution_count": 36,
   "id": "d8d97929-b03c-4e24-9476-b833c1e9ea2e",
   "metadata": {},
   "outputs": [
    {
     "name": "stdout",
     "output_type": "stream",
     "text": [
      "(min) accuracy : 0.2 \n",
      "\t 0.2\n",
      ">complex  ...\n",
      ">complex  ...\n",
      ">complex  ...\n",
      ">$dist ✅\n",
      ">(- \n",
      " (EXP \n",
      "  (+ $dist $dist)) $targ_deg)\n",
      ">(ZER 2.0 \n",
      " (- 0.16510513544759986 $targ_deg) 0.04338762474714952)\n",
      ">(- $dist \n",
      " (< $dist \n",
      "  (EXP $orig_deg) 0.15726705567391852 0.2394410211835568))\n",
      ">$dist ✅\n",
      ">complex  ...\n",
      ">2.0\n",
      "\t 0.0\n",
      ">4.0\n",
      ">(LOG \n",
      " (EXP \n",
      "  (+ 9.0 \n",
      "   (AFF $dist 2.0 $orig_deg))))\n",
      ">(MIN \n",
      " (ABS 0.0) \n",
      " (== 3.0 5.0 $orig_deg $dist))\n",
      ">7.0\n",
      ">complex  ...\n",
      ">3.0\n",
      ">(- 3.0 \n",
      " (* 0.8898938095544907 $orig_deg))\n",
      ">complex  ...\n",
      ">0.6709174415640031\n",
      ">6.0\n",
      "\t 0.4\n",
      ">(+ \n",
      " (< 0.4693909039343319 \n",
      "  (- $orig_deg 9.0) $dist \n",
      "  (EXP 4.0)) $orig_deg)\n",
      ">(EXP \n",
      " (+ $dist 0.0))\n",
      ">$dist ✅\n",
      ">(/ \n",
      " (EXP $dist) $targ_deg)\n",
      ">complex  ...\n",
      ">$dist ✅\n",
      ">$dist ✅\n",
      ">$dist ✅\n",
      ">(- 6.0 $orig_deg)\n",
      ">(== 3.0 $targ_deg 2.0 \n",
      " (EXP \n",
      "  (* $dist 2.0)))\n"
     ]
    }
   ],
   "source": [
    "experiments_name = \"repro_degs\"\n",
    "\n",
    "path_to_assess = \"data/{}/{}/\".format(experiments_name, family)\n",
    "\n",
    "####\n",
    "\n",
    "path_to_load = [\n",
    "    path_to_assess+\"{netname}_{netid}.{expid}\".format(netname=net_name,netid=i+1,expid=j)+'/bestprog.txt'\n",
    "    for i in range(3) for j in range(10) \n",
    "]\n",
    "\n",
    "found_generators = [\n",
    "    load_generator(path, directed=False, gen_type='exo')\n",
    "    for path in path_to_load\n",
    "]\n",
    "\n",
    "valid_generators = [\n",
    "    str(gen.prog) in solutions \n",
    "    for gen in found_generators\n",
    "]\n",
    "\n",
    "print('(min) accuracy : {} '.format(np.sum(valid_generators)/len(valid_generators)))\n",
    "\n",
    "for i in range(3):\n",
    "    print(\"\\t\",np.sum(valid_generators[i*10:(i+1)*10])/10)\n",
    "    print(\">\"+\"\\n>\".join([str(gen.prog)+\" ✅\"\n",
    "                          if np.any([str(gen.prog)== s for s in solutions])\n",
    "                          else 'complex  ...' if gen.prog.size() > 10\n",
    "                          else str(gen.prog)\n",
    "                          for gen in found_generators[i*10:(i+1)*10]\n",
    "                         ]))"
   ]
  },
  {
   "cell_type": "markdown",
   "id": "f82fefef-7743-4156-ac17-7c6eb7625ea1",
   "metadata": {},
   "source": [
    "## ID"
   ]
  },
  {
   "cell_type": "code",
   "execution_count": 30,
   "id": "ff82c949-b97e-4f73-8f5b-b56fb0bbd6e7",
   "metadata": {},
   "outputs": [],
   "source": [
    "family = \"ID\"\n",
    "net_name = \"id\"\n",
    "\n",
    "solutions = [\n",
    "    \"$orig\",\n",
    "    \"$targ\"\n",
    "]"
   ]
  },
  {
   "cell_type": "markdown",
   "id": "0aa75fba-25b7-4062-9e24-16de691fd286",
   "metadata": {},
   "source": [
    "### - trad2014"
   ]
  },
  {
   "cell_type": "code",
   "execution_count": 52,
   "id": "aaa05938-7c7b-4d8c-ab62-3313dbaafab5",
   "metadata": {},
   "outputs": [
    {
     "name": "stdout",
     "output_type": "stream",
     "text": [
      "(min) accuracy : 0.4 \n",
      "\n",
      "\t 0.3\n",
      ">complex  ...\n",
      ">complex  ...\n",
      ">$orig ✅\n",
      ">(ABS $orig)\n",
      ">$orig ✅\n",
      ">$orig ✅\n",
      ">complex  ...\n",
      ">(+ $orig $targ)\n",
      ">(ABS \n",
      " (MAX \n",
      "  (- 3.0 9.0) \n",
      "  (MAX $orig 0.7998203710791895)))\n",
      ">(< $orig $dist 0.015913299392807834 $orig)\n",
      "\t 0.5\n",
      ">$targ ✅\n",
      ">(MAX \n",
      " (< $orig 0.27514802559344054 $orig_deg $targ) \n",
      " (- $targ $targ_deg))\n",
      ">$orig ✅\n",
      ">(AFF \n",
      " (MAX $targ_deg 4.0) 0.819334492913819 $orig)\n",
      ">complex  ...\n",
      ">(+ \n",
      " (LOG \n",
      "  (MIN 5.0 $dist)) $targ)\n",
      ">$orig ✅\n",
      ">$orig ✅\n",
      ">complex  ...\n",
      ">$targ ✅\n",
      "\t 0.4\n",
      ">$orig ✅\n",
      ">(MIN $targ_deg \n",
      " (LOG $targ))\n",
      ">complex  ...\n",
      ">$orig ✅\n",
      ">$orig ✅\n",
      ">complex  ...\n",
      ">(- \n",
      " (* 0.5109566688937679 $targ) \n",
      " (ABS 0.4659361059538505))\n",
      ">complex  ...\n",
      ">$orig ✅\n",
      ">complex  ...\n"
     ]
    }
   ],
   "source": [
    "experiments_name = \"repro_trad\"\n",
    "\n",
    "path_to_assess = \"data/{}/{}/\".format(experiments_name, family)\n",
    "\n",
    "####\n",
    "\n",
    "path_to_load = [\n",
    "    path_to_assess+\"{netname}_{netid}.{expid}\".format(netname=net_name,netid=i+1,expid=j)+'/bestprog.txt'\n",
    "    for i in range(3) for j in range(10) \n",
    "]\n",
    "\n",
    "found_generators = [\n",
    "    load_generator(path, directed=False, gen_type='exo')\n",
    "    for path in path_to_load\n",
    "]\n",
    "\n",
    "valid_generators = [\n",
    "    str(gen.prog) in solutions \n",
    "    for gen in found_generators\n",
    "]\n",
    "\n",
    "print('(min) accuracy : {} \\n'.format(np.sum(valid_generators)/len(valid_generators)))\n",
    "\n",
    "for i in range(3):\n",
    "    print(\"\\t\",np.sum(valid_generators[i*10:(i+1)*10])/10)\n",
    "    \n",
    "    print(\">\"+\"\\n>\".join([str(gen.prog)+\" ✅\"\n",
    "                          if np.any([str(gen.prog)== s for s in solutions])\n",
    "                          else 'complex  ...' if gen.prog.size() > 10\n",
    "                          else str(gen.prog)\n",
    "                          for gen in found_generators[i*10:(i+1)*10]\n",
    "                         ]\n",
    "                        )\n",
    "         )"
   ]
  },
  {
   "cell_type": "markdown",
   "id": "164ff2be-cdcf-4a25-8def-749fcf4018b1",
   "metadata": {},
   "source": [
    "### - deep"
   ]
  },
  {
   "cell_type": "code",
   "execution_count": 16,
   "id": "f5a59ee3-08c3-4589-a4fd-7eccc6cc1c0e",
   "metadata": {},
   "outputs": [
    {
     "name": "stdout",
     "output_type": "stream",
     "text": [
      "(min) accuracy : 0.16666666666666666 \n",
      "\t 0.4\n",
      ">(LOG 0.6983217639090424)\n",
      ">$dist ✅\n",
      ">$dist ✅\n",
      ">complex  ...\n",
      ">(ABS \n",
      " (EXP $dist))\n",
      ">complex  ...\n",
      ">0.0\n",
      ">$dist ✅\n",
      ">complex  ...\n",
      ">$dist ✅\n",
      "\t 0.1\n",
      ">0.0\n",
      ">(< $targ_deg $targ_deg $targ_deg 6.0)\n",
      ">5.0\n",
      ">3.0\n",
      ">0.0\n",
      ">(^ 0.14472550368236303 1.0)\n",
      ">0.47761318352573257\n",
      ">5.0\n",
      ">0.9337970487265437\n",
      ">$dist ✅\n",
      "\t 0.0\n",
      ">(EXP \n",
      " (EXP \n",
      "  (> $dist \n",
      "   (^ 0.9870715935834438 $targ) $dist $targ_deg)))\n",
      ">complex  ...\n",
      ">(* \n",
      " (MIN 9.0 \n",
      "  (== 0.0 5.0 0.7969805697825564 $dist)) $dist)\n",
      ">complex  ...\n",
      ">(EXP $dist)\n",
      ">(/ \n",
      " (ABS \n",
      "  (EXP $dist)) 0.7253086007192432)\n",
      ">(ZER \n",
      " (- \n",
      "  (EXP 0.0) 0.864660051757049) $dist \n",
      " (EXP $dist))\n",
      ">complex  ...\n",
      ">(ABS \n",
      " (EXP \n",
      "  (MAX 0.8123188879803044 $dist)))\n",
      ">complex  ...\n"
     ]
    }
   ],
   "source": [
    "experiments_name = \"repro_tests_GraphMAE_GCN64\"\n",
    "\n",
    "path_to_assess = \"data/{}/{}/\".format(experiments_name, family)\n",
    "\n",
    "####\n",
    "\n",
    "path_to_load = [\n",
    "    path_to_assess+\"{netname}_{netid}.{expid}\".format(netname=net_name,netid=i+1,expid=j)+'/bestprog.txt'\n",
    "    for i in range(3) for j in range(10) \n",
    "]\n",
    "\n",
    "found_generators = [\n",
    "    load_generator(path, directed=False, gen_type='exo')\n",
    "    for path in path_to_load\n",
    "]\n",
    "\n",
    "valid_generators = [\n",
    "    np.any([str(gen.prog)== s for s in solutions])\n",
    "    for gen in found_generators\n",
    "]\n",
    "\n",
    "print('(min) accuracy : {} '.format(np.sum(valid_generators)/len(valid_generators)))\n",
    "\n",
    "for i in range(3):\n",
    "    print(\"\\t\",np.sum(valid_generators[i*10:(i+1)*10])/10)\n",
    "    print(\">\"+\"\\n>\".join([str(gen.prog)+\" ✅\"\n",
    "                          if np.any([str(gen.prog)== s for s in solutions])\n",
    "                          else 'complex  ...' if gen.prog.size() > 10\n",
    "                          else str(gen.prog)\n",
    "                          for gen in found_generators[i*10:(i+1)*10]\n",
    "                         ]))"
   ]
  },
  {
   "cell_type": "markdown",
   "id": "52fce36e-d14f-4953-ba32-294e555acb73",
   "metadata": {},
   "source": [
    "### - PGCL"
   ]
  },
  {
   "cell_type": "code",
   "execution_count": 16,
   "id": "5d126914-7bfe-4e38-83f1-3d68fdf4c15c",
   "metadata": {},
   "outputs": [
    {
     "name": "stdout",
     "output_type": "stream",
     "text": [
      "(min) accuracy : 0.3333333333333333 \n",
      "\t 0.6\n",
      ">$targ ✅\n",
      ">(MAX $orig \n",
      " (^ 0.14499463989547523 0.34903830670608704))\n",
      ">complex  ...\n",
      ">$targ ✅\n",
      ">$targ ✅\n",
      ">$targ ✅\n",
      ">(MAX 0.08207109172070193 $orig)\n",
      ">$orig ✅\n",
      ">$orig ✅\n",
      ">complex  ...\n",
      "\t 0.1\n",
      ">complex  ...\n",
      ">complex  ...\n",
      ">complex  ...\n",
      ">(== $targ_deg $orig_deg 0.15719938338156492 $orig_deg)\n",
      ">complex  ...\n",
      ">(ABS \n",
      " (* $targ 0.5823976837953363))\n",
      ">complex  ...\n",
      ">(MAX \n",
      " (/ 0.4738877628741932 \n",
      "  (+ $targ_deg \n",
      "   (- 0.36805985907156447 0.3514317940224986))) $targ)\n",
      ">$targ ✅\n",
      ">complex  ...\n",
      "\t 0.3\n",
      ">complex  ...\n",
      ">$orig ✅\n",
      ">$orig ✅\n",
      ">complex  ...\n",
      ">complex  ...\n",
      ">(- \n",
      " (MAX $targ 7.0) 0.23499566357220159)\n",
      ">$targ ✅\n",
      ">(MAX \n",
      " (/ 0.4738877628741932 0.5596512573894258) $targ)\n",
      ">(- \n",
      " (+ $orig_deg 5.0) \n",
      " (== $targ $targ_deg $targ 0.9238540208281331))\n",
      ">complex  ...\n"
     ]
    }
   ],
   "source": [
    "experiments_name = \"repro_tests_PGCL_default\"\n",
    "\n",
    "path_to_assess = \"data/{}/{}/\".format(experiments_name, family)\n",
    "\n",
    "####\n",
    "\n",
    "path_to_load = [\n",
    "    path_to_assess+\"{netname}_{netid}.{expid}\".format(netname=net_name,netid=i+1,expid=j)+'/bestprog.txt'\n",
    "    for i in range(3) for j in range(10) \n",
    "]\n",
    "\n",
    "found_generators = [\n",
    "    load_generator(path, directed=False, gen_type='exo')\n",
    "    for path in path_to_load\n",
    "]\n",
    "\n",
    "valid_generators = [\n",
    "    np.any([str(gen.prog)== s for s in solutions])\n",
    "    for gen in found_generators\n",
    "]\n",
    "\n",
    "print('(min) accuracy : {} '.format(np.sum(valid_generators)/len(valid_generators)))\n",
    "\n",
    "for i in range(3):\n",
    "    print(\"\\t\",np.sum(valid_generators[i*10:(i+1)*10])/10)\n",
    "    print(\">\"+\"\\n>\".join([str(gen.prog)+\" ✅\"\n",
    "                          if np.any([str(gen.prog)== s for s in solutions])\n",
    "                          else 'complex  ...' if gen.prog.size() > 10\n",
    "                          else str(gen.prog)\n",
    "                          for gen in found_generators[i*10:(i+1)*10]\n",
    "                         ]))"
   ]
  },
  {
   "cell_type": "code",
   "execution_count": 17,
   "id": "45a79ed5-23db-42ce-9564-1160b2da8bc7",
   "metadata": {},
   "outputs": [
    {
     "data": {
      "text/plain": [
       "0.5333333333333333"
      ]
     },
     "execution_count": 17,
     "metadata": {},
     "output_type": "execute_result"
    }
   ],
   "source": [
    "#1. O O X O O O O O O X\n",
    "#2. X X X X X O X O O X\n",
    "#3. X O O X X O O O X X\n",
    "16/30"
   ]
  },
  {
   "cell_type": "markdown",
   "id": "f58e6af0-fa71-4341-85d5-06f846e1a385",
   "metadata": {},
   "source": [
    "### - trad_degs"
   ]
  },
  {
   "cell_type": "code",
   "execution_count": 31,
   "id": "550ccadb-8929-4abb-8cc0-cdf4de30a688",
   "metadata": {},
   "outputs": [
    {
     "name": "stdout",
     "output_type": "stream",
     "text": [
      "(min) accuracy : 0.4666666666666667 \n",
      "\t 0.5\n",
      ">$targ ✅\n",
      ">$targ ✅\n",
      ">(+ \n",
      " (/ \n",
      "  (< 0.0 0.07786583478577958 0.49534723261281466 $orig_deg) \n",
      "  (EXP $targ)) $targ)\n",
      ">$targ ✅\n",
      ">(MAX \n",
      " (- 0.40768268769860905 0.42833775850210953) $orig)\n",
      ">$orig ✅\n",
      ">$targ ✅\n",
      ">complex  ...\n",
      ">complex  ...\n",
      ">(< $targ 1.0 0.16677634653232143 \n",
      " (AFF $orig $dist $targ))\n",
      "\t 0.3\n",
      ">complex  ...\n",
      ">complex  ...\n",
      ">complex  ...\n",
      ">(* \n",
      " (ABS $targ) \n",
      " (ABS \n",
      "  (LOG 0.8906748955595893)))\n",
      ">(LOG $orig_deg)\n",
      ">$targ ✅\n",
      ">complex  ...\n",
      ">$orig ✅\n",
      ">$orig_deg\n",
      ">$orig ✅\n",
      "\t 0.6\n",
      ">complex  ...\n",
      ">(> 2.0 \n",
      " (ABS $orig_deg) \n",
      " (EXP \n",
      "  (ZER 0.22606512423604475 9.0 $orig_deg)) 8.0)\n",
      ">$orig ✅\n",
      ">$targ ✅\n",
      ">(ZER 0.8835773686521298 \n",
      " (LOG $orig_deg) \n",
      " (ZER 0.0 $targ 0.278988521536887))\n",
      ">$orig ✅\n",
      ">$targ ✅\n",
      ">$orig ✅\n",
      ">$targ ✅\n",
      ">complex  ...\n"
     ]
    }
   ],
   "source": [
    "experiments_name = \"repro_degs\"\n",
    "\n",
    "path_to_assess = \"data/{}/{}/\".format(experiments_name, family)\n",
    "\n",
    "####\n",
    "\n",
    "path_to_load = [\n",
    "    path_to_assess+\"{netname}_{netid}.{expid}\".format(netname=net_name,netid=i+1,expid=j)+'/bestprog.txt'\n",
    "    for i in range(3) for j in range(10) \n",
    "]\n",
    "\n",
    "found_generators = [\n",
    "    load_generator(path, directed=False, gen_type='exo')\n",
    "    for path in path_to_load\n",
    "]\n",
    "\n",
    "valid_generators = [\n",
    "    str(gen.prog) in solutions \n",
    "    for gen in found_generators\n",
    "]\n",
    "\n",
    "print('(min) accuracy : {} '.format(np.sum(valid_generators)/len(valid_generators)))\n",
    "\n",
    "for i in range(3):\n",
    "    print(\"\\t\",np.sum(valid_generators[i*10:(i+1)*10])/10)\n",
    "    print(\">\"+\"\\n>\".join([str(gen.prog)+\" ✅\"\n",
    "                          if np.any([str(gen.prog)== s for s in solutions])\n",
    "                          else 'complex  ...' if gen.prog.size() > 10\n",
    "                          else str(gen.prog)\n",
    "                          for gen in found_generators[i*10:(i+1)*10]\n",
    "                         ]))"
   ]
  },
  {
   "cell_type": "markdown",
   "id": "09c9940a-0ee1-4e4e-8aa7-80039e79462d",
   "metadata": {},
   "source": [
    "## ER"
   ]
  },
  {
   "cell_type": "code",
   "execution_count": 2,
   "id": "e1abd9da-7964-4859-aaf5-df535a4f2694",
   "metadata": {},
   "outputs": [],
   "source": [
    "family = \"ER\"\n",
    "net_name = \"c1\"\n",
    "\n",
    "def solution_assessment(prog_str:str):\n",
    "    \"\"\" Returns True is string is a number. \"\"\"\n",
    "    try:\n",
    "        float(prog_str)\n",
    "        return True\n",
    "    except ValueError:\n",
    "        return False"
   ]
  },
  {
   "cell_type": "markdown",
   "id": "f047927f-518a-4706-88be-cf0c352589c8",
   "metadata": {},
   "source": [
    "### - trad20&4"
   ]
  },
  {
   "cell_type": "code",
   "execution_count": 7,
   "id": "1d1b3156-7ab6-4ae7-bec5-2916c0415b01",
   "metadata": {},
   "outputs": [
    {
     "name": "stdout",
     "output_type": "stream",
     "text": [
      "(min) accuracy : 0.4 \n",
      "\t 0.3\n",
      ">complex  ...\n",
      ">(LOG 0.7254004589442619)\n",
      ">complex  ...\n",
      ">7.0 ✅\n",
      ">3.0 ✅\n",
      ">0.18326506820476995 ✅\n",
      ">(EXP \n",
      " (< 0.012219709343304408 0.0 0.502138542048856 8.0))\n",
      ">$dist\n",
      ">(^ 3.0 0.9734456817733799)\n",
      ">complex  ...\n",
      "\t 0.3\n",
      ">(* 0.7251608183840453 \n",
      " (LOG 0.1692368490686189))\n",
      ">(^ \n",
      " (+ 0.6011338531357928 0.038151250384159785) \n",
      " (MIN 0.8280599020084767 $targ))\n",
      ">complex  ...\n",
      ">0.8962930889334381 ✅\n",
      ">(LOG \n",
      " (+ 0.16093498504357862 8.0))\n",
      ">complex  ...\n",
      ">0.6126441789261022 ✅\n",
      ">0.8328499487745058 ✅\n",
      ">complex  ...\n",
      ">complex  ...\n",
      "\t 0.6\n",
      ">0.956639917127919 ✅\n",
      ">1.0 ✅\n",
      ">complex  ...\n",
      ">(+ 0.9934875765027612 0.0)\n",
      ">2.0 ✅\n",
      ">complex  ...\n",
      ">0.017875896133014213 ✅\n",
      ">0.29919014120805465 ✅\n",
      ">7.0 ✅\n",
      ">(< \n",
      " (LOG 0.9648487056951133) $orig 0.16677634653232143 0.5033042732195364)\n"
     ]
    }
   ],
   "source": [
    "experiments_name = \"repro_trad\"\n",
    "\n",
    "path_to_assess = \"data/{}/{}/\".format(experiments_name, family)\n",
    "\n",
    "####\n",
    "\n",
    "path_to_load = [\n",
    "    path_to_assess+\"{netname}_{netid}.{expid}\".format(netname=net_name,netid=i+1,expid=j)+'/bestprog.txt'\n",
    "    for i in range(3) for j in range(10) \n",
    "]\n",
    "\n",
    "found_generators = [\n",
    "    load_generator(path, directed=False, gen_type='exo')\n",
    "    for path in path_to_load\n",
    "]\n",
    "\n",
    "#valid_generators = [\n",
    "#    np.any([str(gen.prog)== s for s in solutions])\n",
    "#    for gen in found_generators\n",
    "#]\n",
    "\n",
    "valid_generators = [\n",
    "    solution_assessment(str(gen.prog))\n",
    "    for gen in found_generators\n",
    "]\n",
    "\n",
    "print('(min) accuracy : {} '.format(np.sum(valid_generators)/len(valid_generators)))\n",
    "\n",
    "for i in range(3):\n",
    "    print(\"\\t\",np.sum(valid_generators[i*10:(i+1)*10])/10)\n",
    "    print(\">\"+\"\\n>\".join([str(gen.prog)+\" ✅\"\n",
    "                          if solution_assessment(str(gen.prog))\n",
    "                          else 'complex  ...' if gen.prog.size() > 10\n",
    "                          else str(gen.prog)\n",
    "                          for gen in found_generators[i*10:(i+1)*10]\n",
    "                         ]))"
   ]
  },
  {
   "cell_type": "markdown",
   "id": "fe157fba-d47b-45bc-9ca7-eef1c73457a8",
   "metadata": {},
   "source": [
    "### - deep"
   ]
  },
  {
   "cell_type": "code",
   "execution_count": 20,
   "id": "7ecf9731-3aa4-4fea-b005-ca5458484682",
   "metadata": {},
   "outputs": [
    {
     "name": "stdout",
     "output_type": "stream",
     "text": [
      "(min) accuracy : 0.4 \n",
      "\t 0.5\n",
      ">(^ \n",
      " (^ 7.0 \n",
      "  (^ 4.0 \n",
      "   (EXP $dist))) \n",
      " (ABS 0.5476748278460171))\n",
      ">0.0 ✅\n",
      ">0.5112997167662267 ✅\n",
      ">7.0 ✅\n",
      ">complex  ...\n",
      ">3.0 ✅\n",
      ">complex  ...\n",
      ">$dist\n",
      ">0.34425213634016116 ✅\n",
      ">(ZER $orig $dist 0.8328459675260639)\n",
      "\t 0.2\n",
      ">(+ 7.0 0.31355867258471526)\n",
      ">(ABS 0.0)\n",
      ">0.0 ✅\n",
      ">0.39754611973067333 ✅\n",
      ">complex  ...\n",
      ">complex  ...\n",
      ">(MIN 0.0 $orig)\n",
      ">complex  ...\n",
      ">complex  ...\n",
      ">(ZER $targ 0.23837463869536402 0.2284264210335223)\n",
      "\t 0.5\n",
      ">8.0 ✅\n",
      ">5.0 ✅\n",
      ">(- \n",
      " (> 0.8041414331851717 4.0 $orig 0.30173878637509255) \n",
      " (- 0.0 8.0))\n",
      ">5.0 ✅\n",
      ">complex  ...\n",
      ">complex  ...\n",
      ">(== \n",
      " (MAX 0.6861094716661124 0.46685956508778115) 0.2609667039450826 \n",
      " (ABS 0.0) \n",
      " (EXP 7.0))\n",
      ">0.1256930375747065 ✅\n",
      ">(/ \n",
      " (* 9.0 0.0) \n",
      " (< $orig_deg $orig_deg $dist $dist))\n",
      ">0.6416205175740577 ✅\n"
     ]
    }
   ],
   "source": [
    "experiments_name = \"repro_GraphMAE\"\n",
    "\n",
    "path_to_assess = \"data/{}/{}/\".format(experiments_name, family)\n",
    "\n",
    "####\n",
    "\n",
    "path_to_load = [\n",
    "    path_to_assess+\"{netname}_{netid}.{expid}\".format(netname=net_name,netid=i+1,expid=j)+'/bestprog.txt'\n",
    "    for i in range(3) for j in range(10) \n",
    "]\n",
    "\n",
    "found_generators = [\n",
    "    load_generator(path, directed=False, gen_type='exo')\n",
    "    for path in path_to_load\n",
    "]\n",
    "\n",
    "#valid_generators = [\n",
    "#    np.any([str(gen.prog)== s for s in solutions])\n",
    "#    for gen in found_generators\n",
    "#]\n",
    "\n",
    "valid_generators = [\n",
    "    solution_assessment(str(gen.prog))\n",
    "    for gen in found_generators\n",
    "]\n",
    "\n",
    "print('(min) accuracy : {} '.format(np.sum(valid_generators)/len(valid_generators)))\n",
    "\n",
    "for i in range(3):\n",
    "    print(\"\\t\",np.sum(valid_generators[i*10:(i+1)*10])/10)\n",
    "    print(\">\"+\"\\n>\".join([str(gen.prog)+\" ✅\"\n",
    "                          if solution_assessment(str(gen.prog))\n",
    "                          else 'complex  ...' if gen.prog.size() > 10\n",
    "                          else str(gen.prog)\n",
    "                          for gen in found_generators[i*10:(i+1)*10]\n",
    "                         ]))"
   ]
  },
  {
   "cell_type": "markdown",
   "id": "7121c4c2-3d70-4489-9954-a21b1fb6d6f8",
   "metadata": {},
   "source": [
    "### - trad_degs"
   ]
  },
  {
   "cell_type": "code",
   "execution_count": 7,
   "id": "75ccbe7c-94e2-4335-a58d-05ee608a7eb6",
   "metadata": {},
   "outputs": [
    {
     "name": "stdout",
     "output_type": "stream",
     "text": [
      "(min) accuracy : 0.5666666666666667 \n",
      "\t 0.5\n",
      ">0.08958408026233688 ✅\n",
      ">(LOG \n",
      " (MIN $orig_deg 0.5088738219734134))\n",
      ">0.7883722764552863 ✅\n",
      ">0.5852673471472217 ✅\n",
      ">complex  ...\n",
      ">(ZER 0.11515007407037459 4.0 6.0)\n",
      ">(+ \n",
      " (MAX 8.0 $orig_deg) \n",
      " (AFF 0.11213782695381525 0.6359465318087344 7.0))\n",
      ">0.8152588324064589 ✅\n",
      ">complex  ...\n",
      ">0.29246402405488214 ✅\n",
      "\t 0.6\n",
      ">0.9754928563657478 ✅\n",
      ">(LOG $orig)\n",
      ">6.0 ✅\n",
      ">0.12065249963578495 ✅\n",
      ">(LOG $targ)\n",
      ">complex  ...\n",
      ">5.0 ✅\n",
      ">0.19062817534843135 ✅\n",
      ">0.020594576568816025 ✅\n",
      ">complex  ...\n",
      "\t 0.6\n",
      ">3.0 ✅\n",
      ">complex  ...\n",
      ">9.0 ✅\n",
      ">complex  ...\n",
      ">0.931523426129297 ✅\n",
      ">(- 0.0 8.0)\n",
      ">4.0 ✅\n",
      ">(EXP $dist)\n",
      ">0.0 ✅\n",
      ">0.06580973315915961 ✅\n"
     ]
    }
   ],
   "source": [
    "experiments_name = \"repro_degs\"\n",
    "\n",
    "path_to_assess = \"data/{}/{}/\".format(experiments_name, family)\n",
    "\n",
    "####\n",
    "\n",
    "path_to_load = [\n",
    "    path_to_assess+\"{netname}_{netid}.{expid}\".format(netname=net_name,netid=i+1,expid=j)+'/bestprog.txt'\n",
    "    for i in range(3) for j in range(10) \n",
    "]\n",
    "\n",
    "found_generators = [\n",
    "    load_generator(path, directed=False, gen_type='exo')\n",
    "    for path in path_to_load\n",
    "]\n",
    "\n",
    "#valid_generators = [\n",
    "#    np.any([str(gen.prog)== s for s in solutions])\n",
    "#    for gen in found_generators\n",
    "#]\n",
    "\n",
    "valid_generators = [\n",
    "    solution_assessment(str(gen.prog))\n",
    "    for gen in found_generators\n",
    "]\n",
    "\n",
    "print('(min) accuracy : {} '.format(np.sum(valid_generators)/len(valid_generators)))\n",
    "\n",
    "for i in range(3):\n",
    "    print(\"\\t\",np.sum(valid_generators[i*10:(i+1)*10])/10)\n",
    "    print(\">\"+\"\\n>\".join([str(gen.prog)+\" ✅\"\n",
    "                          if solution_assessment(str(gen.prog))\n",
    "                          else 'complex  ...' if gen.prog.size() > 10\n",
    "                          else str(gen.prog)\n",
    "                          for gen in found_generators[i*10:(i+1)*10]\n",
    "                         ]))"
   ]
  },
  {
   "cell_type": "code",
   "execution_count": null,
   "id": "e5eb4dd1-651c-4f6e-b96f-c476b88513fd",
   "metadata": {},
   "outputs": [],
   "source": []
  },
  {
   "cell_type": "code",
   "execution_count": null,
   "id": "02800eba-2ce6-4198-9b7a-f71447a57339",
   "metadata": {},
   "outputs": [],
   "source": []
  },
  {
   "cell_type": "markdown",
   "id": "71d6d273-d57c-4b9d-b783-f36a02b08955",
   "metadata": {},
   "source": [
    "# Words best runs generators"
   ]
  },
  {
   "cell_type": "markdown",
   "id": "2e46d8aa-8d0e-4f2d-8f51-dee1657b8cd6",
   "metadata": {},
   "source": [
    "## - trad2014"
   ]
  },
  {
   "cell_type": "code",
   "execution_count": null,
   "id": "661e68ad-d1ef-4eee-9ac7-0a95e35a2602",
   "metadata": {},
   "outputs": [],
   "source": [
    "(AFF \n",
    " (^ $targ 0.0) \n",
    " (- \n",
    "  (> \n",
    "   (ABS 3) $orig $targ $targ_deg) $dist) \n",
    " (ABS 0.4533284842717795))"
   ]
  },
  {
   "cell_type": "code",
   "execution_count": null,
   "id": "a5a1d82c-6f5f-42f6-a96e-2e28d2ddfd16",
   "metadata": {},
   "outputs": [],
   "source": [
    "(ABS 0.4533284842717795)"
   ]
  },
  {
   "cell_type": "markdown",
   "id": "4ee2f837-ecba-41c2-9ce4-67ba81bf9b8a",
   "metadata": {},
   "source": [
    "## - deep"
   ]
  },
  {
   "cell_type": "code",
   "execution_count": null,
   "id": "f469529a-3eb9-4558-916e-442f8ed8be6e",
   "metadata": {},
   "outputs": [],
   "source": [
    "(AFF \n",
    " (LOG $orig) \n",
    " (/ 0.34820273378599365 $orig_deg) \n",
    " (^ $targ_deg $targ))"
   ]
  },
  {
   "cell_type": "code",
   "execution_count": null,
   "id": "dc9f7881-3b76-4466-b993-83773c81b707",
   "metadata": {},
   "outputs": [],
   "source": [
    "(^ $targ_deg $targ)"
   ]
  },
  {
   "cell_type": "code",
   "execution_count": null,
   "id": "2ee247b4-4ec1-4120-b526-c8d2807b78a3",
   "metadata": {},
   "outputs": [],
   "source": []
  },
  {
   "cell_type": "code",
   "execution_count": null,
   "id": "a24028f1-3e2f-443c-bb66-1e495f877ee3",
   "metadata": {},
   "outputs": [],
   "source": []
  },
  {
   "cell_type": "code",
   "execution_count": null,
   "id": "11824617-3dfa-4c16-8689-6335d92d9dc2",
   "metadata": {},
   "outputs": [],
   "source": []
  },
  {
   "cell_type": "code",
   "execution_count": null,
   "id": "f290a6f6-b5b8-43af-8264-63068bcb4769",
   "metadata": {},
   "outputs": [],
   "source": []
  },
  {
   "cell_type": "code",
   "execution_count": null,
   "id": "c9a3a83b-af98-4913-91f1-3c5ef43be9b8",
   "metadata": {},
   "outputs": [],
   "source": []
  },
  {
   "cell_type": "code",
   "execution_count": null,
   "id": "27a10b1e-0304-4b77-b2bd-c58eb0ca9874",
   "metadata": {},
   "outputs": [],
   "source": []
  },
  {
   "cell_type": "code",
   "execution_count": null,
   "id": "4cb5f188-b03e-42fe-a4c6-9b3adf17fd1e",
   "metadata": {},
   "outputs": [],
   "source": []
  },
  {
   "cell_type": "code",
   "execution_count": null,
   "id": "29528ba6-cd0d-453b-b253-bedeb80b0269",
   "metadata": {},
   "outputs": [],
   "source": []
  },
  {
   "cell_type": "code",
   "execution_count": null,
   "id": "b6534059-b1b7-462c-b111-4d9e78f57c78",
   "metadata": {},
   "outputs": [],
   "source": []
  }
 ],
 "metadata": {
  "kernelspec": {
   "display_name": "Python 3 (ipykernel)",
   "language": "python",
   "name": "python3"
  },
  "language_info": {
   "codemirror_mode": {
    "name": "ipython",
    "version": 3
   },
   "file_extension": ".py",
   "mimetype": "text/x-python",
   "name": "python",
   "nbconvert_exporter": "python",
   "pygments_lexer": "ipython3",
   "version": "3.10.6"
  }
 },
 "nbformat": 4,
 "nbformat_minor": 5
}
