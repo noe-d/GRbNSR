{
 "cells": [
  {
   "cell_type": "markdown",
   "id": "a7dbf429-51cb-4096-928d-dc74567e04f5",
   "metadata": {},
   "source": [
    "# Use the Reproducibility `script`"
   ]
  },
  {
   "cell_type": "code",
   "execution_count": 1,
   "id": "a5fdb17c-5b4c-4a89-9158-17d9bee6f187",
   "metadata": {},
   "outputs": [
    {
     "name": "stderr",
     "output_type": "stream",
     "text": [
      "/Users/nmm/miniforge3/envs/env_gdl/lib/python3.10/site-packages/tqdm/auto.py:22: TqdmWarning: IProgress not found. Please update jupyter and ipywidgets. See https://ipywidgets.readthedocs.io/en/stable/user_install.html\n",
      "  from .autonotebook import tqdm as notebook_tqdm\n"
     ]
    }
   ],
   "source": [
    "from reproducibility.evolutionary_search import *\n",
    "from reproducibility.evolutionary_search import _DEFAULT_ARGS"
   ]
  },
  {
   "cell_type": "code",
   "execution_count": 2,
   "id": "8f9bac1e-6622-449e-b2ed-3fac6d553751",
   "metadata": {},
   "outputs": [],
   "source": [
    "_OG_SEED = 0"
   ]
  },
  {
   "cell_type": "code",
   "execution_count": 11,
   "id": "5a200232-74b3-49c1-b9fd-bd1b39699dcb",
   "metadata": {},
   "outputs": [],
   "source": [
    "#deep_exp_args = {\n",
    "#    \"model_path\":'./DL_module/saved/best_models/GraphMAE_GCNversion_o64/',\n",
    "#    'dist_type':'euclidean',\n",
    "#}\n",
    "\n",
    "args = {\n",
    "    'data_path': 'data/space_seg_data/v100_e552/',#'space_seg/data/data_v2/v100_e552/',\n",
    "    'data_folder': 'ID',\n",
    "    'output_path': 'data/reproduction_run/ID/',\n",
    "    'directed': False,\n",
    "    'n_rep': 1,#10,\n",
    "    'do_parallel': False,\n",
    "    'n_processes': 1  \n",
    "}"
   ]
  },
  {
   "cell_type": "code",
   "execution_count": 12,
   "id": "829916fd-49e1-4f2d-bfec-081bce7a2f9a",
   "metadata": {},
   "outputs": [
    {
     "name": "stdout",
     "output_type": "stream",
     "text": [
      "['data/space_seg_data/v100_e552/ID/id_1.pickle', 'data/space_seg_data/v100_e552/ID/id_2.pickle', 'data/space_seg_data/v100_e552/ID/id_3.pickle']\n"
     ]
    }
   ],
   "source": [
    "make_folder(args[\"output_path\"])\n",
    "\n",
    "nets_files = [\"id_{}.pickle\".format(i+1) \n",
    "              for i in range(3)\n",
    "             ]\n",
    "nets_paths = [args[\"data_path\"]+args[\"data_folder\"]+\"/\"+f for f in nets_files]\n",
    "print(nets_paths)\n",
    "\n",
    "output_exp = args[\"output_path\"]+\"{exp_name}\""
   ]
  },
  {
   "cell_type": "code",
   "execution_count": 13,
   "id": "f2cae93e-57c3-4aa9-8206-22e2e21a2774",
   "metadata": {},
   "outputs": [
    {
     "name": "stdout",
     "output_type": "stream",
     "text": [
      "🌱 Setting seed to 0\n",
      "Initialising distance metric...\n",
      "Warning: logging configuration file is not found in Logger/logger_config.json.\n",
      "🌱 Setting seed to 0\n"
     ]
    },
    {
     "name": "stderr",
     "output_type": "stream",
     "text": [
      "Stable gens: 100%|████████████████| 1000/1000 [03:40<00:00,  4.53it/s, #=6, loss=0.00235, size=1]\n"
     ]
    },
    {
     "name": "stdout",
     "output_type": "stream",
     "text": [
      "Done in 00:06:19. After 1728 generations.\n",
      "Best found generator:\n",
      "\t$targ\n",
      "\n",
      "========================================\n",
      "\n",
      "🌱 Setting seed to 0\n",
      "Initialising distance metric...\n",
      "Warning: logging configuration file is not found in Logger/logger_config.json.\n",
      "🌱 Setting seed to 0\n"
     ]
    },
    {
     "name": "stderr",
     "output_type": "stream",
     "text": [
      "Stable gens: 100%|███████████████| 1000/1000 [04:02<00:00,  4.12it/s, #=4, loss=0.00259, size=36]\n"
     ]
    },
    {
     "name": "stdout",
     "output_type": "stream",
     "text": [
      "Done in 00:04:05. After 1013 generations.\n",
      "Best found generator:\n",
      "\t(== \n",
      " (AFF \n",
      "  (== $targ_deg 0.0 $targ 0.0) \n",
      "  (^ 0.10192203293772018 $orig_deg) \n",
      "  (+ 3 $targ)) \n",
      " (LOG \n",
      "  (ABS 7)) \n",
      " (== \n",
      "  (LOG 0.39375674294043417) \n",
      "  (EXP $targ) \n",
      "  (> $orig $orig 8 $dist) \n",
      "  (EXP \n",
      "   (- $orig $targ))) \n",
      " (^ \n",
      "  (LOG $orig_deg) \n",
      "  (MIN 4 0.359096151391158)))\n",
      "\n",
      "========================================\n",
      "\n",
      "🌱 Setting seed to 0\n",
      "Initialising distance metric...\n",
      "Warning: logging configuration file is not found in Logger/logger_config.json.\n",
      "🌱 Setting seed to 0\n"
     ]
    },
    {
     "name": "stderr",
     "output_type": "stream",
     "text": [
      "Stable gens:  87%|█████████████▊  | 866/1000 [03:18<00:29,  4.51it/s, #=9, loss=0.00245, size=12]/Users/nmm/Desktop/GRbNSR/synthetic/prog.py:384: RuntimeWarning: overflow encountered in double_scalars\n",
      "  val = curnode.params[0].curval * curnode.params[1].curval\n",
      "Stable gens: 100%|███████████████| 1000/1000 [03:49<00:00,  4.36it/s, #=9, loss=0.00245, size=12]"
     ]
    },
    {
     "name": "stdout",
     "output_type": "stream",
     "text": [
      "Done in 00:09:49. After 2544 generations.\n",
      "Best found generator:\n",
      "\t(* \n",
      " (+ 0.7926737487507015 0) \n",
      " (- \n",
      "  (MAX \n",
      "   (* $targ 2) $dist) \n",
      "  (ABS $targ)))\n",
      "\n",
      "========================================\n",
      "\n"
     ]
    },
    {
     "name": "stderr",
     "output_type": "stream",
     "text": [
      "\n"
     ]
    }
   ],
   "source": [
    "experiments = []\n",
    "\n",
    "for flnm, path in zip(nets_files, nets_paths): # for each network of the experiment\n",
    "\n",
    "    # load the network\n",
    "    #net = comprehensive_load_net(path, args[\"directed\"])\n",
    "    exp = flnm.split(\".\")[0]\n",
    "    experiments += [exp]\n",
    "    \n",
    "    output_exp = args[\"output_path\"]+\"{exp_name}\".format(exp_name=exp)\n",
    "    \n",
    "    exp_args = {\n",
    "        \"inet\":path,\n",
    "        \"odir\":output_exp,\n",
    "        \"undir\": not args[\"directed\"],\n",
    "        \"gens\":DEFAULT_GENERATIONS,\n",
    "        \"sr\":DEFAULT_SAMPLE_RATE,\n",
    "        \"tolerance\":DEFAULT_TOLERANCE,\n",
    "        \"gentype\":DEFAULT_GEN_TYPE,\n",
    "        \n",
    "        ## trad here --> arguments to instantiate the original distance method\n",
    "        \n",
    "        #\"bins\":DEFAULT_BINS,\n",
    "        #\"maxdist\":DEFAULT_MAX_DIST,\n",
    "        #\"rw\":True,\n",
    "        \n",
    "        # deep here --> arguments to instanciate the deep-distance\n",
    "        \"model_path\":'./DL_module/saved/best_models/PGCL/',\n",
    "        \"dist_type\":'euclidean',\n",
    "    }\n",
    "    \n",
    "    # --> multi runs\n",
    "    \n",
    "    multievo = MutliEvolve(\"multievo\")\n",
    "    \n",
    "\n",
    "    # 🏃 run experiments\n",
    "    multievo.run(\n",
    "        args = exp_args,\n",
    "        n_reps = args[\"n_rep\"],\n",
    "        n_processes = args[\"n_processes\"],\n",
    "        og_seed = _OG_SEED, \n",
    "        do_parallel = args[\"do_parallel\"],\n",
    "        #old_netfile = oldfile,\n",
    "    )"
   ]
  },
  {
   "cell_type": "code",
   "execution_count": null,
   "id": "de9a1d6a-efbe-446e-94e2-7c18c8c6252a",
   "metadata": {},
   "outputs": [],
   "source": []
  },
  {
   "cell_type": "code",
   "execution_count": null,
   "id": "8d3e5be3-ae03-4143-9668-b99fe4985926",
   "metadata": {},
   "outputs": [],
   "source": []
  },
  {
   "cell_type": "code",
   "execution_count": null,
   "id": "ab92c3d0-e589-4515-aa53-12ec460489b2",
   "metadata": {},
   "outputs": [],
   "source": []
  },
  {
   "cell_type": "markdown",
   "id": "281f2f2c-27b7-4b9d-b30f-b2c253972fee",
   "metadata": {},
   "source": [
    "---"
   ]
  },
  {
   "cell_type": "code",
   "execution_count": null,
   "id": "29528ba6-cd0d-453b-b253-bedeb80b0269",
   "metadata": {},
   "outputs": [],
   "source": []
  },
  {
   "cell_type": "code",
   "execution_count": null,
   "id": "b6534059-b1b7-462c-b111-4d9e78f57c78",
   "metadata": {},
   "outputs": [],
   "source": []
  }
 ],
 "metadata": {
  "kernelspec": {
   "display_name": "Python 3 (ipykernel)",
   "language": "python",
   "name": "python3"
  },
  "language_info": {
   "codemirror_mode": {
    "name": "ipython",
    "version": 3
   },
   "file_extension": ".py",
   "mimetype": "text/x-python",
   "name": "python",
   "nbconvert_exporter": "python",
   "pygments_lexer": "ipython3",
   "version": "3.10.6"
  }
 },
 "nbformat": 4,
 "nbformat_minor": 5
}
